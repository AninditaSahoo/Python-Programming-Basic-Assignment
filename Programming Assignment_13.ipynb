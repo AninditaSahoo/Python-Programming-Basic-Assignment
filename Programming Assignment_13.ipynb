{
 "cells": [
  {
   "cell_type": "markdown",
   "id": "bb1b1e44",
   "metadata": {},
   "source": [
    "# Python Programming Basic Assignment\n",
    "## Programming Assignment_13"
   ]
  },
  {
   "cell_type": "markdown",
   "id": "7a1ee9a1",
   "metadata": {},
   "source": [
    "<b><u>Question 1:</u></b>\n",
    "\n",
    "Write a program that calculates and prints the value according to the given formula: <b>Q = Square root of [(2 * C * D)/H]</b>\n",
    "\n",
    "Following are the fixed values of C and H: C is 50, H is 30.\n",
    "D is the variable whose values should be input to your program in a comma-separated sequence.\n",
    "\n",
    "<b>Example:</b>\n",
    "\n",
    "Let us assume the following comma separated input sequence is given to the program: <b>100,150,180.</b>\n",
    "\n",
    "The output of the program should be:<b>18,22,24</b>"
   ]
  },
  {
   "cell_type": "code",
   "execution_count": 1,
   "id": "199c15ff",
   "metadata": {},
   "outputs": [
    {
     "name": "stdout",
     "output_type": "stream",
     "text": [
      "Input Sequence is   : 100,150,180\n",
      "The output sequence is :  18,22,24"
     ]
    }
   ],
   "source": [
    "import math\n",
    "c = 50\n",
    "h = 30\n",
    "d = [int(i) for i in input(\"Input Sequence is   : \").split(\",\")]\n",
    "print(\"The output sequence is : \",end = \" \")\n",
    "for i in range(len(d)):\n",
    "    if i == len(d)-1:\n",
    "        print(int(math.sqrt((2*c*d[i])/h)),end =\"\")\n",
    "    else:\n",
    "        print(int(math.sqrt((2*c*d[i])/h)),end =\",\")"
   ]
  },
  {
   "cell_type": "markdown",
   "id": "c4d5bf17",
   "metadata": {},
   "source": [
    "<b><u>Question 2:</u></b>\n",
    "\n",
    "Write a program which takes 2 digits, X,Y as input and generates a 2-dimensional array. The element value in the i-th row and j-th column of the array should be i*j.\n",
    "\n",
    "<b><u>Note:</u></b>\n",
    "\n",
    "i=0,1,..., X-1; \n",
    "\n",
    "j=0,1,...,Y-1.\n",
    "\n",
    "<b>Example:</b>\n",
    "\n",
    "Suppose the following inputs are given to the program: <b>3,5</b>\n",
    "\n",
    "Then, the output of the program should be:\n",
    "<br><b>[[0, 0, 0, 0, 0],<br>[0, 1, 2, 3, 4], <br>[0, 2, 4, 6, 8]]</b>"
   ]
  },
  {
   "cell_type": "code",
   "execution_count": 2,
   "id": "322b9629",
   "metadata": {},
   "outputs": [
    {
     "name": "stdout",
     "output_type": "stream",
     "text": [
      "Enter the i value : 3\n",
      "Enter the j value : 5\n",
      "[[0, 0, 0, 0, 0], [0, 1, 2, 3, 4], [0, 2, 4, 6, 8]]\n"
     ]
    }
   ],
   "source": [
    "i = int(input(\"Enter the i value : \"))\n",
    "j = int(input(\"Enter the j value : \"))\n",
    "a = []\n",
    "for row in range(i):\n",
    "    p = []\n",
    "    for cols in range(j):\n",
    "        p.append(row*cols)\n",
    "    a.append(p)\n",
    "print(a)"
   ]
  },
  {
   "cell_type": "markdown",
   "id": "ba0a25cb",
   "metadata": {},
   "source": [
    "<b><u>Question 3:</u></b>\n",
    "\n",
    "Write a program that accepts a comma separated sequence of words as input and prints the words in a comma-separated sequence after sorting them alphabetically.\n",
    "\n",
    "<b>Example:</b>\n",
    "\n",
    "Suppose the following input is supplied to the program:<b>without,hello,bag,world</b>\n",
    "\n",
    "Then, the output should be: <b>bag,hello,without,world</b>"
   ]
  },
  {
   "cell_type": "code",
   "execution_count": 3,
   "id": "8472c722",
   "metadata": {},
   "outputs": [
    {
     "name": "stdout",
     "output_type": "stream",
     "text": [
      "without,hello,bag,world\n",
      "bag,hello,without,world"
     ]
    }
   ],
   "source": [
    "word_list = [i for i in input().split(\",\")]\n",
    "word_list.sort()\n",
    "for i in range(len(word_list)):\n",
    "    if i ==len(word_list)-1:\n",
    "        print(word_list[i],end=\"\")\n",
    "    else:\n",
    "        print(word_list[i],end=\",\")"
   ]
  },
  {
   "cell_type": "markdown",
   "id": "e5ccde48",
   "metadata": {},
   "source": [
    "<b><u>Question 4:</u></b>\n",
    "Write a program that accepts a sequence of whitespace separated words as input and prints the words after removing all duplicate words and sorting them alphanumerically.\n",
    "\n",
    "<b>Example:</b>\n",
    "\n",
    "Suppose the following input is supplied to the program:<b>hello world and practice makes perfect and hello world again </b>\n",
    "\n",
    "Then, the output should be:<b> again and hello makes perfect practice world</b>"
   ]
  },
  {
   "cell_type": "code",
   "execution_count": 4,
   "id": "0dc1466c",
   "metadata": {},
   "outputs": [
    {
     "name": "stdout",
     "output_type": "stream",
     "text": [
      "hello world and practice makes perfect and hello world again\n",
      "again and hello makes perfect practice world "
     ]
    }
   ],
   "source": [
    "word_sequence = [i for i in input().split()]\n",
    "word_sequence = set(word_sequence)\n",
    "word_sequence = list(word_sequence)\n",
    "word_sequence.sort()\n",
    "for i in word_sequence:\n",
    "    print(i,end=\" \")"
   ]
  },
  {
   "cell_type": "markdown",
   "id": "80a1120a",
   "metadata": {},
   "source": [
    "<b><u>Question 5:</u></b>\n",
    "\n",
    "Write a program that accepts a sentence and calculate the number of letters and digits.\n",
    "\n",
    "<b>Example: </b>\n",
    "\n",
    "Suppose the following input is supplied to the program:<b>hello world! 123</b>\n",
    "\n",
    "Then, the output should be:\n",
    "\n",
    "<b>LETTERS 10</b>\n",
    "    \n",
    "<b>DIGITS 3</b>"
   ]
  },
  {
   "cell_type": "code",
   "execution_count": 5,
   "id": "7ac0668f",
   "metadata": {},
   "outputs": [
    {
     "name": "stdout",
     "output_type": "stream",
     "text": [
      "hello world! 123\n",
      "LETTERS 10\n",
      "DIGITS 3\n"
     ]
    }
   ],
   "source": [
    "sentence = input()\n",
    "letter_count = 0\n",
    "digit_count = 0\n",
    "for i in sentence:\n",
    "    if i.isalpha():\n",
    "        letter_count +=1\n",
    "    elif i.isnumeric():\n",
    "        digit_count +=1\n",
    "print(\"LETTERS {}\".format(letter_count))\n",
    "print(\"DIGITS {}\".format(digit_count))"
   ]
  },
  {
   "cell_type": "markdown",
   "id": "11f14b20",
   "metadata": {},
   "source": [
    "<b><u>Question 6:</u></b>\n",
    "\n",
    "A website requires the users to input username and password to register. Write a program to check the validity of password input by users.\n",
    "Following are the criteria for checking the password:\n",
    "<ol><li>At least 1 letter between [a-z]</li>\n",
    "    <li>At least 1 number between [0-9]</li>\n",
    "    <li>At least 1 letter between [A-Z]</li>\n",
    "    <li>At least 1 character from [$#@]</li>\n",
    "    <li>Minimum length of transaction password: 6</li>\n",
    "    <li>Maximum length of transaction password: 12</li></ol>\n",
    "    \n",
    "Your program should accept a sequence of comma separated passwords and will check them according to the above criteria. Passwords that match the criteria are to be printed, each separated by a comma.\n",
    "\n",
    "<b>Example:</b>\n",
    "\n",
    "If the following passwords are given as input to the program:<b>ABd1234@1,a F1#,2w3E*,2We3345</b>\n",
    "\n",
    "Then, the output of the program should be:<b>ABd1234@1</b>"
   ]
  },
  {
   "cell_type": "code",
   "execution_count": 6,
   "id": "4b24e836",
   "metadata": {},
   "outputs": [
    {
     "name": "stdout",
     "output_type": "stream",
     "text": [
      "The sequence of passwords are : ABd1234@1,a F1#,2w3E*,2We3345\n",
      "The valid password is :  ABd1234@1\n"
     ]
    }
   ],
   "source": [
    "import re\n",
    "pws = [i for i in input(\"The sequence of passwords are : \").split(\",\")]\n",
    "print(\"The valid password is : \",end= \" \")\n",
    "count = 0\n",
    "for i in pws:\n",
    "    count = count + 1\n",
    "    if len(i)>6 and len(i)<24 and ((\"$\" in i) or (\"#\" in i) or (\"@\" in i)):\n",
    "        pattern = re.compile(r'[a-zA-Z0-9$#@]')\n",
    "        if pattern.match(i):\n",
    "            print(i)"
   ]
  }
 ],
 "metadata": {
  "kernelspec": {
   "display_name": "Python 3 (ipykernel)",
   "language": "python",
   "name": "python3"
  },
  "language_info": {
   "codemirror_mode": {
    "name": "ipython",
    "version": 3
   },
   "file_extension": ".py",
   "mimetype": "text/x-python",
   "name": "python",
   "nbconvert_exporter": "python",
   "pygments_lexer": "ipython3",
   "version": "3.8.5"
  },
  "toc": {
   "base_numbering": 1,
   "nav_menu": {},
   "number_sections": true,
   "sideBar": true,
   "skip_h1_title": false,
   "title_cell": "Table of Contents",
   "title_sidebar": "Contents",
   "toc_cell": false,
   "toc_position": {},
   "toc_section_display": true,
   "toc_window_display": false
  }
 },
 "nbformat": 4,
 "nbformat_minor": 5
}
