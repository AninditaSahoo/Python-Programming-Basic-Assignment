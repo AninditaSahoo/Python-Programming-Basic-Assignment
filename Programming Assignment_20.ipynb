{
 "cells": [
  {
   "cell_type": "markdown",
   "id": "5bcb8fe3",
   "metadata": {},
   "source": [
    "# Python Programming Basic Assignment\n",
    "## Programming Assignment_20"
   ]
  },
  {
   "cell_type": "markdown",
   "id": "9a4c7754",
   "metadata": {},
   "source": [
    "<b><u>Question1</u></b>\n",
    "\n",
    "Create a function that takes a list of strings and integers, and filters out the list so that it returns a list of integers only.\n",
    "\n",
    "<b>Examples: </b>\n",
    "\n",
    "filter_list([1, 2, 3, &quot;a&quot;, &quot;b&quot;, 4]) ➞ [1, 2, 3, 4]\n",
    "\n",
    "filter_list([&quot;A&quot;, 0, &quot;Edabit&quot;, 1729, &quot;Python&quot;, &quot;1729&quot;]) ➞ [0, 1729]\n",
    "\n",
    "filter_list([&quot;Nothing&quot;, &quot;here&quot;]) ➞ []"
   ]
  },
  {
   "cell_type": "code",
   "execution_count": 1,
   "id": "87be7cde",
   "metadata": {},
   "outputs": [
    {
     "name": "stdout",
     "output_type": "stream",
     "text": [
      "Provide the list : [\"A\", 0, \"Edabit\", 1729, \"Python\", \"1729\"]\n",
      "[0, 1729]\n"
     ]
    }
   ],
   "source": [
    "def filter_list(l):\n",
    "    global ans\n",
    "    for i in l:\n",
    "        if type(i) == int:\n",
    "            if i >= 0 :\n",
    "                ans.append(i)\n",
    "    return ans\n",
    "l = eval(input(\"Provide the list : \"))\n",
    "global ans\n",
    "ans = []\n",
    "print(filter_list(l))"
   ]
  },
  {
   "cell_type": "markdown",
   "id": "f4b76f90",
   "metadata": {},
   "source": [
    "<b>Answer:\n",
    "<br>Provide the list : [\"A\", 0, \"Edabit\", 1729, \"Python\", \"1729\"]\n",
    "<br>[0, 1729]</b>"
   ]
  },
  {
   "cell_type": "markdown",
   "id": "1e15e13a",
   "metadata": {},
   "source": [
    "<b><u>Question2</u></b>\n",
    "\n",
    "Given a list of numbers, create a function which returns the list but with each element&#39;s index in the list added to itself. This means you add 0 to the number at index 0, add 1 to the number at index 1, etc...\n",
    "\n",
    "<b>Examples </b>\n",
    "\n",
    "add_indexes([0, 0, 0, 0, 0]) ➞ [0, 1, 2, 3, 4]\n",
    "\n",
    "add_indexes([1, 2, 3, 4, 5]) ➞ [1, 3, 5, 7, 9]\n",
    "\n",
    "add_indexes([5, 4, 3, 2, 1]) ➞ [5, 5, 5, 5, 5]"
   ]
  },
  {
   "cell_type": "code",
   "execution_count": 2,
   "id": "79fd50a3",
   "metadata": {},
   "outputs": [
    {
     "name": "stdout",
     "output_type": "stream",
     "text": [
      "Enter the list : [1, 2, 3, 4, 5]\n",
      "[1, 3, 5, 7, 9]\n"
     ]
    }
   ],
   "source": [
    "def add_indexes(l1):\n",
    "    l2 = []\n",
    "    for i,j in enumerate(l1):\n",
    "        l2.append(i+j)\n",
    "    return l2\n",
    "l1 = eval(input(\"Enter the list : \"))\n",
    "print(add_indexes(l1))"
   ]
  },
  {
   "cell_type": "markdown",
   "id": "d39fd449",
   "metadata": {},
   "source": [
    "<b>Answer:\n",
    "<br>Enter the list : [1, 2, 3, 4, 5]\n",
    "<br>[1, 3, 5, 7, 9]</b>"
   ]
  },
  {
   "attachments": {
    "image.png": {
     "image/png": "[encoded data removed]"
    }
   },
   "cell_type": "markdown",
   "id": "f8b05c49",
   "metadata": {},
   "source": [
    "<b><u>Question3</u></b>\n",
    "\n",
    "Create a function that takes the height and radius of a cone as arguments and returns the volume of the cone rounded to the nearest hundredth. See the resources tab for the formula.\n",
    "\n",
    "![image.png](attachment:image.png)\n",
    "\n",
    "<b>Examples :</b>\n",
    "\n",
    "cone_volume(3, 2) ➞ 12.57\n",
    "\n",
    "cone_volume(15, 6) ➞ 565.49\n",
    "\n",
    "cone_volume(18, 0) ➞ 0"
   ]
  },
  {
   "cell_type": "code",
   "execution_count": 3,
   "id": "b91c2dd6",
   "metadata": {},
   "outputs": [
    {
     "name": "stdout",
     "output_type": "stream",
     "text": [
      "Enter the h and r value (with comma separated) : 15,6\n",
      "565.49\n"
     ]
    }
   ],
   "source": [
    "import math\n",
    "def cone_volumn(h,r):\n",
    "    return round((1/3)*math.pi*(int(r)**2)*int(h),2)\n",
    "h,r = input(\"Enter the h and r value (with comma separated) : \").split(\",\")\n",
    "print(cone_volumn(h,r))"
   ]
  },
  {
   "cell_type": "markdown",
   "id": "2f0dddb6",
   "metadata": {},
   "source": [
    "<b>Answer:\n",
    "<br>Enter the h and r value (with comma separated)15,6\n",
    "<br>565.49</b>"
   ]
  },
  {
   "cell_type": "markdown",
   "id": "269d9089",
   "metadata": {},
   "source": [
    "<b><u>Question4 </u></b>\n",
    "\n",
    "This Triangular Number Sequence is generated from a pattern of dots that form a triangle. The first 5 numbers of the sequence, or dots, are: 1, 3, 6, 10, 15\n",
    "\n",
    "This means that the first triangle has just one dot, the second one has three dots, the third one has 6 dots and so on.\n",
    "Write a function that gives the number of dots with its corresponding triangle number of the sequence.\n",
    "\n",
    "<b>Examples </b>\n",
    "\n",
    "triangle(1) ➞ 1\n",
    "\n",
    "triangle(6) ➞ 21\n",
    "\n",
    "triangle(215) ➞ 23220"
   ]
  },
  {
   "cell_type": "code",
   "execution_count": 4,
   "id": "0b26fa16",
   "metadata": {},
   "outputs": [
    {
     "name": "stdout",
     "output_type": "stream",
     "text": [
      "Enter the number : 215\n"
     ]
    },
    {
     "data": {
      "text/plain": [
       "23220"
      ]
     },
     "execution_count": 4,
     "metadata": {},
     "output_type": "execute_result"
    }
   ],
   "source": [
    "def triangle(n):\n",
    "    if n == 0:\n",
    "        pass\n",
    "    elif n ==1 :\n",
    "        return 1\n",
    "    else:\n",
    "        return n+triangle(n-1)\n",
    "n = int(input(\"Enter the number : \"))\n",
    "triangle(n)"
   ]
  },
  {
   "cell_type": "markdown",
   "id": "72928b1e",
   "metadata": {},
   "source": [
    "<b>Answer:\n",
    "<br>Enter the number : 215\n",
    "<br>23220</b>"
   ]
  },
  {
   "cell_type": "markdown",
   "id": "8d894337",
   "metadata": {},
   "source": [
    "###### <b><u>Question5 </u></b>\n",
    "\n",
    "Create a function that takes a list of numbers between 1 and 10 (excluding one number) and returns the missing number.\n",
    "\n",
    "<b>Examples : </b>\n",
    "\n",
    "missing_num([1, 2, 3, 4, 6, 7, 8, 9, 10]) ➞ 5\n",
    "\n",
    "missing_num([7, 2, 3, 6, 5, 9, 1, 4, 8]) ➞ 10\n",
    "\n",
    "missing_num([10, 5, 1, 2, 4, 6, 8, 3, 9]) ➞ 7"
   ]
  },
  {
   "cell_type": "code",
   "execution_count": 5,
   "id": "a661b20b",
   "metadata": {},
   "outputs": [
    {
     "name": "stdout",
     "output_type": "stream",
     "text": [
      "Enter the list : [10, 5, 1, 2, 4, 6, 8, 3, 9]\n",
      "7\n"
     ]
    }
   ],
   "source": [
    "l = eval(input(\"Enter the list : \"))\n",
    "def missing_num(l):\n",
    "    res = set(l).symmetric_difference(set(list(range(1,11))))\n",
    "    final_res = res.pop()\n",
    "    return final_res\n",
    "print(missing_num(l))"
   ]
  },
  {
   "cell_type": "markdown",
   "id": "23b9efcd",
   "metadata": {},
   "source": [
    "<b>Answer:\n",
    "<br>Enter the list : [10, 5, 1, 2, 4, 6, 8, 3, 9]\n",
    "<br>7</b>"
   ]
  }
 ],
 "metadata": {
  "kernelspec": {
   "display_name": "Python 3 (ipykernel)",
   "language": "python",
   "name": "python3"
  },
  "language_info": {
   "codemirror_mode": {
    "name": "ipython",
    "version": 3
   },
   "file_extension": ".py",
   "mimetype": "text/x-python",
   "name": "python",
   "nbconvert_exporter": "python",
   "pygments_lexer": "ipython3",
   "version": "3.8.5"
  },
  "toc": {
   "base_numbering": 1,
   "nav_menu": {},
   "number_sections": true,
   "sideBar": true,
   "skip_h1_title": false,
   "title_cell": "Table of Contents",
   "title_sidebar": "Contents",
   "toc_cell": false,
   "toc_position": {},
   "toc_section_display": true,
   "toc_window_display": false
  }
 },
 "nbformat": 4,
 "nbformat_minor": 5
}
