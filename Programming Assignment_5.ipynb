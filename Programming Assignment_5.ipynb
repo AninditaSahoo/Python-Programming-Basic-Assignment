{
 "cells": [
  {
   "cell_type": "markdown",
   "id": "6981e8dd",
   "metadata": {},
   "source": [
    "# Python Programming Basic Assignment\n",
    "## Programming Assignment_5"
   ]
  },
  {
   "cell_type": "markdown",
   "id": "ceae1a2c",
   "metadata": {},
   "source": [
    "<b>Q1. </b>Write a Python Program to Find LCM?"
   ]
  },
  {
   "cell_type": "code",
   "execution_count": 1,
   "id": "3b423c2b",
   "metadata": {},
   "outputs": [
    {
     "name": "stdout",
     "output_type": "stream",
     "text": [
      "Enter the 1st number : 3\n",
      "Enter the 2nd number : 5\n",
      "LCM of 3 and 5 is 15\n"
     ]
    }
   ],
   "source": [
    "n1 = int(input(\"Enter the 1st number : \"))\n",
    "n2 = int(input(\"Enter the 2nd number : \"))\n",
    "a,b = n1,n2\n",
    "while n2:\n",
    "    n1,n2 = n2,n1%n2\n",
    "hcf = n1\n",
    "lcm = (a*b)/hcf\n",
    "print(\"LCM of {} and {} is {}\".format(a,b,int(lcm)))"
   ]
  },
  {
   "cell_type": "markdown",
   "id": "023f59ae",
   "metadata": {},
   "source": [
    "<b>Q2. </b>Write a Python Program to Find HCF?"
   ]
  },
  {
   "cell_type": "code",
   "execution_count": 2,
   "id": "911810bc",
   "metadata": {},
   "outputs": [
    {
     "name": "stdout",
     "output_type": "stream",
     "text": [
      "Enter the 1st number : 12\n",
      "Enter the 2nd number : 36\n",
      "HCF of 12 and 36 is 12\n"
     ]
    }
   ],
   "source": [
    "n1 = int(input(\"Enter the 1st number : \"))\n",
    "n2 = int(input(\"Enter the 2nd number : \"))\n",
    "a,b = n1,n2\n",
    "while n2:\n",
    "    n1,n2 = n2,n1%n2\n",
    "hcf = n1\n",
    "print(\"HCF of {} and {} is {}\".format(a,b,hcf))"
   ]
  },
  {
   "cell_type": "markdown",
   "id": "b7eef36b",
   "metadata": {},
   "source": [
    "<b>Q3. </b>Write a Python Program to Convert Decimal to Binary, Octal and Hexadecimal?"
   ]
  },
  {
   "cell_type": "code",
   "execution_count": 3,
   "id": "16bc8298",
   "metadata": {},
   "outputs": [
    {
     "name": "stdout",
     "output_type": "stream",
     "text": [
      "Enter the decimal number : 12\n",
      "Decimal = 12 , Binary = 0b1100, Octal = 0o14, Hexadecimal = 0xc\n"
     ]
    }
   ],
   "source": [
    "num = int(input(\"Enter the decimal number : \"))\n",
    "print(\"Decimal = {} , Binary = {}, Octal = {}, Hexadecimal = {}\".format(num,bin(num),oct(num),hex(num)))"
   ]
  },
  {
   "cell_type": "markdown",
   "id": "39f52040",
   "metadata": {},
   "source": [
    "<b>Q4. </b>Write a Python Program To Find ASCII value of a character?"
   ]
  },
  {
   "cell_type": "code",
   "execution_count": 4,
   "id": "9df50c02",
   "metadata": {},
   "outputs": [
    {
     "name": "stdout",
     "output_type": "stream",
     "text": [
      "Enter a character : a\n",
      "The ASCII value of a is 97\n"
     ]
    }
   ],
   "source": [
    "a =input(\"Enter a character : \")\n",
    "print(\"The ASCII value of {} is {}\".format(a,ord(a)))"
   ]
  },
  {
   "cell_type": "markdown",
   "id": "c76cc18d",
   "metadata": {},
   "source": [
    "<b>Q5. </b>Write a Python Program to Make a Simple Calculator with 4 basic mathematical operations?"
   ]
  },
  {
   "cell_type": "code",
   "execution_count": 5,
   "id": "8c139a88",
   "metadata": {},
   "outputs": [
    {
     "name": "stdout",
     "output_type": "stream",
     "text": [
      "Enter the 1st number: 2\n",
      "Enter the 2nd number: 3\n",
      "Enter the mathematical operation : *\n",
      "2 * 3 = 6\n"
     ]
    }
   ],
   "source": [
    "n1 = int(input(\"Enter the 1st number: \"))\n",
    "n2 = int(input(\"Enter the 2nd number: \"))\n",
    "operation = input(\"Enter the mathematical operation : \")\n",
    "if operation == '+':\n",
    "    print(\"{} {} {} = {}\".format(n1,operation,n2,n1+n2))\n",
    "elif operation == '-':\n",
    "    print(\"{} {} {} = {}\".format(n1,operation,n2,n1-n2))\n",
    "elif operation == '*':\n",
    "    print(\"{} {} {} = {}\".format(n1,operation,n2,n1*n2))\n",
    "elif operation == '/':\n",
    "    if n2 !=0:\n",
    "        print(\"{} {} {} = {:.2f}\".format(n1,operation,n2,n1/n2))\n",
    "    else:\n",
    "        print(\"Not possible to divide with zero\")\n",
    "else:\n",
    "    print(\"Enter the proper mathematical operation\")"
   ]
  }
 ],
 "metadata": {
  "kernelspec": {
   "display_name": "Python 3 (ipykernel)",
   "language": "python",
   "name": "python3"
  },
  "language_info": {
   "codemirror_mode": {
    "name": "ipython",
    "version": 3
   },
   "file_extension": ".py",
   "mimetype": "text/x-python",
   "name": "python",
   "nbconvert_exporter": "python",
   "pygments_lexer": "ipython3",
   "version": "3.8.5"
  },
  "toc": {
   "base_numbering": 1,
   "nav_menu": {},
   "number_sections": true,
   "sideBar": true,
   "skip_h1_title": false,
   "title_cell": "Table of Contents",
   "title_sidebar": "Contents",
   "toc_cell": false,
   "toc_position": {},
   "toc_section_display": true,
   "toc_window_display": false
  }
 },
 "nbformat": 4,
 "nbformat_minor": 5
}
