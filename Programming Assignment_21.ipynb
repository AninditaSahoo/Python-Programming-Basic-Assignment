{
 "cells": [
  {
   "cell_type": "markdown",
   "id": "772b6d6d",
   "metadata": {},
   "source": [
    "# Python Programming Basic Assignment\n",
    "## Programming Assignment_21"
   ]
  },
  {
   "cell_type": "markdown",
   "id": "682e5e00",
   "metadata": {},
   "source": [
    "<b><u>Question1</u></b>\n",
    "\n",
    "Write a function that takes a list and a number as arguments. Add the number to the end of the list, then remove the first element of the list. The function should then return the updated list.\n",
    "\n",
    "<b>Examples : </b>\n",
    "\n",
    "next_in_line([5, 6, 7, 8, 9], 1) ➞ [6, 7, 8, 9, 1]\n",
    "\n",
    "next_in_line([7, 6, 3, 23, 17], 10) ➞ [6, 3, 23, 17, 10]\n",
    "\n",
    "next_in_line([1, 10, 20, 42 ], 6) ➞ [10, 20, 42, 6]\n",
    "\n",
    "next_in_line([], 6) ➞ &quot;No list has been selected&quot;"
   ]
  },
  {
   "cell_type": "code",
   "execution_count": 1,
   "id": "8ea96cbb",
   "metadata": {},
   "outputs": [
    {
     "name": "stdout",
     "output_type": "stream",
     "text": [
      "Enter the list : [1, 10, 20, 42]\n",
      "Enter the element : 6\n",
      "[10, 20, 42, 6]\n"
     ]
    }
   ],
   "source": [
    "def next_in_line(l,ele):\n",
    "    l.append(ele)\n",
    "    return l[1:]\n",
    "l = eval(input(\"Enter the list : \"))\n",
    "ele = int(input(\"Enter the element : \"))\n",
    "print(next_in_line(l,ele))"
   ]
  },
  {
   "cell_type": "markdown",
   "id": "1f92303f",
   "metadata": {},
   "source": [
    "<b>Answer:\n",
    "<br>Enter the list : [1, 10, 20, 42]\n",
    "<br>Enter the element : 6\n",
    "<br>[10, 20, 42, 6]</b>"
   ]
  },
  {
   "cell_type": "markdown",
   "id": "d9a58164",
   "metadata": {},
   "source": [
    "<b><u>Question2:</u></b>\n",
    "\n",
    "Create the function that takes a list of dictionaries and returns the sum of people&#39;s budgets.\n",
    "\n",
    "<b>Examples:</b>\n",
    "\n",
    "get_budgets([\n",
    "    { &quot;name&quot;: &quot;John&quot;, &quot;age&quot;: 21, &quot;budget&quot;: 23000 },\n",
    "    { &quot;name&quot;: &quot;Steve&quot;, &quot;age&quot;: 32, &quot;budget&quot;: 40000 },\n",
    "    { &quot;name&quot;: &quot;Martin&quot;, &quot;age&quot;: 16, &quot;budget&quot;: 2700 }\n",
    "    ]) ➞ 65700\n",
    "\n",
    "get_budgets([\n",
    "{ &quot;name&quot;: &quot;John&quot;, &quot;age&quot;: 21, &quot;budget&quot;: 29000 },\n",
    "{ &quot;name&quot;: &quot;Steve&quot;, &quot;age&quot;: 32, &quot;budget&quot;: 32000 },\n",
    "{ &quot;name&quot;: &quot;Martin&quot;, &quot;age&quot;: 16, &quot;budget&quot;: 1600 }\n",
    "]) ➞ 62600"
   ]
  },
  {
   "cell_type": "code",
   "execution_count": 2,
   "id": "aa3ff9eb",
   "metadata": {},
   "outputs": [
    {
     "name": "stdout",
     "output_type": "stream",
     "text": [
      "Enter the list of dictionaries : [ { \"name\": \"John\", \"age\": 21, \"budget\": 29000 }, { \"name\": \"Steve\", \"age\": 32, \"budget\": 32000 }, { \"name\": \"Martin\", \"age\": 16, \"budget\": 1600 } ]\n",
      "62600\n"
     ]
    }
   ],
   "source": [
    "def get_budgets(l):\n",
    "    res = 0\n",
    "    for i in l:\n",
    "        for k,v in i.items():\n",
    "            if k ==\"budget\":\n",
    "                res = res+v\n",
    "    return res\n",
    "l = eval(input(\"Enter the list of dictionaries : \"))    \n",
    "print(get_budgets(l))"
   ]
  },
  {
   "cell_type": "markdown",
   "id": "4c9637dd",
   "metadata": {},
   "source": [
    "<b>Answer:\n",
    "<br>Enter the list of dictionaries : [ { \"name\": \"John\", \"age\": 21, \"budget\": 29000 }, { \"name\": \"Steve\", \"age\": 32, \"budget\": 32000 }, { \"name\": \"Martin\", \"age\": 16, \"budget\": 1600 } ]\n",
    "<br>62600</b>"
   ]
  },
  {
   "cell_type": "markdown",
   "id": "73c8a19e",
   "metadata": {},
   "source": [
    "<b><u> Question3 </u></b>\n",
    "\n",
    "Create a function that takes a string and returns a string with its letters in alphabetical order.\n",
    "\n",
    "<b>Examples : </b>\n",
    "\n",
    "alphabet_soup(&quot;hello&quot;) ➞ &quot;ehllo&quot;\n",
    "\n",
    "alphabet_soup(&quot;edabit&quot;) ➞ &quot;abdeit&quot;\n",
    "\n",
    "alphabet_soup(&quot;hacker&quot;) ➞ &quot;acehkr&quot;\n",
    "\n",
    "alphabet_soup(&quot;geek&quot;) ➞ &quot;eegk&quot;\n",
    "\n",
    "alphabet_soup(&quot;javascript&quot;) ➞ &quot;aacijprstv&quot;"
   ]
  },
  {
   "cell_type": "code",
   "execution_count": 3,
   "id": "8ac7527d",
   "metadata": {},
   "outputs": [
    {
     "name": "stdout",
     "output_type": "stream",
     "text": [
      "Enter the string : edabit\n",
      "abdeit\n"
     ]
    }
   ],
   "source": [
    "def alphabet_soup(s):\n",
    "    q = list(s)\n",
    "    q.sort()\n",
    "    return \"\".join(q)\n",
    "s = input(\"Enter the string : \")\n",
    "print(alphabet_soup(s))"
   ]
  },
  {
   "cell_type": "markdown",
   "id": "acf85f28",
   "metadata": {},
   "source": [
    "<b>Answer:\n",
    "<br>Enter the string : edabit\n",
    "<br>abdeit</b>"
   ]
  },
  {
   "cell_type": "markdown",
   "id": "ad8a015f",
   "metadata": {},
   "source": [
    "<b><u>Question4</u></b>\n",
    "\n",
    "Suppose that you invest $10,000 for 10 years at an interest rate of 6% compounded monthly.What will be the value of your investment at the end of the 10 year period?\n",
    "\n",
    "Create a function that accepts the principal p, the term in years t, the interest rate r, and the number of compounding periods per year n. The function returns the value at the end of term rounded to the nearest cent.\n",
    "\n",
    "<b>For the example above:</b>\n",
    "\n",
    "compound_interest(10000, 10, 0.06, 12) ➞ 18193.97\n",
    "\n",
    "Note that the interest rate is given as a decimal and n=12 because with monthly compounding there are 12 periods per year. Compounding can also be done annually, quarterly, weekly, or daily.\n",
    "\n",
    "<b>Examples : </b>\n",
    "\n",
    "compound_interest(100, 1, 0.05, 1) ➞ 105.0\n",
    "\n",
    "compound_interest(3500, 15, 0.1, 4) ➞ 15399.26\n",
    "\n",
    "compound_interest(100000, 20, 0.15, 365) ➞ 2007316.26"
   ]
  },
  {
   "cell_type": "code",
   "execution_count": 4,
   "id": "c9be2fa5",
   "metadata": {},
   "outputs": [
    {
     "name": "stdout",
     "output_type": "stream",
     "text": [
      "Enter the p, t, r and n value (with comma separated) : 100000, 20, 0.15, 365\n",
      "2007316.26\n"
     ]
    }
   ],
   "source": [
    "p,t,r,n = input(\"Enter the p, t, r and n value (with comma separated) : \").split(\",\")\n",
    "def compound_interest(p,t,r,n):\n",
    "    return round(int(p)*(1+float(r)/int(n))**(int(n)*int(t)),2)\n",
    "print(compound_interest(p,t,r,n))"
   ]
  },
  {
   "cell_type": "markdown",
   "id": "63f984c6",
   "metadata": {},
   "source": [
    "<b>Answer:\n",
    "<br>Enter the p, t, r and n value (with comma separated) : 100000, 20, 0.15, 365\n",
    "<br>2007316.26</b>    "
   ]
  },
  {
   "cell_type": "markdown",
   "id": "09517728",
   "metadata": {},
   "source": [
    "<b><u>Question5</u></b>\n",
    "\n",
    "Write a function that takes a list of elements and returns only the integers.\n",
    "\n",
    "<b>Examples : </b>\n",
    "\n",
    "return_only_integer([9, 2, &quot;space&quot;, &quot;car&quot;, &quot;lion&quot;, 16]) ➞ [9, 2, 16]\n",
    "\n",
    "return_only_integer([&quot;hello&quot;, 81, &quot;basketball&quot;, 123, &quot;fox&quot;]) ➞ [81, 123]\n",
    "\n",
    "return_only_integer([10, &quot;121&quot;, 56, 20, &quot;car&quot;, 3, &quot;lion&quot;]) ➞ [10, 56, 20,3]\n",
    "\n",
    "return_only_integer([&quot;String&quot;, True, 3.3, 1]) ➞ [1]"
   ]
  },
  {
   "cell_type": "code",
   "execution_count": 5,
   "id": "761351b9",
   "metadata": {},
   "outputs": [
    {
     "name": "stdout",
     "output_type": "stream",
     "text": [
      "Provide the list : [10, \"121\", 56, 20, \"car\", 3, \"lion\"]\n",
      "[10, 56, 20, 3]\n"
     ]
    }
   ],
   "source": [
    "def return_only_integer(l):\n",
    "    ans = []\n",
    "    for i in l:\n",
    "        if type(i) == int:\n",
    "            if i >= 0 :\n",
    "                ans.append(i)\n",
    "    return ans\n",
    "l = eval(input(\"Provide the list : \"))\n",
    "print(return_only_integer(l))"
   ]
  },
  {
   "cell_type": "markdown",
   "id": "6ff21805",
   "metadata": {},
   "source": [
    "<b>Answer:\n",
    "<br>Provide the list : [10, \"121\", 56, 20, \"car\", 3, \"lion\"]\n",
    "<br>[10, 56, 20, 3]</b>"
   ]
  }
 ],
 "metadata": {
  "kernelspec": {
   "display_name": "Python 3 (ipykernel)",
   "language": "python",
   "name": "python3"
  },
  "language_info": {
   "codemirror_mode": {
    "name": "ipython",
    "version": 3
   },
   "file_extension": ".py",
   "mimetype": "text/x-python",
   "name": "python",
   "nbconvert_exporter": "python",
   "pygments_lexer": "ipython3",
   "version": "3.8.5"
  },
  "toc": {
   "base_numbering": 1,
   "nav_menu": {},
   "number_sections": true,
   "sideBar": true,
   "skip_h1_title": false,
   "title_cell": "Table of Contents",
   "title_sidebar": "Contents",
   "toc_cell": false,
   "toc_position": {},
   "toc_section_display": true,
   "toc_window_display": false
  }
 },
 "nbformat": 4,
 "nbformat_minor": 5
}
