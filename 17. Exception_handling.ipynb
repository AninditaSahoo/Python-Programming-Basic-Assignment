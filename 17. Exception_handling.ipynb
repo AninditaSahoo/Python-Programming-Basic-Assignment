{
 "cells": [
  {
   "cell_type": "markdown",
   "metadata": {},
   "source": [
    "# Exception handling"
   ]
  },
  {
   "cell_type": "markdown",
   "metadata": {},
   "source": [
    "<img src=\"exception.gif\" width=\"450\" align=\"left\">"
   ]
  },
  {
   "cell_type": "markdown",
   "metadata": {},
   "source": [
    "In our Programs, we has been getting some or the other errors but we had not mentioned much about them. Bascially there are two kinds of error.\n",
    "<ol><li>Syntax error</li><li>Exceptions</li></ol>\n",
    "\n",
    "Two common type of errors are: <ol><li> Syntax Error</li> <li>Logic Errors</li></ol>\n",
    "\n",
    "While Logic Error occur due to poor understanding of problem and its solution.\n",
    "\n",
    "Syntax Error arises, due to poor understanding of the language. Such error can be detected by exhaustive debugging and testing of procedures.\n",
    "\n",
    "<b> Exception</b> are run-time anomalies<b>(such as divide by zero, accessing array out of its bounds, running out of memory or disk space, overflow and underflow)</b> that a program may encounter during execution.\n",
    "\n",
    "Like errors, exceptions can also be catagorized into 2 catagories. Such as: <b><ol><li>Synchronous exception</li><li>Asynchronous exception  </li></ol></b>\n",
    "\n",
    "<b>Synchronous Exceptions</b>(like divide by zero, array out of bound etc.)can be controlled by the program\n",
    "<b>Asychronous Exceptions</b>(like an interrupt from the keyboard, hardware malfunction or disk failure) on the other hand are caused by events that are beyond the control of the program.\n",
    "\n",
    "When a program raisses an exeption, it must handle the exception or the program will be immediately terminated. If exceptions are not handeled by programs, then error messages are generated.\n",
    "\n",
    "<b> Standard exception names are build-in identifiers and not reserved keywords.</b>"
   ]
  },
  {
   "cell_type": "markdown",
   "metadata": {},
   "source": [
    "# Try and Except block:"
   ]
  },
  {
   "cell_type": "markdown",
   "metadata": {},
   "source": [
    "We can handle exceptions in our program by using <b> try block and except block. \n",
    "\n",
    "<u>Steps:</b></u>\n",
    "\n",
    "<ol><li>First, the try block is executed.</li>\n",
    "<li> If no exception occurs, the except block is skipped.</li>\n",
    "<li> If an exception occurs during excecution of statement in the try block.</li>\n",
    "    <ol> <li> Rest of the statement in the try block are skipped.</li>\n",
    "        <li> If the exception type mateches the exception named after the <b>except </b> keyword, the except block is executed and then execution continues after the try statement.\n",
    "        <li> If an exception occurs which doesn't match the exception named in the <b>except block</b>, then it is passed on to outer try block(in case of nested try blocks). If no exception handler is found in the program, then it is an unhandled exception and the program is terminated with an error message."
   ]
  },
  {
   "cell_type": "markdown",
   "metadata": {},
   "source": [
    "### Example:\n",
    "<b> Program to handle the divide by zero exception.</b>"
   ]
  },
  {
   "cell_type": "code",
   "execution_count": 3,
   "metadata": {},
   "outputs": [
    {
     "name": "stdout",
     "output_type": "stream",
     "text": [
      "Enter Numerator: 23\n",
      "Enter Denominator: 0\n"
     ]
    },
    {
     "ename": "ZeroDivisionError",
     "evalue": "division by zero",
     "output_type": "error",
     "traceback": [
      "\u001b[1;31m---------------------------------------------------------------------------\u001b[0m",
      "\u001b[1;31mZeroDivisionError\u001b[0m                         Traceback (most recent call last)",
      "\u001b[1;32m<ipython-input-3-751ffeb4f10b>\u001b[0m in \u001b[0;36m<module>\u001b[1;34m\u001b[0m\n\u001b[0;32m      1\u001b[0m \u001b[0mn1\u001b[0m \u001b[1;33m=\u001b[0m \u001b[0mint\u001b[0m\u001b[1;33m(\u001b[0m\u001b[0minput\u001b[0m\u001b[1;33m(\u001b[0m\u001b[1;34m\"Enter Numerator: \"\u001b[0m\u001b[1;33m)\u001b[0m\u001b[1;33m)\u001b[0m\u001b[1;33m\u001b[0m\u001b[1;33m\u001b[0m\u001b[0m\n\u001b[0;32m      2\u001b[0m \u001b[0mn2\u001b[0m \u001b[1;33m=\u001b[0m \u001b[0mint\u001b[0m\u001b[1;33m(\u001b[0m\u001b[0minput\u001b[0m\u001b[1;33m(\u001b[0m\u001b[1;34m\"Enter Denominator: \"\u001b[0m\u001b[1;33m)\u001b[0m\u001b[1;33m)\u001b[0m\u001b[1;33m\u001b[0m\u001b[1;33m\u001b[0m\u001b[0m\n\u001b[1;32m----> 3\u001b[1;33m \u001b[0mq\u001b[0m \u001b[1;33m=\u001b[0m \u001b[0mn1\u001b[0m\u001b[1;33m/\u001b[0m\u001b[0mn2\u001b[0m\u001b[1;33m\u001b[0m\u001b[1;33m\u001b[0m\u001b[0m\n\u001b[0m\u001b[0;32m      4\u001b[0m \u001b[0mprint\u001b[0m\u001b[1;33m(\u001b[0m\u001b[1;34m\"Quotient = \"\u001b[0m\u001b[1;33m,\u001b[0m\u001b[0mq\u001b[0m\u001b[1;33m)\u001b[0m\u001b[1;33m\u001b[0m\u001b[1;33m\u001b[0m\u001b[0m\n",
      "\u001b[1;31mZeroDivisionError\u001b[0m: division by zero"
     ]
    }
   ],
   "source": [
    "n1 = int(input(\"Enter Numerator: \"))\n",
    "n2 = int(input(\"Enter Denominator: \"))\n",
    "q = n1/n2\n",
    "print(\"Quotient = \",q)"
   ]
  },
  {
   "cell_type": "code",
   "execution_count": 5,
   "metadata": {},
   "outputs": [
    {
     "name": "stdout",
     "output_type": "stream",
     "text": [
      "Enter Numerator: 23\n",
      "Enter Denominator: 0\n",
      "Denominator can't be Zero\n"
     ]
    }
   ],
   "source": [
    "n1 = int(input(\"Enter Numerator: \"))\n",
    "n2 = int(input(\"Enter Denominator: \"))\n",
    "try: \n",
    "    q = n1/n2\n",
    "    print(\"Quotient = \",q)\n",
    "except ZeroDivisionError:\n",
    "    print(\"Denominator can't be Zero\")"
   ]
  },
  {
   "cell_type": "markdown",
   "metadata": {},
   "source": [
    "<b><u> Hint:</u></b>\n",
    "Exception gives the information like what, why and how something went wrong."
   ]
  },
  {
   "cell_type": "markdown",
   "metadata": {},
   "source": [
    "# Multiple Except Block:"
   ]
  },
  {
   "cell_type": "markdown",
   "metadata": {},
   "source": [
    "Python allows you to have multiple except block for a single try block. The block which matches with the exception generated will get executed. A try block can be associated with more than one except block to specify handlers of different exceptions. <b>Exception handler</b> only handle exceptions that occur in the corresponding try block. "
   ]
  },
  {
   "cell_type": "markdown",
   "metadata": {},
   "source": [
    "### Example:\n",
    "<b> Program with multiple except block.</b>"
   ]
  },
  {
   "cell_type": "code",
   "execution_count": 6,
   "metadata": {},
   "outputs": [
    {
     "name": "stdout",
     "output_type": "stream",
     "text": [
      "Enter a number : u\n",
      "Only number is allowed....\n",
      "Bye!!!\n"
     ]
    }
   ],
   "source": [
    "try:\n",
    "    num = int(input(\"Enter a number : \"))\n",
    "    print(num**2)\n",
    "except KeyboardInterrupt:\n",
    "    print(\"You should have entered something...\")\n",
    "except ValueError:\n",
    "    print(\"Only number is allowed....\")\n",
    "print(\"Bye!!!\")"
   ]
  },
  {
   "cell_type": "markdown",
   "metadata": {},
   "source": [
    "### Example:\n",
    "<b> Program having an except clause handling multiple exceptions simultaneously.</b>"
   ]
  },
  {
   "cell_type": "code",
   "execution_count": 7,
   "metadata": {},
   "outputs": [
    {
     "name": "stdout",
     "output_type": "stream",
     "text": [
      "Enter a number : t\n",
      "You should have entered a number...\n",
      "Bye!!!\n"
     ]
    }
   ],
   "source": [
    "try:\n",
    "    num = int(input(\"Enter a number : \"))\n",
    "    print(num**2)\n",
    "except (KeyboardInterrupt,TypeError,ValueError):\n",
    "    print(\"You should have entered a number...\")\n",
    "print(\"Bye!!!\")"
   ]
  },
  {
   "cell_type": "markdown",
   "metadata": {},
   "source": [
    "# Except block without exception:"
   ]
  },
  {
   "cell_type": "markdown",
   "metadata": {},
   "source": [
    "You can even specify an except block without mentioning any exception. This type of except block if present , should be the lastone that can serve as a wildcard. But use it with <b> extreme caution</b>, since it may mask a real programming error.\n",
    "\n",
    "In large software programs, it is difficult to anticipate all types of possible exceotional conditions. Therefore, the programmer may not be able to write a different handler (except block) for every individual type of exception. In such scenario, a better idea is to write a handler that would catch all types of exceptions. \n",
    "\n",
    "<b> However, the default handler must be placed after all other except blocks because otherwise it would prevent specific handler to be executed.</b>"
   ]
  },
  {
   "cell_type": "markdown",
   "metadata": {},
   "source": [
    "### Example:\n",
    "<b> Program to demonstrate the use of except block.</b>"
   ]
  },
  {
   "cell_type": "code",
   "execution_count": 8,
   "metadata": {},
   "outputs": [
    {
     "data": {
      "text/plain": [
       "'C:\\\\Users\\\\Anindita\\\\Desktop\\\\python_practice\\\\For_Class_Section_B\\\\17. Exception Handling'"
      ]
     },
     "execution_count": 8,
     "metadata": {},
     "output_type": "execute_result"
    }
   ],
   "source": [
    "pwd"
   ]
  },
  {
   "cell_type": "code",
   "execution_count": 9,
   "metadata": {},
   "outputs": [
    {
     "ename": "FileNotFoundError",
     "evalue": "[Errno 2] No such file or directory: 'file1.txt'",
     "output_type": "error",
     "traceback": [
      "\u001b[1;31m---------------------------------------------------------------------------\u001b[0m",
      "\u001b[1;31mFileNotFoundError\u001b[0m                         Traceback (most recent call last)",
      "\u001b[1;32m<ipython-input-9-e54956a75931>\u001b[0m in \u001b[0;36m<module>\u001b[1;34m\u001b[0m\n\u001b[1;32m----> 1\u001b[1;33m \u001b[0mfile\u001b[0m \u001b[1;33m=\u001b[0m \u001b[0mopen\u001b[0m\u001b[1;33m(\u001b[0m\u001b[1;34m\"file1.txt\"\u001b[0m\u001b[1;33m)\u001b[0m\u001b[1;33m\u001b[0m\u001b[1;33m\u001b[0m\u001b[0m\n\u001b[0m",
      "\u001b[1;31mFileNotFoundError\u001b[0m: [Errno 2] No such file or directory: 'file1.txt'"
     ]
    }
   ],
   "source": [
    "file = open(\"file1.txt\")"
   ]
  },
  {
   "cell_type": "code",
   "execution_count": 13,
   "metadata": {},
   "outputs": [
    {
     "name": "stdout",
     "output_type": "stream",
     "text": [
      "File doesn't exist\n"
     ]
    }
   ],
   "source": [
    "try:\n",
    "    file = open(\"file1.txt\")\n",
    "    line = file.readline()\n",
    "    print(line)\n",
    "\n",
    "except FileNotFoundError:\n",
    "    print(\"File doesn't exist\")\n",
    "except ZeroDivisionError:\n",
    "    print(\"Denominator can't be Zero\")\n",
    "except ValueError:\n",
    "    print(\"Could not convert data to an integer.\")\n",
    "except:\n",
    "    print(\"Unexpected Error...\")"
   ]
  },
  {
   "cell_type": "markdown",
   "metadata": {},
   "source": [
    "<b><u> Note:</u></b>\n",
    "Using <b>except:</b> without mentioning any specific exception is not a good programming practice because it catches all exeptions and doesn't make the programmer identify the root cause of the program."
   ]
  },
  {
   "cell_type": "markdown",
   "metadata": {},
   "source": [
    "# The else CLAUSE"
   ]
  },
  {
   "cell_type": "markdown",
   "metadata": {},
   "source": [
    "The <b>try...except </b>block can optionally have an <b><i> else clause</i></b>, which, when present must follow all except blocks. The statement(s) in the else block is executed only if the try clause does't raise an exception. "
   ]
  },
  {
   "cell_type": "markdown",
   "metadata": {},
   "source": [
    "### Example:\n",
    "<b> Program to demonstrate the use of except block.</b>"
   ]
  },
  {
   "cell_type": "code",
   "execution_count": 19,
   "metadata": {},
   "outputs": [
    {
     "name": "stdout",
     "output_type": "stream",
     "text": [
      "Enter Numerator: 5\n",
      "Enter Denominator: 0\n",
      "Denominator can't be Zero\n"
     ]
    }
   ],
   "source": [
    "try: \n",
    "    n1 = int(input(\"Enter Numerator: \"))\n",
    "    n2 = int(input(\"Enter Denominator: \"))\n",
    "    q = n1/n2\n",
    "    print(\"Quotient = \",q)\n",
    "except ZeroDivisionError:\n",
    "    print(\"Denominator can't be Zero\")\n",
    "except ValueError:\n",
    "    print(\"Enter a number\")\n",
    "else:\n",
    "    print(\"Program Terminating successfully....\")"
   ]
  },
  {
   "cell_type": "markdown",
   "metadata": {},
   "source": [
    "# Raising Exception"
   ]
  },
  {
   "cell_type": "markdown",
   "metadata": {},
   "source": [
    "You can deliberately raise an exception using the <b>raise</b> keyword. The only argument to the raise keyword specifies the exception to be raised. We have discussed earlier that you can re-raise the exceptions in the <b>except:</b> block. This is especially important when you just want to determine whether an exception was raised but don't intend to handle it. "
   ]
  },
  {
   "cell_type": "markdown",
   "metadata": {},
   "source": [
    "### Example:\n",
    "<b> Program to deliberately raise an exception.</b>"
   ]
  },
  {
   "cell_type": "code",
   "execution_count": 23,
   "metadata": {},
   "outputs": [
    {
     "name": "stdout",
     "output_type": "stream",
     "text": [
      "10\n",
      "Unexpected Error...\n"
     ]
    }
   ],
   "source": [
    "try:\n",
    "    num = 10\n",
    "    print(num)\n",
    "    raise ValueError\n",
    "except ZeroDivisionError:\n",
    "    print(\"Denominator can't be Zero.\")\n",
    "except ValueError:\n",
    "    print(\"Value Error\")\n",
    "except:\n",
    "    print(\"Unexpected Error...\")"
   ]
  },
  {
   "cell_type": "markdown",
   "metadata": {},
   "source": [
    "### Example:\n",
    "<b> Program to re-raise an exception.</b>"
   ]
  },
  {
   "cell_type": "code",
   "execution_count": 24,
   "metadata": {},
   "outputs": [
    {
     "name": "stdout",
     "output_type": "stream",
     "text": [
      "Re-raising the Exception\n"
     ]
    },
    {
     "ename": "NameError",
     "evalue": "",
     "output_type": "error",
     "traceback": [
      "\u001b[1;31m---------------------------------------------------------------------------\u001b[0m",
      "\u001b[1;31mNameError\u001b[0m                                 Traceback (most recent call last)",
      "\u001b[1;32m<ipython-input-24-d6f1e36dd653>\u001b[0m in \u001b[0;36m<module>\u001b[1;34m\u001b[0m\n\u001b[0;32m      1\u001b[0m \u001b[1;32mtry\u001b[0m\u001b[1;33m:\u001b[0m\u001b[1;33m\u001b[0m\u001b[1;33m\u001b[0m\u001b[0m\n\u001b[1;32m----> 2\u001b[1;33m     \u001b[1;32mraise\u001b[0m \u001b[0mNameError\u001b[0m\u001b[1;33m\u001b[0m\u001b[1;33m\u001b[0m\u001b[0m\n\u001b[0m\u001b[0;32m      3\u001b[0m \u001b[1;32mexcept\u001b[0m\u001b[1;33m:\u001b[0m\u001b[1;33m\u001b[0m\u001b[1;33m\u001b[0m\u001b[0m\n\u001b[0;32m      4\u001b[0m     \u001b[0mprint\u001b[0m\u001b[1;33m(\u001b[0m\u001b[1;34m\"Re-raising the Exception\"\u001b[0m\u001b[1;33m)\u001b[0m\u001b[1;33m\u001b[0m\u001b[1;33m\u001b[0m\u001b[0m\n\u001b[0;32m      5\u001b[0m     \u001b[1;32mraise\u001b[0m\u001b[1;33m\u001b[0m\u001b[1;33m\u001b[0m\u001b[0m\n",
      "\u001b[1;31mNameError\u001b[0m: "
     ]
    }
   ],
   "source": [
    "try:\n",
    "    raise NameError\n",
    "except:\n",
    "    print(\"Re-raising the Exception\")\n",
    "    raise"
   ]
  },
  {
   "cell_type": "markdown",
   "metadata": {},
   "source": [
    "# Handling Exceptions in Invoked functions"
   ]
  },
  {
   "cell_type": "markdown",
   "metadata": {},
   "source": [
    "Till now, we have seen that handlers have handled exceptions if they occur in the try block. But, exceptions can also be handled inside functions that are called in the <b>try block.</b>"
   ]
  },
  {
   "cell_type": "markdown",
   "metadata": {},
   "source": [
    "### Example:\n",
    "<b> Program to handle exceptions from an invoked function.</b>"
   ]
  },
  {
   "cell_type": "code",
   "execution_count": 25,
   "metadata": {},
   "outputs": [
    {
     "name": "stdout",
     "output_type": "stream",
     "text": [
      "Denominator can't be zero...\n"
     ]
    }
   ],
   "source": [
    "def divide(a,b):\n",
    "    try: \n",
    "        q = a/b\n",
    "    except ZeroDivisionError:\n",
    "        print(\"Denominator can't be zero...\")\n",
    "divide(10,0)"
   ]
  },
  {
   "cell_type": "markdown",
   "metadata": {},
   "source": [
    "### Example:\n",
    "<b> Program to handle exception in the calling function. </b>"
   ]
  },
  {
   "cell_type": "code",
   "execution_count": 26,
   "metadata": {},
   "outputs": [
    {
     "name": "stdout",
     "output_type": "stream",
     "text": [
      "Denominator can't be zero...\n"
     ]
    }
   ],
   "source": [
    "def divide(a,b):\n",
    "    print(a/b)\n",
    "try: \n",
    "    divide(10,0)\n",
    "except ZeroDivisionError:\n",
    "    print(\"Denominator can't be zero...\")"
   ]
  },
  {
   "cell_type": "markdown",
   "metadata": {},
   "source": [
    "#### Build-in exception: \n",
    "<table style=\"border:1px solid black;\">\n",
    "<tr><th style=\"text-align:center\">Build-in Exception</th> <th style=\"text-align:center\">Build-in Exception</th> </tr>\n",
    "        <tr><th style=\"text-align:center\">Exception</th> <th style=\"text-align:center\">StopIteration</th> </tr>\n",
    "    <tr><th style=\"text-align:center\">SystemExit</th> <th style=\"text-align:center\">StandarError</th> </tr>\n",
    "    <tr><th style=\"text-align:center\">ArithmeticError</th> <th style=\"text-align:center\">OverFlowError</th> </tr>\n",
    "    <tr><th style=\"text-align:center\">FloatingPointError</th> <th style=\"text-align:center\">ZeroDivisionError</th> </tr>\n",
    "    <tr><th style=\"text-align:center\">AssertionError</th> <th style=\"text-align:center\">AttributeError</th> </tr>\n",
    "    <tr><th style=\"text-align:center\">EOFError</th> <th style=\"text-align:center\">ImportError</th> </tr>\n",
    "    <tr><th style=\"text-align:center\">NameError</th> <th style=\"text-align:center\">TypeError</th> </tr>"
   ]
  },
  {
   "cell_type": "code",
   "execution_count": 27,
   "metadata": {},
   "outputs": [
    {
     "name": "stdout",
     "output_type": "stream",
     "text": [
      "Help on class Exception in module builtins:\n",
      "\n",
      "class Exception(BaseException)\n",
      " |  Common base class for all non-exit exceptions.\n",
      " |  \n",
      " |  Method resolution order:\n",
      " |      Exception\n",
      " |      BaseException\n",
      " |      object\n",
      " |  \n",
      " |  Built-in subclasses:\n",
      " |      ArithmeticError\n",
      " |      AssertionError\n",
      " |      AttributeError\n",
      " |      BufferError\n",
      " |      ... and 15 other subclasses\n",
      " |  \n",
      " |  Methods defined here:\n",
      " |  \n",
      " |  __init__(self, /, *args, **kwargs)\n",
      " |      Initialize self.  See help(type(self)) for accurate signature.\n",
      " |  \n",
      " |  ----------------------------------------------------------------------\n",
      " |  Static methods defined here:\n",
      " |  \n",
      " |  __new__(*args, **kwargs) from builtins.type\n",
      " |      Create and return a new object.  See help(type) for accurate signature.\n",
      " |  \n",
      " |  ----------------------------------------------------------------------\n",
      " |  Methods inherited from BaseException:\n",
      " |  \n",
      " |  __delattr__(self, name, /)\n",
      " |      Implement delattr(self, name).\n",
      " |  \n",
      " |  __getattribute__(self, name, /)\n",
      " |      Return getattr(self, name).\n",
      " |  \n",
      " |  __reduce__(...)\n",
      " |      Helper for pickle.\n",
      " |  \n",
      " |  __repr__(self, /)\n",
      " |      Return repr(self).\n",
      " |  \n",
      " |  __setattr__(self, name, value, /)\n",
      " |      Implement setattr(self, name, value).\n",
      " |  \n",
      " |  __setstate__(...)\n",
      " |  \n",
      " |  __str__(self, /)\n",
      " |      Return str(self).\n",
      " |  \n",
      " |  with_traceback(...)\n",
      " |      Exception.with_traceback(tb) --\n",
      " |      set self.__traceback__ to tb and return self.\n",
      " |  \n",
      " |  ----------------------------------------------------------------------\n",
      " |  Data descriptors inherited from BaseException:\n",
      " |  \n",
      " |  __cause__\n",
      " |      exception cause\n",
      " |  \n",
      " |  __context__\n",
      " |      exception context\n",
      " |  \n",
      " |  __dict__\n",
      " |  \n",
      " |  __suppress_context__\n",
      " |  \n",
      " |  __traceback__\n",
      " |  \n",
      " |  args\n",
      "\n"
     ]
    }
   ],
   "source": [
    "help(Exception)"
   ]
  },
  {
   "cell_type": "markdown",
   "metadata": {},
   "source": [
    "# The Finally Block"
   ]
  },
  {
   "cell_type": "markdown",
   "metadata": {},
   "source": [
    "The try block has another optional block called finally which is used to define clean-up actions that must be executed under all circumstances. The finally block is always executed before leaving the try block. This means that the statement written in finally block are executed irrespective of whether an exception has occured or not."
   ]
  },
  {
   "cell_type": "markdown",
   "metadata": {},
   "source": [
    "### Example:\n",
    "<b> Program with <i>finally</i> block that leaves the exception unhandled.</b>"
   ]
  },
  {
   "cell_type": "code",
   "execution_count": 28,
   "metadata": {},
   "outputs": [
    {
     "name": "stdout",
     "output_type": "stream",
     "text": [
      "Raising Exception....\n",
      "Inside Finally block....\n"
     ]
    },
    {
     "ename": "ValueError",
     "evalue": "",
     "output_type": "error",
     "traceback": [
      "\u001b[1;31m---------------------------------------------------------------------------\u001b[0m",
      "\u001b[1;31mValueError\u001b[0m                                Traceback (most recent call last)",
      "\u001b[1;32m<ipython-input-28-44593554e996>\u001b[0m in \u001b[0;36m<module>\u001b[1;34m\u001b[0m\n\u001b[0;32m      1\u001b[0m \u001b[1;32mtry\u001b[0m\u001b[1;33m:\u001b[0m\u001b[1;33m\u001b[0m\u001b[1;33m\u001b[0m\u001b[0m\n\u001b[0;32m      2\u001b[0m     \u001b[0mprint\u001b[0m\u001b[1;33m(\u001b[0m\u001b[1;34m\"Raising Exception....\"\u001b[0m\u001b[1;33m)\u001b[0m\u001b[1;33m\u001b[0m\u001b[1;33m\u001b[0m\u001b[0m\n\u001b[1;32m----> 3\u001b[1;33m     \u001b[1;32mraise\u001b[0m \u001b[0mValueError\u001b[0m\u001b[1;33m\u001b[0m\u001b[1;33m\u001b[0m\u001b[0m\n\u001b[0m\u001b[0;32m      4\u001b[0m \u001b[1;32mfinally\u001b[0m\u001b[1;33m:\u001b[0m\u001b[1;33m\u001b[0m\u001b[1;33m\u001b[0m\u001b[0m\n\u001b[0;32m      5\u001b[0m     \u001b[0mprint\u001b[0m\u001b[1;33m(\u001b[0m\u001b[1;34m\"Inside Finally block....\"\u001b[0m\u001b[1;33m)\u001b[0m\u001b[1;33m\u001b[0m\u001b[1;33m\u001b[0m\u001b[0m\n",
      "\u001b[1;31mValueError\u001b[0m: "
     ]
    }
   ],
   "source": [
    "try: \n",
    "    print(\"Raising Exception....\")\n",
    "    raise ValueError\n",
    "finally:\n",
    "    print(\"Inside Finally block....\")"
   ]
  },
  {
   "cell_type": "markdown",
   "metadata": {},
   "source": [
    "### Example:\n",
    "<b> Program to illustrate the use of<i> try, except and finally</i> block all together.</b>"
   ]
  },
  {
   "cell_type": "code",
   "execution_count": 29,
   "metadata": {},
   "outputs": [
    {
     "name": "stdout",
     "output_type": "stream",
     "text": [
      "Raising Exception....\n",
      "Inside Except Block...\n",
      "Inside Finally block....\n"
     ]
    }
   ],
   "source": [
    "try: \n",
    "    print(\"Raising Exception....\")\n",
    "    raise ValueError\n",
    "except:\n",
    "    print(\"Inside Except Block...\")\n",
    "finally:\n",
    "    print(\"Inside Finally block....\")"
   ]
  },
  {
   "cell_type": "markdown",
   "metadata": {},
   "source": [
    "### Nested Try block"
   ]
  },
  {
   "cell_type": "code",
   "execution_count": 30,
   "metadata": {},
   "outputs": [
    {
     "name": "stdout",
     "output_type": "stream",
     "text": [
      "trying to devide 2 string...\n",
      "Inside finally block...\n",
      "Not possible to devide 2 string\n"
     ]
    }
   ],
   "source": [
    "try:\n",
    "    print(\"trying to devide 2 string...\")\n",
    "    try:\n",
    "        q = \"abc\"/\"efg\"\n",
    "    finally:\n",
    "        print(\"Inside finally block...\")\n",
    "except:\n",
    "    print(\"Not possible to devide 2 string\")"
   ]
  },
  {
   "cell_type": "code",
   "execution_count": null,
   "metadata": {},
   "outputs": [],
   "source": []
  }
 ],
 "metadata": {
  "kernelspec": {
   "display_name": "Python 3 (ipykernel)",
   "language": "python",
   "name": "python3"
  },
  "language_info": {
   "codemirror_mode": {
    "name": "ipython",
    "version": 3
   },
   "file_extension": ".py",
   "mimetype": "text/x-python",
   "name": "python",
   "nbconvert_exporter": "python",
   "pygments_lexer": "ipython3",
   "version": "3.8.5"
  },
  "toc": {
   "base_numbering": 1,
   "nav_menu": {},
   "number_sections": true,
   "sideBar": true,
   "skip_h1_title": false,
   "title_cell": "Table of Contents",
   "title_sidebar": "Contents",
   "toc_cell": false,
   "toc_position": {},
   "toc_section_display": true,
   "toc_window_display": false
  }
 },
 "nbformat": 4,
 "nbformat_minor": 4
}
