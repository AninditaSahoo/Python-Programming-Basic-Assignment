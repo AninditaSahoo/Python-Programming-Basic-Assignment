{
 "cells": [
  {
   "cell_type": "markdown",
   "id": "7546fe21",
   "metadata": {},
   "source": [
    "# Python Programming Basic Assignment\n",
    "## Programming Assignment_19"
   ]
  },
  {
   "cell_type": "markdown",
   "id": "efd558d4",
   "metadata": {},
   "source": [
    "<b><u>Question1</u></b>\n",
    "\n",
    "Create a function that takes a string and returns a string in which each character is repeated once.\n",
    "\n",
    "<b>Examples:</b>\n",
    "\n",
    "double_char(&quot;String&quot;) ➞ &quot;SSttrriinngg&quot;\n",
    "\n",
    "double_char(&quot;Hello World!&quot;) ➞ &quot;HHeelllloo WWoorrlldd!!&quot;\n",
    "\n",
    "double_char(&quot;1234!_ &quot;) ➞ &quot;11223344!!__ &quot;"
   ]
  },
  {
   "cell_type": "code",
   "execution_count": 1,
   "id": "7ebccd89",
   "metadata": {},
   "outputs": [
    {
     "name": "stdout",
     "output_type": "stream",
     "text": [
      "Enter the string : Hello World!\n",
      "HHeelllloo  WWoorrlldd!!\n"
     ]
    }
   ],
   "source": [
    "def double_char(s):\n",
    "    q = []\n",
    "    for i in s:\n",
    "        q.append(i*2)\n",
    "    return \"\".join(q)\n",
    "s = input(\"Enter the string : \")\n",
    "print(double_char(s))"
   ]
  },
  {
   "cell_type": "markdown",
   "id": "651948a8",
   "metadata": {},
   "source": [
    "<b>Answer:\n",
    "<br>Enter the string : Hello World!\n",
    "<br>HHeelllloo  WWoorrlldd!!</b>"
   ]
  },
  {
   "cell_type": "markdown",
   "id": "9bf19ee1",
   "metadata": {},
   "source": [
    "<b><u>Question2</u></b>\n",
    "\n",
    "Create a function that reverses a boolean value and returns the string &quot;boolean expected&quot; if another variable type is given.\n",
    "\n",
    "<b>Examples: </b>\n",
    "\n",
    "reverse(True) ➞ False\n",
    "\n",
    "reverse(False) ➞ True\n",
    "\n",
    "reverse(0) ➞ &quot;boolean expected&quot;\n",
    "\n",
    "reverse(None) ➞ &quot;boolean expected&quot;"
   ]
  },
  {
   "cell_type": "code",
   "execution_count": 2,
   "id": "4477a01f",
   "metadata": {},
   "outputs": [
    {
     "name": "stdout",
     "output_type": "stream",
     "text": [
      "Enter the string : None\n",
      "boolean expected\n"
     ]
    }
   ],
   "source": [
    "def reverse(val):\n",
    "    if type(val) == bool:\n",
    "        return not(val)\n",
    "    else:\n",
    "        return \"boolean expected\"\n",
    "val = eval(input(\"Enter the string : \"))\n",
    "print(reverse(val))"
   ]
  },
  {
   "cell_type": "markdown",
   "id": "5f0f3563",
   "metadata": {},
   "source": [
    "<b>Answer:\n",
    "<br>Enter the string : None\n",
    "<br>boolean expected</b>"
   ]
  },
  {
   "cell_type": "markdown",
   "id": "eb4612cd",
   "metadata": {},
   "source": [
    "<b><u>Question3<u><b>\n",
    "    \n",
    "Create a function that returns the thickness (in meters) of a piece of paper after folding it n number of times. The paper starts off with a thickness of 0.5mm.\n",
    "    \n",
    "<b>Examples :</b>\n",
    "    \n",
    "num_layers(1) ➞ &quot;0.001m&quot; # Paper folded once is 1mm (equal to 0.001m)\n",
    "    \n",
    "num_layers(4) ➞ &quot;0.008m&quot; # Paper folded 4 times is 8mm (equal to 0.008m)\n",
    "    \n",
    "num_layers(21) ➞ &quot;1048.576m&quot; # Paper folded 21 times is 1048576mm (equal to 1048.576m)"
   ]
  },
  {
   "cell_type": "code",
   "execution_count": 3,
   "id": "a7251840",
   "metadata": {},
   "outputs": [
    {
     "name": "stdout",
     "output_type": "stream",
     "text": [
      "Enter the number of folds : 21\n",
      "1048.576m\n"
     ]
    }
   ],
   "source": [
    "def num_layers(n):\n",
    "    return str(((2**n)*0.5)/1000)+\"m\"\n",
    "n = int(input(\"Enter the number of folds : \"))\n",
    "print(num_layers(n))"
   ]
  },
  {
   "cell_type": "markdown",
   "id": "0d84eb6c",
   "metadata": {},
   "source": [
    "<b>Answer:\n",
    "<br>Enter the number of folds : 21\n",
    "<br>1048.576m</b>"
   ]
  },
  {
   "cell_type": "markdown",
   "id": "03209e99",
   "metadata": {},
   "source": [
    "<b><u>Question4</u></b>\n",
    "\n",
    "Create a function that takes a single string as argument and returns an ordered list containing the indices of all capital letters in the string.\n",
    "\n",
    "<b>Examples :</b>\n",
    "\n",
    "index_of_caps(&quot;eDaBiT&quot;) ➞ [1, 3, 5]\n",
    "\n",
    "index_of_caps(&quot;eQuINoX&quot;) ➞ [1, 3, 4, 6]\n",
    "\n",
    "index_of_caps(&quot;determine&quot;) ➞ [ ]\n",
    "\n",
    "index_of_caps(&quot;STRIKE&quot;) ➞ [0, 1, 2, 3, 4, 5]\n",
    "\n",
    "index_of_caps(&quot;sUn&quot;) ➞ [1]"
   ]
  },
  {
   "cell_type": "code",
   "execution_count": 4,
   "id": "52d94e6d",
   "metadata": {},
   "outputs": [
    {
     "name": "stdout",
     "output_type": "stream",
     "text": [
      "Enter the string : STRIKE\n",
      "[0, 1, 2, 3, 4, 5]\n"
     ]
    }
   ],
   "source": [
    "def index_of_caps(s):\n",
    "    res = []\n",
    "    for i in range(len(s)):\n",
    "        if s[i].isupper():\n",
    "            res.append(i)\n",
    "    return res\n",
    "s = input(\"Enter the string : \")\n",
    "print(index_of_caps(s))"
   ]
  },
  {
   "cell_type": "markdown",
   "id": "b7a2add5",
   "metadata": {},
   "source": [
    "<b>Answer:\n",
    "<br>Enter the string : STRIKE\n",
    "<br>[0, 1, 2, 3, 4, 5]</b>"
   ]
  },
  {
   "cell_type": "markdown",
   "id": "8f9dfe47",
   "metadata": {},
   "source": [
    "<b><u>Question5</u></b>\n",
    "\n",
    "Using list comprehensions, create a function that finds all even numbers from 1 to the given number.\n",
    "\n",
    "<b>Examples : </b>\n",
    "\n",
    "find_even_nums(8) ➞ [2, 4, 6, 8]\n",
    "\n",
    "find_even_nums(4) ➞ [2, 4]\n",
    "\n",
    "find_even_nums(2) ➞ [2]"
   ]
  },
  {
   "cell_type": "code",
   "execution_count": 5,
   "id": "c5eca014",
   "metadata": {},
   "outputs": [
    {
     "name": "stdout",
     "output_type": "stream",
     "text": [
      "Enter a number : 8\n",
      "[2, 4, 6, 8]\n"
     ]
    }
   ],
   "source": [
    "def find_even_num(num):\n",
    "    l = []\n",
    "    for i in range(1,num+1):\n",
    "        if i%2==0:\n",
    "            l.append(i)\n",
    "    return l\n",
    "num = int(input(\"Enter a number : \"))\n",
    "print(find_even_num(num))"
   ]
  },
  {
   "cell_type": "markdown",
   "id": "fe78c0bd",
   "metadata": {},
   "source": [
    "<b>Answer:\n",
    "<br>Enter a number : 8\n",
    "<br>[2, 4, 6, 8]</b>"
   ]
  }
 ],
 "metadata": {
  "kernelspec": {
   "display_name": "Python 3 (ipykernel)",
   "language": "python",
   "name": "python3"
  },
  "language_info": {
   "codemirror_mode": {
    "name": "ipython",
    "version": 3
   },
   "file_extension": ".py",
   "mimetype": "text/x-python",
   "name": "python",
   "nbconvert_exporter": "python",
   "pygments_lexer": "ipython3",
   "version": "3.8.5"
  },
  "toc": {
   "base_numbering": 1,
   "nav_menu": {},
   "number_sections": true,
   "sideBar": true,
   "skip_h1_title": false,
   "title_cell": "Table of Contents",
   "title_sidebar": "Contents",
   "toc_cell": false,
   "toc_position": {},
   "toc_section_display": true,
   "toc_window_display": false
  }
 },
 "nbformat": 4,
 "nbformat_minor": 5
}
