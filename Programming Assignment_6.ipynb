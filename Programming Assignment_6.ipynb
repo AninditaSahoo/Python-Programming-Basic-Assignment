{
 "cells": [
  {
   "cell_type": "markdown",
   "id": "12bafa91",
   "metadata": {},
   "source": [
    "# Python Programming Basic Assignment\n",
    "## Programming Assignment_6"
   ]
  },
  {
   "cell_type": "markdown",
   "id": "04aed098",
   "metadata": {},
   "source": [
    "<b>Q1. </b> Write a Python Program to Display Fibonacci Sequence Using Recursion?"
   ]
  },
  {
   "cell_type": "code",
   "execution_count": 1,
   "id": "04648de5",
   "metadata": {},
   "outputs": [
    {
     "name": "stdout",
     "output_type": "stream",
     "text": [
      "Enter a number: 9\n"
     ]
    },
    {
     "data": {
      "text/plain": [
       "[0, 1, 1, 2, 3, 5, 8, 13, 21]"
      ]
     },
     "execution_count": 1,
     "metadata": {},
     "output_type": "execute_result"
    }
   ],
   "source": [
    "def fibonacci_of(num):\n",
    "    if num in [0, 1]:  \n",
    "        return num\n",
    "    return fibonacci_of(num - 1) + fibonacci_of(num - 2)\n",
    "num = int(input(\"Enter a number: \"))\n",
    "[fibonacci_of(n) for n in range(num)]"
   ]
  },
  {
   "cell_type": "markdown",
   "id": "66e100ca",
   "metadata": {},
   "source": [
    "<b>Q2. </b>Write a Python Program to Find Factorial of Number Using Recursion?"
   ]
  },
  {
   "cell_type": "code",
   "execution_count": 2,
   "id": "532b517f",
   "metadata": {},
   "outputs": [
    {
     "name": "stdout",
     "output_type": "stream",
     "text": [
      "Enter a number : 5\n",
      "Factorial of 5 is 120\n"
     ]
    }
   ],
   "source": [
    "def factorial(n):\n",
    "    if n==1 or n==0 :\n",
    "        return 1\n",
    "    else:\n",
    "        return n*factorial(n-1)\n",
    "num = int(input(\"Enter a number : \"))\n",
    "print(\"Factorial of {} is {}\".format(num,factorial(num)))"
   ]
  },
  {
   "cell_type": "markdown",
   "id": "a5be5755",
   "metadata": {},
   "source": [
    "<b>Q3. </b>Write a Python Program to calculate your Body Mass Index?"
   ]
  },
  {
   "cell_type": "code",
   "execution_count": 3,
   "id": "10629849",
   "metadata": {},
   "outputs": [
    {
     "name": "stdout",
     "output_type": "stream",
     "text": [
      "Enter your weight in kg : 59\n",
      "Enter your height in cm : 158\n",
      "BMI = 23.63\n"
     ]
    }
   ],
   "source": [
    "weight = float(input(\"Enter your weight in kg : \"))\n",
    "height = float(input(\"Enter your height in cm : \"))\n",
    "print(\"BMI = {:.2f}\".format(weight/((height**2)/(100**2))))"
   ]
  },
  {
   "cell_type": "markdown",
   "id": "6ebde015",
   "metadata": {},
   "source": [
    "<b>Q4. </b>Write a Python Program to calculate the natural logarithm of any number?"
   ]
  },
  {
   "cell_type": "code",
   "execution_count": 4,
   "id": "6832b1e9",
   "metadata": {},
   "outputs": [
    {
     "name": "stdout",
     "output_type": "stream",
     "text": [
      "Enter the number :10\n",
      "log(10.0) = 2.302585092994046\n"
     ]
    }
   ],
   "source": [
    "import math\n",
    "try:\n",
    "    num = float(input(\"Enter the number :\")) \n",
    "    print(\"log({}) = {}\".format(num,math.log(num))) \n",
    "except:\n",
    "    print(\"Enter a valid number\")"
   ]
  },
  {
   "cell_type": "markdown",
   "id": "34e00245",
   "metadata": {},
   "source": [
    "<b>Q5. </b>Write a Python Program for cube sum of first n natural numbers?"
   ]
  },
  {
   "cell_type": "code",
   "execution_count": 5,
   "id": "d1fb8c6a",
   "metadata": {},
   "outputs": [
    {
     "name": "stdout",
     "output_type": "stream",
     "text": [
      "Enter the number :10\n",
      "(0^3)+(1^3)+(2^3)+(3^3)+(4^3)+(5^3)+(6^3)+(7^3)+(8^3)+(9^3)+(10^3)=3025\n"
     ]
    }
   ],
   "source": [
    "try:\n",
    "    num = int(input(\"Enter the number :\"))\n",
    "    res = 0\n",
    "    for i in range(num+1): \n",
    "        res = res+(i**3)\n",
    "        if i == num:\n",
    "            print(\"({}^3)\".format(i),end=\"\")\n",
    "            print(\"={}\".format(res))\n",
    "        else:\n",
    "            print(\"({}^3)+\".format(i),end=\"\")\n",
    "except:\n",
    "    print(\"Enter a valid number\")"
   ]
  }
 ],
 "metadata": {
  "kernelspec": {
   "display_name": "Python 3 (ipykernel)",
   "language": "python",
   "name": "python3"
  },
  "language_info": {
   "codemirror_mode": {
    "name": "ipython",
    "version": 3
   },
   "file_extension": ".py",
   "mimetype": "text/x-python",
   "name": "python",
   "nbconvert_exporter": "python",
   "pygments_lexer": "ipython3",
   "version": "3.8.5"
  },
  "toc": {
   "base_numbering": 1,
   "nav_menu": {},
   "number_sections": true,
   "sideBar": true,
   "skip_h1_title": false,
   "title_cell": "Table of Contents",
   "title_sidebar": "Contents",
   "toc_cell": false,
   "toc_position": {},
   "toc_section_display": true,
   "toc_window_display": false
  }
 },
 "nbformat": 4,
 "nbformat_minor": 5
}
