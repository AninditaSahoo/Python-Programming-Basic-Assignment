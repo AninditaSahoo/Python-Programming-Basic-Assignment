{
 "cells": [
  {
   "cell_type": "markdown",
   "id": "448c14ae",
   "metadata": {},
   "source": [
    "# Python Programming Basic Assignment\n",
    "## Programming Assignment_23"
   ]
  },
  {
   "cell_type": "markdown",
   "id": "fe40b0c6",
   "metadata": {},
   "source": [
    "<b><u>Question 1</u></b>\n",
    "\n",
    "Create a function that takes a number as an argument and returns True or False depending on whether the number is symmetrical or not. A number is symmetrical when it is the same as\n",
    "its reverse.\n",
    "\n",
    "<b>Examples : </b>\n",
    "    \n",
    "is_symmetrical(7227) ➞ True\n",
    "\n",
    "is_symmetrical(12567) ➞ False\n",
    "\n",
    "is_symmetrical(44444444) ➞ True\n",
    "\n",
    "is_symmetrical(9939) ➞ False\n",
    "\n",
    "is_symmetrical(1112111) ➞ True"
   ]
  },
  {
   "cell_type": "code",
   "execution_count": 1,
   "id": "99a2d760",
   "metadata": {},
   "outputs": [
    {
     "name": "stdout",
     "output_type": "stream",
     "text": [
      "Enter a number : 1112111\n",
      "True\n"
     ]
    }
   ],
   "source": [
    "def is_symmetrical(num):\n",
    "    num = str(num)\n",
    "    if num == num[::-1]:\n",
    "        return True\n",
    "    else:\n",
    "        return False\n",
    "num = int(input(\"Enter a number : \"))\n",
    "print(is_symmetrical(num))"
   ]
  },
  {
   "cell_type": "markdown",
   "id": "212c0b5c",
   "metadata": {},
   "source": [
    "<b>Answer:\n",
    "<br>Enter a number : 1112111\n",
    "<br>True</b>"
   ]
  },
  {
   "cell_type": "markdown",
   "id": "456b57fc",
   "metadata": {},
   "source": [
    "<b><u>Question 2</u></b>\n",
    "\n",
    "Given a string of numbers separated by a comma and space, return the product of the numbers.\n",
    "\n",
    "<b>Examples : </b>\n",
    "\n",
    "multiply_nums(&quot;2, 3&quot;) ➞ 6\n",
    "\n",
    "multiply_nums(&quot;1, 2, 3, 4&quot;) ➞ 24\n",
    "\n",
    "multiply_nums(&quot;54, 75, 453, 0&quot;) ➞ 0\n",
    "\n",
    "multiply_nums(&quot;10, -2&quot;) ➞ -20"
   ]
  },
  {
   "cell_type": "code",
   "execution_count": 2,
   "id": "774f8f9b",
   "metadata": {},
   "outputs": [
    {
     "name": "stdout",
     "output_type": "stream",
     "text": [
      "Enter the numbers separated by a comma and space : 54, 75, 453, 0\n",
      "0\n"
     ]
    }
   ],
   "source": [
    "def multiply_nums(num):\n",
    "    res = [int(i) for i in num]\n",
    "    mul = 1\n",
    "    for i in res:\n",
    "        mul = mul*i\n",
    "    return mul\n",
    "num = input(\"Enter the numbers separated by a comma and space : \").split(\", \")\n",
    "print(multiply_nums(num))"
   ]
  },
  {
   "cell_type": "markdown",
   "id": "1ff861c3",
   "metadata": {},
   "source": [
    "<b>Answer:\n",
    "<br>Enter the numbers separated by a comma and space : 54, 75, 453, 0\n",
    "<br>0</b>"
   ]
  },
  {
   "cell_type": "markdown",
   "id": "8051aa0d",
   "metadata": {},
   "source": [
    "<b><u>Question 3</u></b>\n",
    "\n",
    "Create a function that squares every digit of a number.\n",
    "\n",
    "<b>Examples : </b>\n",
    "\n",
    "square_digits(9119) ➞ 811181\n",
    "\n",
    "square_digits(2483) ➞ 416649\n",
    "\n",
    "square_digits(3212) ➞ 9414\n",
    "\n",
    "<b>Notes:</b>\n",
    "\n",
    "The function receives an integer and must return an integer."
   ]
  },
  {
   "cell_type": "code",
   "execution_count": 3,
   "id": "a5b8e3d6",
   "metadata": {},
   "outputs": [
    {
     "name": "stdout",
     "output_type": "stream",
     "text": [
      "Enter a number : 2483\n",
      "416649\n"
     ]
    }
   ],
   "source": [
    "def square_digits(num):\n",
    "    num = str(num)\n",
    "    res = []\n",
    "    for i in num:\n",
    "        res.append(str(int(i)**2))\n",
    "    return \"\".join(res)\n",
    "num = int(input(\"Enter a number : \"))\n",
    "print(square_digits(num))"
   ]
  },
  {
   "cell_type": "markdown",
   "id": "d6f622ab",
   "metadata": {},
   "source": [
    "<b>Answer:\n",
    "<br>Enter a number : 2483\n",
    "<br>416649</b>"
   ]
  },
  {
   "cell_type": "markdown",
   "id": "d9f2f731",
   "metadata": {},
   "source": [
    "<b><u>Question 4</u></b>\n",
    "\n",
    "Create a function that sorts a list and removes all duplicate items from it.\n",
    "\n",
    "<b>Examples : </b>\n",
    "\n",
    "setify([1, 3, 3, 5, 5]) ➞ [1, 3, 5]\n",
    "\n",
    "setify([4, 4, 4, 4]) ➞ [4]\n",
    "\n",
    "setify([5, 7, 8, 9, 10, 15]) ➞ [5, 7, 8, 9, 10, 15]\n",
    "\n",
    "setify([3, 3, 3, 2, 1]) ➞ [1, 2, 3]"
   ]
  },
  {
   "cell_type": "code",
   "execution_count": 4,
   "id": "6d2e068c",
   "metadata": {},
   "outputs": [
    {
     "name": "stdout",
     "output_type": "stream",
     "text": [
      "Enter the list : [3, 3, 3, 2, 1]\n",
      "[1, 2, 3]\n"
     ]
    }
   ],
   "source": [
    "def setify(l):\n",
    "    l = list(set(l))\n",
    "    l.sort()\n",
    "    return l\n",
    "l = eval(input(\"Enter the list : \"))\n",
    "print(setify(l))"
   ]
  },
  {
   "cell_type": "markdown",
   "id": "1df2ba58",
   "metadata": {},
   "source": [
    "<b>Answer:\n",
    "<br>Enter the list : [3, 3, 3, 2, 1]\n",
    "<br>[1, 2, 3]</b>"
   ]
  },
  {
   "cell_type": "markdown",
   "id": "beda6ee2",
   "metadata": {},
   "source": [
    "<b><u>Question 5</u></b>\n",
    "\n",
    "Create a function that returns the mean of all digits.\n",
    "\n",
    "<b>Examples</b>\n",
    "\n",
    "mean(42) ➞ 3\n",
    "\n",
    "mean(12345) ➞ 3\n",
    "\n",
    "mean(666) ➞ 6\n",
    "\n",
    "<b>Notes : </b>\n",
    "<li>The mean of all digits is the sum of digits / how many digits there are (e.g. mean of digits in 512 is (5+1+2)/3(number of digits) = 8/3=2).\n",
    "<li>The mean will always be an integer.</li>"
   ]
  },
  {
   "cell_type": "code",
   "execution_count": 5,
   "id": "e3de9c8c",
   "metadata": {},
   "outputs": [
    {
     "name": "stdout",
     "output_type": "stream",
     "text": [
      "Enter a number : 12345\n",
      "3\n"
     ]
    }
   ],
   "source": [
    "def mean(n):\n",
    "    n = str(n)\n",
    "    m = sum([int(i) for i in list(n)])\n",
    "    return m//(len(n))\n",
    "n = int(input(\"Enter a number : \"))\n",
    "print(mean(n))"
   ]
  },
  {
   "cell_type": "markdown",
   "id": "80c989ac",
   "metadata": {},
   "source": [
    "<b>Answer:\n",
    "<br>Enter a number : 12345\n",
    "<br>3</b>"
   ]
  }
 ],
 "metadata": {
  "kernelspec": {
   "display_name": "Python 3 (ipykernel)",
   "language": "python",
   "name": "python3"
  },
  "language_info": {
   "codemirror_mode": {
    "name": "ipython",
    "version": 3
   },
   "file_extension": ".py",
   "mimetype": "text/x-python",
   "name": "python",
   "nbconvert_exporter": "python",
   "pygments_lexer": "ipython3",
   "version": "3.8.5"
  },
  "toc": {
   "base_numbering": 1,
   "nav_menu": {},
   "number_sections": true,
   "sideBar": true,
   "skip_h1_title": false,
   "title_cell": "Table of Contents",
   "title_sidebar": "Contents",
   "toc_cell": false,
   "toc_position": {},
   "toc_section_display": true,
   "toc_window_display": false
  }
 },
 "nbformat": 4,
 "nbformat_minor": 5
}
