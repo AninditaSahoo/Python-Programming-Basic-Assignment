{
 "cells": [
  {
   "cell_type": "markdown",
   "id": "1d5525b8",
   "metadata": {},
   "source": [
    "# Python Programming Basic Assignment\n",
    "## Programming Assignment_10"
   ]
  },
  {
   "cell_type": "markdown",
   "id": "c151f531",
   "metadata": {},
   "source": [
    "<b>Q1. </b>Write a Python program to find sum of elements in list?"
   ]
  },
  {
   "cell_type": "code",
   "execution_count": 1,
   "id": "23a0548f",
   "metadata": {},
   "outputs": [
    {
     "name": "stdout",
     "output_type": "stream",
     "text": [
      "Enter a squence of numbers (Space separated): 1 2 3 4 5 6 7 8 9\n",
      "1 +  2 +  3 +  4 +  5 +  6 +  7 +  8 +  9   = 45\n"
     ]
    }
   ],
   "source": [
    "l = [int(i) for i in input(\"Enter a squence of numbers (Space separated): \").split()]\n",
    "res = 0\n",
    "for i in range(len(l)):\n",
    "    res = res+l[i]\n",
    "    if i == len(l)-1:\n",
    "        print(\"{} \".format(l[i]),end =\" \")\n",
    "    else:\n",
    "        print(\"{} + \".format(l[i]),end =\" \")\n",
    "        \n",
    "print(\" = {}\".format(res))"
   ]
  },
  {
   "cell_type": "markdown",
   "id": "95f8b8d3",
   "metadata": {},
   "source": [
    "<b>Q2. </b>Write a Python program to Multiply all numbers in the list?"
   ]
  },
  {
   "cell_type": "code",
   "execution_count": 2,
   "id": "bb306635",
   "metadata": {},
   "outputs": [
    {
     "name": "stdout",
     "output_type": "stream",
     "text": [
      "Enter a squence of numbers (Space separated): 1 2 3 4 5 6 7 8 9\n",
      "1 X  2 X  3 X  4 X  5 X  6 X  7 X  8 X  9   = 362880\n"
     ]
    }
   ],
   "source": [
    "l = [int(i) for i in input(\"Enter a squence of numbers (Space separated): \").split()]\n",
    "res = 1\n",
    "for i in range(len(l)):\n",
    "    res = res*l[i]\n",
    "    if i == len(l)-1:\n",
    "        print(\"{} \".format(l[i]),end =\" \")\n",
    "    else:\n",
    "        print(\"{} X \".format(l[i]),end =\" \")\n",
    "        \n",
    "print(\" = {}\".format(res))"
   ]
  },
  {
   "cell_type": "markdown",
   "id": "1a8f0b47",
   "metadata": {},
   "source": [
    "<b>Q3. </b>Write a Python program to find smallest number in a list?"
   ]
  },
  {
   "cell_type": "code",
   "execution_count": 3,
   "id": "b3571342",
   "metadata": {},
   "outputs": [
    {
     "name": "stdout",
     "output_type": "stream",
     "text": [
      "Enter a squence of numbers (space separated): 54654 25 7277 789\n",
      "Smallest element is : 25\n"
     ]
    }
   ],
   "source": [
    "l = [int(i) for i in input(\"Enter a squence of numbers (space separated): \").split()]\n",
    "print(\"Smallest element is : {}\".format(min(l)))"
   ]
  },
  {
   "cell_type": "markdown",
   "id": "e75ca2e0",
   "metadata": {},
   "source": [
    "<b>Q4. </b>Write a Python program to find largest number in a list?"
   ]
  },
  {
   "cell_type": "code",
   "execution_count": 4,
   "id": "93d51371",
   "metadata": {},
   "outputs": [
    {
     "name": "stdout",
     "output_type": "stream",
     "text": [
      "Enter a squence of numbers (space separated): 54654 25 7277 789\n",
      "Largest element is : 54654\n"
     ]
    }
   ],
   "source": [
    "l = [int(i) for i in input(\"Enter a squence of numbers (space separated): \").split()]\n",
    "print(\"Largest element is : {}\".format(max(l)))"
   ]
  },
  {
   "cell_type": "markdown",
   "id": "1466b438",
   "metadata": {},
   "source": [
    "<b>Q5. Write a Python program to find second largest number in a list?"
   ]
  },
  {
   "cell_type": "code",
   "execution_count": 5,
   "id": "7380af04",
   "metadata": {},
   "outputs": [
    {
     "name": "stdout",
     "output_type": "stream",
     "text": [
      "Enter a squence of numbers (space separated): 54654 25 7277 789\n",
      "Second Largest element is : 7277\n"
     ]
    }
   ],
   "source": [
    "l = [int(i) for i in input(\"Enter a squence of numbers (space separated): \").split()]\n",
    "print(\"Second Largest element is : {}\".format(sorted(l)[-2]))"
   ]
  },
  {
   "cell_type": "markdown",
   "id": "4e280a49",
   "metadata": {},
   "source": [
    "<b>Q6. </b>Write a Python program to find N largest elements from a list?"
   ]
  },
  {
   "cell_type": "code",
   "execution_count": 6,
   "id": "888fb2f9",
   "metadata": {},
   "outputs": [
    {
     "name": "stdout",
     "output_type": "stream",
     "text": [
      "Enter a squence of numbers (space separated): 54654 25 7277 789\n",
      "Which largest element do you need : 3\n",
      "Second Largest element is : 789\n"
     ]
    }
   ],
   "source": [
    "l = [int(i) for i in input(\"Enter a squence of numbers (space separated): \").split()]\n",
    "q = int(input(\"Which largest element do you need : \"))\n",
    "if q<len(l):\n",
    "    print(\"Second Largest element is : {}\".format(sorted(l)[-q]))"
   ]
  },
  {
   "cell_type": "markdown",
   "id": "7c6cd683",
   "metadata": {},
   "source": [
    "<b>Q7. </b>Write a Python program to print even numbers in a list?"
   ]
  },
  {
   "cell_type": "code",
   "execution_count": 7,
   "id": "495a6e55",
   "metadata": {},
   "outputs": [
    {
     "name": "stdout",
     "output_type": "stream",
     "text": [
      "Enter a squence of numbers (space separated): 643 5414 6758 90 45 67 88\n",
      "The list of even numbers are : [5414, 6758, 90, 88]\n"
     ]
    }
   ],
   "source": [
    "l = [int(i) for i in input(\"Enter a squence of numbers (space separated): \").split()]\n",
    "res = [i for i in l if i%2 == 0]\n",
    "print(\"The list of even numbers are : {}\".format(res))"
   ]
  },
  {
   "cell_type": "markdown",
   "id": "38f6db5b",
   "metadata": {},
   "source": [
    "<b>Q8. </b>Write a Python program to print odd numbers in a List?"
   ]
  },
  {
   "cell_type": "code",
   "execution_count": 8,
   "id": "420dd14c",
   "metadata": {},
   "outputs": [
    {
     "name": "stdout",
     "output_type": "stream",
     "text": [
      "Enter a squence of numbers (space separated): 643 5414 6758 90 45 67 88\n",
      "The list of even numbers are : [643, 45, 67]\n"
     ]
    }
   ],
   "source": [
    "l = [int(i) for i in input(\"Enter a squence of numbers (space separated): \").split()]\n",
    "res = [i for i in l if i%2 != 0]\n",
    "print(\"The list of even numbers are : {}\".format(res))"
   ]
  },
  {
   "cell_type": "markdown",
   "id": "35480a6a",
   "metadata": {},
   "source": [
    "<b>Q9. </b>Write a Python program to Remove empty List from List?"
   ]
  },
  {
   "cell_type": "code",
   "execution_count": 9,
   "id": "812e7d0b",
   "metadata": {},
   "outputs": [
    {
     "name": "stdout",
     "output_type": "stream",
     "text": [
      "The list after removing empty list from list is : [[1, 2], ['this', 90, (5+6j)], ['okay', 'ineuron'], [1, 'blank']]\n"
     ]
    }
   ],
   "source": [
    "l = [[1,2],[],[\"this\",90,5+6j],[],[\"okay\",\"ineuron\"],[],[1,\"blank\"]]\n",
    "new_l = [i for i in l if len(i)!=0]\n",
    "print(\"The list after removing empty list from list is : {}\".format(new_l))"
   ]
  },
  {
   "cell_type": "markdown",
   "id": "0a79c32f",
   "metadata": {},
   "source": [
    "<b>Q10. </b>Write a Python program to Cloning or Copying a list?"
   ]
  },
  {
   "cell_type": "code",
   "execution_count": 10,
   "id": "1e363873",
   "metadata": {},
   "outputs": [
    {
     "name": "stdout",
     "output_type": "stream",
     "text": [
      "Original list    l : [[1, 3, 5], ['this', 'is'], [[67, 'only'], [7, 9, [1, 2]], [(7+8j), 'like', (5, 6)]]]\n",
      "New copied list  q : [[1, 3, 5], ['this', 'is'], [[67, 'only'], [7, 9, [1, 2]], [(7+8j), 'like', (5, 6)]]]\n",
      "New copied list  p : [[1, 3, 5], ['this', 'is'], [[67, 'only'], [7, 9, [1, 2]], [(7+8j), 'like', (5, 6)]]]\n"
     ]
    }
   ],
   "source": [
    "import copy \n",
    "l = [[1,3,5],[\"this\",\"is\"],[[67,\"only\"],[7,9,[1,2]],[7+8j,\"like\",(5,6)]]]\n",
    "print(\"Original list    l : {}\".format(l))\n",
    "q = copy.deepcopy(l)\n",
    "p = l.copy()\n",
    "print(\"New copied list  q : {}\".format(q))\n",
    "print(\"New copied list  p : {}\".format(p))"
   ]
  },
  {
   "cell_type": "markdown",
   "id": "a4401f9c",
   "metadata": {},
   "source": [
    "<b>Q11. </b>Write a Python program to Count occurrences of an element in a list?"
   ]
  },
  {
   "cell_type": "code",
   "execution_count": 11,
   "id": "c4df5099",
   "metadata": {},
   "outputs": [
    {
     "name": "stdout",
     "output_type": "stream",
     "text": [
      "Enter a squence of input (space separated): This is to verify 5 is it occuring 5 times or not\n",
      "for Which element do you want the number of occurrences : 5\n",
      "5 is occuring 2 times in the list.\n"
     ]
    }
   ],
   "source": [
    "l = [i for i in input(\"Enter a squence of input (space separated): \").split()]\n",
    "q = input(\"for Which element do you want the number of occurrences : \")\n",
    "print(\"{} is occuring {} times in the list.\".format(q,l.count(q)))"
   ]
  }
 ],
 "metadata": {
  "kernelspec": {
   "display_name": "Python 3 (ipykernel)",
   "language": "python",
   "name": "python3"
  },
  "language_info": {
   "codemirror_mode": {
    "name": "ipython",
    "version": 3
   },
   "file_extension": ".py",
   "mimetype": "text/x-python",
   "name": "python",
   "nbconvert_exporter": "python",
   "pygments_lexer": "ipython3",
   "version": "3.8.5"
  },
  "toc": {
   "base_numbering": 1,
   "nav_menu": {},
   "number_sections": true,
   "sideBar": true,
   "skip_h1_title": false,
   "title_cell": "Table of Contents",
   "title_sidebar": "Contents",
   "toc_cell": false,
   "toc_position": {},
   "toc_section_display": true,
   "toc_window_display": false
  }
 },
 "nbformat": 4,
 "nbformat_minor": 5
}
