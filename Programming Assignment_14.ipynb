{
 "cells": [
  {
   "cell_type": "markdown",
   "id": "c52fa8b4",
   "metadata": {},
   "source": [
    "# Python Programming Basic Assignment\n",
    "## Programming Assignment_14"
   ]
  },
  {
   "cell_type": "markdown",
   "id": "a15ae594",
   "metadata": {},
   "source": [
    "<b><u>Question 1:</u></b>\n",
    "\n",
    "Define a class with a generator which can iterate the numbers, which are divisible by 7, between a given range 0 and n."
   ]
  },
  {
   "cell_type": "code",
   "execution_count": 7,
   "id": "6ffbbe20",
   "metadata": {},
   "outputs": [
    {
     "name": "stdout",
     "output_type": "stream",
     "text": [
      "Enter a number : 100\n",
      "The list of number divisible by 7 from 0 to 100 are : [0, 7, 14, 21, 28, 35, 42, 49, 56, 63, 70, 77, 84, 91, 98]\n"
     ]
    }
   ],
   "source": [
    "def divChecker(n):\n",
    "    for i in range(n):\n",
    "        if i % 7 == 0:\n",
    "            yield i\n",
    "n = int(input(\"Enter a number : \"))\n",
    "print(\"The list of number divisible by 7 from 0 to {} are : {}\".format(n,list(divChecker(n))))"
   ]
  },
  {
   "cell_type": "markdown",
   "id": "178e59f0",
   "metadata": {},
   "source": [
    "<b><u>Question 2:</u></b>\n",
    "\n",
    "Write a program to compute the frequency of the words from the input. The output should output after sorting the key alphanumerically.\n",
    "\n",
    "<b> Example:</b>\n",
    "\n",
    "Suppose the following input is supplied to the program: <b>New to Python or choosing between Python 2 and Python 3? Read Python 2 or Python 3.</b>\n",
    "\n",
    "Then, the output should be:\n",
    "<table style=\"border:1px solid black;\" align=\"left\">\n",
    "    <tr><td text-align: left> <b>2:2</b>  </td></tr>\n",
    "    <tr><td> <b>3.:1 </b></td></tr>\n",
    "    <tr><td> <b>3?:1</b> </td></tr>\n",
    "    <tr><td> <b>New:1 </b></td></tr>\n",
    "    <tr><td> <b>Python:5 </b></td></tr>\n",
    "    <tr><td> <b>Read:1 </b></td></tr>\n",
    "    <tr><td> <b>and:1 </b></td></tr>\n",
    "    <tr><td> <b>between:1 </b></td></tr>\n",
    "    <tr><td> <b>choosing:1</b> </td></tr>\n",
    "    <tr><td> <b>or:2 </b></td></tr>\n",
    "    <tr><td> <b>to:1</b> </td></tr>\n",
    "</table></b>"
   ]
  },
  {
   "cell_type": "code",
   "execution_count": 22,
   "id": "d86eac97",
   "metadata": {},
   "outputs": [
    {
     "name": "stdout",
     "output_type": "stream",
     "text": [
      "Provide the input string: New to Python or choosing between Python 2 and Python 3? Read Python 2 or Python 3.\n",
      "The output is : \n",
      "{'2': 2, '3.': 1, '3?': 1, 'New': 1, 'Python': 5, 'Read': 1, 'and': 1, 'between': 1, 'choosing': 1, 'or': 2, 'to': 1}\n"
     ]
    }
   ],
   "source": [
    "import operator\n",
    "l = [i for i in input(\"Provide the input string: \").split()]\n",
    "l1 = set(l)\n",
    "d = dict.fromkeys(l1,0)\n",
    "for i in l1:\n",
    "    d[i] = l.count(i)\n",
    "q = dict(sorted(d.items(),key = operator.itemgetter(0)))\n",
    "print(\"The output is : \\n{}\".format(q))"
   ]
  },
  {
   "cell_type": "markdown",
   "id": "66af3dc8",
   "metadata": {},
   "source": [
    "<b><u>Question 3:</u></b>\n",
    "\n",
    "Define a class Person and its two child classes: Male and Female. All classes have a method \"getGender\" which can print \"Male\" for Male class and \"Female\" for Female class."
   ]
  },
  {
   "cell_type": "code",
   "execution_count": null,
   "id": "3e494842",
   "metadata": {},
   "outputs": [],
   "source": []
  },
  {
   "cell_type": "markdown",
   "id": "2b8a8132",
   "metadata": {},
   "source": [
    "<b><u>Question 4:</u></b>\n",
    "\n",
    "Please write a program to generate all sentences where subject is in [\"I\", \"You\"] and\n",
    "verb is in [\"Play\", \"Love\"] and the object is in [\"Hockey\",\"Football\"]."
   ]
  },
  {
   "cell_type": "code",
   "execution_count": null,
   "id": "ec6f58df",
   "metadata": {},
   "outputs": [],
   "source": []
  },
  {
   "cell_type": "markdown",
   "id": "fa71145c",
   "metadata": {},
   "source": [
    "<b><u>Question 5:</u></b>\n",
    "\n",
    "Please write a program to compress and decompress the string \"hello world!hello world!hello world!hello world!\"."
   ]
  },
  {
   "cell_type": "code",
   "execution_count": null,
   "id": "cc01d872",
   "metadata": {},
   "outputs": [],
   "source": []
  },
  {
   "cell_type": "markdown",
   "id": "d6513ec4",
   "metadata": {},
   "source": [
    "<b><u>Question 6:</u></b>\n",
    "\n",
    "Please write a binary search function which searches an item in a sorted list. The function should return the index of element to be searched in the list."
   ]
  },
  {
   "cell_type": "code",
   "execution_count": null,
   "id": "9399df40",
   "metadata": {},
   "outputs": [],
   "source": []
  }
 ],
 "metadata": {
  "kernelspec": {
   "display_name": "Python 3 (ipykernel)",
   "language": "python",
   "name": "python3"
  },
  "language_info": {
   "codemirror_mode": {
    "name": "ipython",
    "version": 3
   },
   "file_extension": ".py",
   "mimetype": "text/x-python",
   "name": "python",
   "nbconvert_exporter": "python",
   "pygments_lexer": "ipython3",
   "version": "3.8.5"
  },
  "toc": {
   "base_numbering": 1,
   "nav_menu": {},
   "number_sections": true,
   "sideBar": true,
   "skip_h1_title": false,
   "title_cell": "Table of Contents",
   "title_sidebar": "Contents",
   "toc_cell": false,
   "toc_position": {},
   "toc_section_display": true,
   "toc_window_display": false
  }
 },
 "nbformat": 4,
 "nbformat_minor": 5
}
