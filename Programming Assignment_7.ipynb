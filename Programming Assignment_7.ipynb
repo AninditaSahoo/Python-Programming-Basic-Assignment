{
 "cells": [
  {
   "cell_type": "markdown",
   "id": "c13b51f9",
   "metadata": {},
   "source": [
    "# Python Programming Basic Assignment\n",
    "## Programming Assignment_7"
   ]
  },
  {
   "cell_type": "markdown",
   "id": "dfc595e7",
   "metadata": {},
   "source": [
    "<b>Q1. </b> Write a Python Program to find sum of array?"
   ]
  },
  {
   "cell_type": "code",
   "execution_count": 1,
   "id": "e0fa8e88",
   "metadata": {},
   "outputs": [
    {
     "name": "stdout",
     "output_type": "stream",
     "text": [
      "Enter a squence of numbers (Space separated): 1 2 3 4 5\n",
      "1 +  2 +  3 +  4 +  5   = 15\n"
     ]
    }
   ],
   "source": [
    "l = [int(i) for i in input(\"Enter a squence of numbers (Space separated): \").split()]\n",
    "res = 0\n",
    "for i in range(len(l)):\n",
    "    res = res+l[i]\n",
    "    if i == len(l)-1:\n",
    "        print(\"{} \".format(l[i]),end =\" \")\n",
    "    else:\n",
    "        print(\"{} + \".format(l[i]),end =\" \")\n",
    "        \n",
    "print(\" = {}\".format(res))"
   ]
  },
  {
   "cell_type": "markdown",
   "id": "9a0c6486",
   "metadata": {},
   "source": [
    "<b>Q2. </b> Write a Python Program to find largest element in an array?"
   ]
  },
  {
   "cell_type": "code",
   "execution_count": 2,
   "id": "ac454fc3",
   "metadata": {},
   "outputs": [
    {
     "name": "stdout",
     "output_type": "stream",
     "text": [
      "Enter a squence of numbers (space separated): 558 5262 9002 342 67\n",
      "Largest element is : 9002\n"
     ]
    }
   ],
   "source": [
    "l = [int(i) for i in input(\"Enter a squence of numbers (space separated): \").split()]\n",
    "print(\"Largest element is : {}\".format(max(l)))"
   ]
  },
  {
   "cell_type": "markdown",
   "id": "5c5a3b84",
   "metadata": {},
   "source": [
    "<b>Q3. </b>Write a Python Program for array rotation?"
   ]
  },
  {
   "cell_type": "code",
   "execution_count": 3,
   "id": "45cb2060",
   "metadata": {},
   "outputs": [
    {
     "name": "stdout",
     "output_type": "stream",
     "text": [
      "Enter a squence of numbers (with comma separated) : 1,2,3,4,5,6,7,8,9\n",
      "from which position do you want to rotate : 2\n",
      "[3, 4, 5, 6, 7, 8, 9, 1, 2]\n"
     ]
    }
   ],
   "source": [
    "l = [int(i) for i in input(\"Enter a squence of numbers (with comma separated) : \").split(',')]\n",
    "pos = int(input(\"from which position do you want to rotate : \"))\n",
    "res = l[pos:len(l)] + l[0:pos]\n",
    "print(res)"
   ]
  },
  {
   "cell_type": "markdown",
   "id": "6626ef3a",
   "metadata": {},
   "source": [
    "<b>Q4. </b> Write a Python Program to Split the array and add the first part to the end?"
   ]
  },
  {
   "cell_type": "code",
   "execution_count": 4,
   "id": "b9aca5b3",
   "metadata": {},
   "outputs": [
    {
     "name": "stdout",
     "output_type": "stream",
     "text": [
      "Enter a squence of numbers (with comma separated) : 1,2,3,4,5,6,7,8,9\n",
      "from which position do you want to split the array : 2\n",
      "array 1 is : [1, 2]\n",
      "Array 2 is : [3, 4, 5, 6, 7, 8, 9]\n",
      "[3, 4, 5, 6, 7, 8, 9, 1, 2]\n"
     ]
    }
   ],
   "source": [
    "l = [int(i) for i in input(\"Enter a squence of numbers (with comma separated) : \").split(',')]\n",
    "pos = int(input(\"from which position do you want to split the array : \"))\n",
    "print(\"array 1 is : {}\".format(l[0:pos]))\n",
    "print(\"Array 2 is : {}\".format(l[pos:len(l)]))\n",
    "res = l[pos:len(l)] + l[0:pos]\n",
    "print(res)"
   ]
  },
  {
   "cell_type": "markdown",
   "id": "e04becb0",
   "metadata": {},
   "source": [
    "<b>Q5. </b>Write a Python Program to check if given array is Monotonic?"
   ]
  },
  {
   "cell_type": "code",
   "execution_count": 5,
   "id": "fc0b023e",
   "metadata": {},
   "outputs": [
    {
     "name": "stdout",
     "output_type": "stream",
     "text": [
      "Enter a squence of numbers (with comma separated) : 1,2,4,7,9\n",
      "True\n"
     ]
    }
   ],
   "source": [
    "def isMonotonic(A):\n",
    "    return (all(A[i] <= A[i + 1] for i in range(len(A) - 1)) or\n",
    "      all(A[i] >= A[i + 1] for i in range(len(A) - 1)))\n",
    "A = [int(i) for i in input(\"Enter a squence of numbers (with comma separated) : \").split(',')]\n",
    "print(isMonotonic(A))"
   ]
  }
 ],
 "metadata": {
  "kernelspec": {
   "display_name": "Python 3 (ipykernel)",
   "language": "python",
   "name": "python3"
  },
  "language_info": {
   "codemirror_mode": {
    "name": "ipython",
    "version": 3
   },
   "file_extension": ".py",
   "mimetype": "text/x-python",
   "name": "python",
   "nbconvert_exporter": "python",
   "pygments_lexer": "ipython3",
   "version": "3.8.5"
  },
  "toc": {
   "base_numbering": 1,
   "nav_menu": {},
   "number_sections": true,
   "sideBar": true,
   "skip_h1_title": false,
   "title_cell": "Table of Contents",
   "title_sidebar": "Contents",
   "toc_cell": false,
   "toc_position": {},
   "toc_section_display": true,
   "toc_window_display": false
  }
 },
 "nbformat": 4,
 "nbformat_minor": 5
}
