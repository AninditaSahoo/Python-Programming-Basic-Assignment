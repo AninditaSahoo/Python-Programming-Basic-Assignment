{
 "cells": [
  {
   "cell_type": "markdown",
   "id": "ea40aec7",
   "metadata": {},
   "source": [
    "# Python Programming Basic Assignment\n",
    "## Programming Assignment_17"
   ]
  },
  {
   "cell_type": "markdown",
   "id": "44c0cf2f",
   "metadata": {},
   "source": [
    "<b><u>Question1.</b></u>\n",
    "\n",
    "Create a function that takes three arguments a, b, c and returns the sum of the numbers that are evenly divided by c from the range a, b inclusive.\n",
    "\n",
    "<b>Examples:</b>\n",
    "    \n",
    "evenly_divisible(1, 10, 20) ➞ 0 # No number between 1 and 10 can be evenly divided by 20.\n",
    "\n",
    "evenly_divisible(1, 10, 2) ➞ 30 # 2 + 4 + 6 + 8 + 10 = 30\n",
    "\n",
    "evenly_divisible(1, 10, 3) ➞ 18 # 3 + 6 + 9 = 18"
   ]
  },
  {
   "cell_type": "code",
   "execution_count": 1,
   "id": "bba0ac25",
   "metadata": {},
   "outputs": [
    {
     "name": "stdout",
     "output_type": "stream",
     "text": [
      "Enter three numbers (comma searated) : 1,10,2\n",
      "30\n"
     ]
    }
   ],
   "source": [
    "a,b,c = input(\"Enter three numbers (comma searated) : \").split(\",\")\n",
    "def evenly_divisible(a,b,c):\n",
    "    l = []\n",
    "    for i in range(int(a),int(b)+1):\n",
    "        if i%int(c) == 0 :\n",
    "            l.append(i)\n",
    "    return sum(l)\n",
    "print(evenly_divisible(a,b,c))"
   ]
  },
  {
   "cell_type": "markdown",
   "id": "6f00af2b",
   "metadata": {},
   "source": [
    "<b>Answer:\n",
    "<br>Enter three numbers (comma searated) : 1,10,2\n",
    "<br>30</b>"
   ]
  },
  {
   "cell_type": "markdown",
   "id": "e60513db",
   "metadata": {},
   "source": [
    "<b><u>Question2.</u></b>\n",
    "\n",
    "Create a function that returns True if a given inequality expression is correct and False otherwise.\n",
    "\n",
    "<b>Examples : </b>\n",
    "\n",
    "correct_signs(\"3 < 7 < 11\") ➞ True\n",
    "\n",
    "correct_signs(&quot;13 &gt; 44 &gt; 33 &gt; 1&quot;) ➞ False\n",
    "\n",
    "correct_signs(&quot;1 &lt; 2 &lt; 6 &lt; 9 &gt; 3&quot;) ➞ True"
   ]
  },
  {
   "cell_type": "code",
   "execution_count": 2,
   "id": "b4fc9f8d",
   "metadata": {},
   "outputs": [
    {
     "name": "stdout",
     "output_type": "stream",
     "text": [
      "Enter the expression : 13 > 44 > 33 > 1\n"
     ]
    },
    {
     "data": {
      "text/plain": [
       "False"
      ]
     },
     "execution_count": 2,
     "metadata": {},
     "output_type": "execute_result"
    }
   ],
   "source": [
    "from re import split\n",
    "def correct_signs(expr): \n",
    "    expr = expr.replace(' ','') \n",
    "    return eval(expr)\n",
    "expression = input(\"Enter the expression : \")\n",
    "correct_signs(expression)"
   ]
  },
  {
   "cell_type": "markdown",
   "id": "8c3cd328",
   "metadata": {},
   "source": [
    "<b>Answer:\n",
    "<br>Enter the expression : 13 > 44 > 33 > 1\n",
    "<br>False</b>"
   ]
  },
  {
   "cell_type": "markdown",
   "id": "d516e65a",
   "metadata": {},
   "source": [
    "<b><u>Question3.</u></b> \n",
    "\n",
    "Create a function that replaces all the vowels in a string with a specified character.\n",
    "\n",
    "<b>Examples : </b>\n",
    "\n",
    "replace_vowels(\"the aardvark\", \"#\") ➞ \"th# ##rdv#rk\"\n",
    "\n",
    "replace_vowels(\"minnie mouse\", \"?\") ➞ \"m?nn?? m??s?\"\n",
    "\n",
    "replace_vowels(\"shakespeare\", \"*\") ➞ \"sh*k*sp**r*\""
   ]
  },
  {
   "cell_type": "code",
   "execution_count": 3,
   "id": "956aac24",
   "metadata": {},
   "outputs": [
    {
     "name": "stdout",
     "output_type": "stream",
     "text": [
      "Enter the string and the character to be replaced (comma separated): minnie mouse,?\n"
     ]
    },
    {
     "data": {
      "text/plain": [
       "'m?nn?? m??s?'"
      ]
     },
     "execution_count": 3,
     "metadata": {},
     "output_type": "execute_result"
    }
   ],
   "source": [
    "def replace_vowels(input_str, spl_char):\n",
    "    vowels = 'AEIOUaeiou'\n",
    "    for ele in vowels:\n",
    "        input_str = input_str.replace(ele, spl_char)\n",
    "    return input_str\n",
    "input_str,spl_char = input(\"Enter the string and the character to be replaced (comma separated): \").split(\",\")\n",
    "replace_vowels(input_str,spl_char)"
   ]
  },
  {
   "cell_type": "markdown",
   "id": "638e4eb6",
   "metadata": {},
   "source": [
    "<b>Answer:\n",
    "<br>Enter the string and the character to be replaced (comma separated): minnie mouse,?\n",
    "<br>'m?nn?? m??s?'</b>"
   ]
  },
  {
   "cell_type": "markdown",
   "id": "9b59106e",
   "metadata": {},
   "source": [
    "<b><u>Question4. </u></b>\n",
    "\n",
    "Write a function that calculates the factorial of a number recursively.\n",
    "\n",
    "<b>Examples :</b>\n",
    "\n",
    "factorial(5) ➞ 120\n",
    "\n",
    "factorial(3) ➞ 6\n",
    "\n",
    "factorial(1) ➞ 1\n",
    "\n",
    "factorial(0) ➞ 1"
   ]
  },
  {
   "cell_type": "code",
   "execution_count": 4,
   "id": "3cb75239",
   "metadata": {},
   "outputs": [
    {
     "name": "stdout",
     "output_type": "stream",
     "text": [
      "Enter a number : 3\n",
      "6\n"
     ]
    }
   ],
   "source": [
    "def factorial(num):\n",
    "    if num == 1:\n",
    "        return num\n",
    "    else:\n",
    "        return num*factorial(num-1)\n",
    "    return num*factorial(num-1)\n",
    "num = int(input(\"Enter a number : \"))\n",
    "print(factorial(num))"
   ]
  },
  {
   "cell_type": "markdown",
   "id": "1e938737",
   "metadata": {},
   "source": [
    "<b>Answer: \n",
    "<br>Enter a number : 3\n",
    "<br>6</b>"
   ]
  },
  {
   "cell_type": "markdown",
   "id": "d945dd8d",
   "metadata": {},
   "source": [
    "<b><u>Question 5:</u></b>\n",
    "\n",
    "Hamming distance is the number of characters that differ between two strings.\n",
    "\n",
    "<b>To illustrate:</b>\n",
    "\n",
    "String1: \"abcbba\"\n",
    "\n",
    "String2: \"abcbda\"\n",
    "\n",
    "Hamming Distance: 1 - \"b\" vs. \"d\" is the only difference.\n",
    "\n",
    "Create a function that computes the hamming distance between two strings.\n",
    "\n",
    "<b>Examples : </b>\n",
    "\n",
    "hamming_distance(\"abcde\", \"bcdef\") ➞ 5\n",
    "\n",
    "hamming_distance(\"abcde\", \"abcde\") ➞ 0\n",
    "\n",
    "hamming_distance(\"strong\", \"strung\") ➞ 1"
   ]
  },
  {
   "cell_type": "code",
   "execution_count": 5,
   "id": "2d3e045c",
   "metadata": {},
   "outputs": [
    {
     "name": "stdout",
     "output_type": "stream",
     "text": [
      "Enter two string (comma separated) : abcde,bcdef\n",
      "5\n"
     ]
    }
   ],
   "source": [
    "def hamming_distance(s1,s2):\n",
    "    global count\n",
    "    l = max(len(s1),len(s2))\n",
    "    for i in range(l):\n",
    "        if s1[i]!=s2[i]:\n",
    "            count = count + 1\n",
    "    return count\n",
    "global count\n",
    "count = 0\n",
    "s1,s2 = input(\"Enter two string (comma separated) : \").split(\",\")\n",
    "print(hamming_distance(s1,s2))"
   ]
  },
  {
   "cell_type": "markdown",
   "id": "94d8132b",
   "metadata": {},
   "source": [
    "<b>Answer: \n",
    "<br>Enter two string (comma separated) : abcde,bcdef\n",
    "<br>5</b>"
   ]
  }
 ],
 "metadata": {
  "kernelspec": {
   "display_name": "Python 3 (ipykernel)",
   "language": "python",
   "name": "python3"
  },
  "language_info": {
   "codemirror_mode": {
    "name": "ipython",
    "version": 3
   },
   "file_extension": ".py",
   "mimetype": "text/x-python",
   "name": "python",
   "nbconvert_exporter": "python",
   "pygments_lexer": "ipython3",
   "version": "3.8.5"
  },
  "toc": {
   "base_numbering": 1,
   "nav_menu": {},
   "number_sections": true,
   "sideBar": true,
   "skip_h1_title": false,
   "title_cell": "Table of Contents",
   "title_sidebar": "Contents",
   "toc_cell": false,
   "toc_position": {},
   "toc_section_display": true,
   "toc_window_display": false
  }
 },
 "nbformat": 4,
 "nbformat_minor": 5
}
