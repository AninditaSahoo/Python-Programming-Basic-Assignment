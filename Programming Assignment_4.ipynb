{
 "cells": [
  {
   "cell_type": "markdown",
   "id": "3decde79",
   "metadata": {},
   "source": [
    "# Python Programming Basic Assignment\n",
    "## Programming Assignment_4"
   ]
  },
  {
   "cell_type": "markdown",
   "id": "dc814822",
   "metadata": {},
   "source": [
    "<b>Q1. </b> Write a Python Program to Find the Factorial of a Number?"
   ]
  },
  {
   "cell_type": "code",
   "execution_count": 1,
   "id": "04a742ff",
   "metadata": {},
   "outputs": [
    {
     "name": "stdout",
     "output_type": "stream",
     "text": [
      "Enter a number whose factorial you want: 5\n",
      "Factorial of 5 = 120\n"
     ]
    }
   ],
   "source": [
    "import math\n",
    "num = int(input(\"Enter a number whose factorial you want: \"))\n",
    "print(\"Factorial of {} = {}\".format(num,math.factorial(num)))"
   ]
  },
  {
   "cell_type": "markdown",
   "id": "f9c4e228",
   "metadata": {},
   "source": [
    "<b>Q2. </b>Write a Python Program to Display the multiplication Table?"
   ]
  },
  {
   "cell_type": "code",
   "execution_count": 2,
   "id": "752e13b4",
   "metadata": {},
   "outputs": [
    {
     "name": "stdout",
     "output_type": "stream",
     "text": [
      "Enter the number whose multiplication table you want : 7\n",
      "7 X 1 = 7\n",
      "7 X 2 = 14\n",
      "7 X 3 = 21\n",
      "7 X 4 = 28\n",
      "7 X 5 = 35\n",
      "7 X 6 = 42\n",
      "7 X 7 = 49\n",
      "7 X 8 = 56\n",
      "7 X 9 = 63\n",
      "7 X 10 = 70\n"
     ]
    }
   ],
   "source": [
    "num = int(input(\"Enter the number whose multiplication table you want : \"))\n",
    "for i in range(1,11):\n",
    "    print(\"{} X {} = {}\".format(num,i,num*i))"
   ]
  },
  {
   "cell_type": "markdown",
   "id": "e92a3928",
   "metadata": {},
   "source": [
    "<b>Q3. </b>Write a Python Program to Print the Fibonacci sequence?"
   ]
  },
  {
   "cell_type": "code",
   "execution_count": 3,
   "id": "a8a88663",
   "metadata": {},
   "outputs": [
    {
     "name": "stdout",
     "output_type": "stream",
     "text": [
      "enter a number : 9\n",
      "0 1 1 2 3 5 8 13 21 34 "
     ]
    }
   ],
   "source": [
    "num=int(input(\"enter a number : \"))\n",
    "a = 0\n",
    "b = 1\n",
    "print(a,end=(\" \"))\n",
    "for i in range(num):\n",
    "    a,b=b,a+b\n",
    "    print(a,end=(\" \"))"
   ]
  },
  {
   "cell_type": "code",
   "execution_count": 4,
   "id": "c4867248",
   "metadata": {},
   "outputs": [
    {
     "name": "stdout",
     "output_type": "stream",
     "text": [
      "Enter a number: 9\n"
     ]
    },
    {
     "data": {
      "text/plain": [
       "[0, 1, 1, 2, 3, 5, 8, 13, 21]"
      ]
     },
     "execution_count": 4,
     "metadata": {},
     "output_type": "execute_result"
    }
   ],
   "source": [
    "def fibonacci_of(num):\n",
    "    if num in [0, 1]:  \n",
    "        return num\n",
    "    return fibonacci_of(num - 1) + fibonacci_of(num - 2)\n",
    "num = int(input(\"Enter a number: \"))\n",
    "[fibonacci_of(n) for n in range(num)]"
   ]
  },
  {
   "cell_type": "code",
   "execution_count": 5,
   "id": "cbd5ded2",
   "metadata": {},
   "outputs": [
    {
     "name": "stdout",
     "output_type": "stream",
     "text": [
      "Enter a number : 9\n",
      "[0, 1, 1, 2, 3, 5, 8, 13, 21]\n"
     ]
    }
   ],
   "source": [
    "def fibonacci_seq(num):\n",
    "    a = 0\n",
    "    b = 1\n",
    "    for i in range(num):\n",
    "        yield a\n",
    "        a,b = b, a+b        \n",
    "print(list(fibonacci_seq(int(input(\"Enter a number : \")))))"
   ]
  },
  {
   "cell_type": "markdown",
   "id": "e0739946",
   "metadata": {},
   "source": [
    "<b>Q4. </b> Write a Python Program to Check Armstrong Number?"
   ]
  },
  {
   "cell_type": "code",
   "execution_count": 6,
   "id": "9df0f63d",
   "metadata": {},
   "outputs": [
    {
     "name": "stdout",
     "output_type": "stream",
     "text": [
      "Enter number to check if it is Armstrong or not : 1634\n",
      "Armstrong number\n"
     ]
    }
   ],
   "source": [
    "num = int(input(\"Enter number to check if it is Armstrong or not : \"))\n",
    "res = 0\n",
    "for i in str(num):\n",
    "    res = res+(int(i)**len(str(num)))\n",
    "if res == num:\n",
    "    print(\"Armstrong number\")\n",
    "else:\n",
    "    print(\"Not an Armstrong number\")"
   ]
  },
  {
   "cell_type": "markdown",
   "id": "4d5f039a",
   "metadata": {},
   "source": [
    "<b>Q5. </b>Write a Python Program to Find Armstrong Number in an Interval?"
   ]
  },
  {
   "cell_type": "code",
   "execution_count": 7,
   "id": "987179e3",
   "metadata": {},
   "outputs": [
    {
     "name": "stdout",
     "output_type": "stream",
     "text": [
      "Enter the lower range : 10\n",
      "Enter the upper range :1000\n",
      "153\n",
      "370\n",
      "370\n",
      "371\n",
      "407\n"
     ]
    }
   ],
   "source": [
    "n1 = int(input(\"Enter the lower range : \"))\n",
    "n2 = int(input(\"Enter the upper range :\"))\n",
    "for i in range(n1,n2): \n",
    "    res = 0\n",
    "    for j in str(i): \n",
    "        res = res+(int(j)**len(str(i)))\n",
    "        if res == int(i):\n",
    "            print(res)"
   ]
  },
  {
   "cell_type": "markdown",
   "id": "dc56bcac",
   "metadata": {},
   "source": [
    "<b>Q6. </b>Write a Python Program to Find the Sum of Natural Numbers?"
   ]
  },
  {
   "cell_type": "code",
   "execution_count": 8,
   "id": "da825b01",
   "metadata": {},
   "outputs": [
    {
     "name": "stdout",
     "output_type": "stream",
     "text": [
      "Enter the number :10\n",
      "0+1+2+3+4+5+6+7+8+9+10=55\n"
     ]
    }
   ],
   "source": [
    "num = int(input(\"Enter the number :\"))\n",
    "res = 0\n",
    "for i in range(num+1): \n",
    "    res = res+i\n",
    "    if i == num:\n",
    "        print(\"{}\".format(i),end=\"\")\n",
    "        print(\"={}\".format(res))\n",
    "    else:\n",
    "        print(\"{}+\".format(i),end=\"\")"
   ]
  }
 ],
 "metadata": {
  "kernelspec": {
   "display_name": "Python 3 (ipykernel)",
   "language": "python",
   "name": "python3"
  },
  "language_info": {
   "codemirror_mode": {
    "name": "ipython",
    "version": 3
   },
   "file_extension": ".py",
   "mimetype": "text/x-python",
   "name": "python",
   "nbconvert_exporter": "python",
   "pygments_lexer": "ipython3",
   "version": "3.8.5"
  },
  "toc": {
   "base_numbering": 1,
   "nav_menu": {},
   "number_sections": true,
   "sideBar": true,
   "skip_h1_title": false,
   "title_cell": "Table of Contents",
   "title_sidebar": "Contents",
   "toc_cell": false,
   "toc_position": {},
   "toc_section_display": true,
   "toc_window_display": false
  }
 },
 "nbformat": 4,
 "nbformat_minor": 5
}
