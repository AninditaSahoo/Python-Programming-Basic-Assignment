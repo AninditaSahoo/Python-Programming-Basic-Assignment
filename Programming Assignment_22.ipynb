{
 "cells": [
  {
   "cell_type": "markdown",
   "id": "7acb1155",
   "metadata": {},
   "source": [
    "# Python Programming Basic Assignment\n",
    "## Programming Assignment_22"
   ]
  },
  {
   "cell_type": "markdown",
   "id": "66d580ef",
   "metadata": {},
   "source": [
    "<b><u>Question1</u></b>\n",
    "\n",
    "Create a function that takes three parameters where:\n",
    "<li>x is the start of the range (inclusive).</li>\n",
    "<li>y is the end of the range (inclusive).</li>\n",
    "<li>n is the divisor to be checked against.</li>\n",
    "\n",
    "Return an ordered list with numbers in the range that are divisible by the third parameter n.\n",
    "\n",
    "Return an empty list if there are no numbers that are divisible by n.\n",
    "\n",
    "<b>Examples : </b>\n",
    "\n",
    "list_operation(1, 10, 3) ➞ [3, 6, 9]\n",
    "\n",
    "list_operation(7, 9, 2) ➞ [8]\n",
    "\n",
    "list_operation(15, 20, 7) ➞ []"
   ]
  },
  {
   "cell_type": "code",
   "execution_count": 1,
   "id": "344a7eeb",
   "metadata": {
    "scrolled": true
   },
   "outputs": [
    {
     "name": "stdout",
     "output_type": "stream",
     "text": [
      "Enter the three parameters x, y and n : 1,10,3\n",
      "[3, 6, 9]\n"
     ]
    }
   ],
   "source": [
    "def list_operation(x,y,n):\n",
    "    l = []\n",
    "    for i in range(x,y+1):\n",
    "        if i%int(n) == 0:\n",
    "            l.append(i)\n",
    "    return l\n",
    "x,y,n = input(\"Enter the three parameters x, y and n : \").split(\",\")\n",
    "print(list_operation(int(x),int(y),int(n)))"
   ]
  },
  {
   "cell_type": "markdown",
   "id": "a90ada6d",
   "metadata": {},
   "source": [
    "<b>Answer:\n",
    "<br>Enter the three parameters x, y and n : 1,10,3\n",
    "<br>[3, 6, 9]</b>"
   ]
  },
  {
   "cell_type": "markdown",
   "id": "ee443a76",
   "metadata": {},
   "source": [
    "<b><u>Question2<u></b>\n",
    "    \n",
    "Create a function that takes in two lists and returns True if the second list follows the first list by one element, and False otherwise. In other words, determine if the second list is the first list shifted to the right by 1.\n",
    "\n",
    "<b>Examples : </b>\n",
    "    \n",
    "simon_says([1, 2], [5, 1]) ➞ True\n",
    "    \n",
    "simon_says([1, 2], [5, 5]) ➞ False\n",
    "    \n",
    "simon_says([1, 2, 3, 4, 5], [0, 1, 2, 3, 4]) ➞ True\n",
    "    \n",
    "simon_says([1, 2, 3, 4, 5], [5, 5, 1, 2, 3]) ➞ False\n",
    "    \n",
    "<b>Notes</b>\n",
    "    \n",
    "<li>Both input lists will be of the same length, and will have a minimum length of 2.</li>\n",
    "<li>The values of the 0-indexed element in the second list and the n-1th indexed element in the first list do not matter.</li>"
   ]
  },
  {
   "cell_type": "code",
   "execution_count": 2,
   "id": "5e8d5317",
   "metadata": {},
   "outputs": [
    {
     "name": "stdout",
     "output_type": "stream",
     "text": [
      "Enter 1st lists : [1, 2, 3, 4, 5]\n",
      "Enter 2nd lists : [5, 5, 1, 2, 3]\n",
      "False\n"
     ]
    }
   ],
   "source": [
    "def simon_says(l1,l2):\n",
    "    if l1[0] == l2[1]:\n",
    "        return True\n",
    "    else:\n",
    "        return False\n",
    "l1 = eval(input(\"Enter 1st lists : \"))\n",
    "l2 = eval(input(\"Enter 2nd lists : \"))\n",
    "print(simon_says(l1,l2))"
   ]
  },
  {
   "cell_type": "markdown",
   "id": "b5afcedc",
   "metadata": {},
   "source": [
    "<b>Answer:\n",
    "<br>Enter 1st lists : [1, 2, 3, 4, 5]\n",
    "<br>Enter 2nd lists : [5, 5, 1, 2, 3]\n",
    "<br>False</b>"
   ]
  },
  {
   "cell_type": "markdown",
   "id": "ff137f48",
   "metadata": {},
   "source": [
    "<b><u>Question3 </u></b>\n",
    "\n",
    "A group of friends have decided to start a secret society. The name will be the first letter of each of their names, sorted in alphabetical order.\n",
    "\n",
    "Create a function that takes in a list of names and returns the name of the secret society.\n",
    "\n",
    "<b>Examples : </b>\n",
    "\n",
    "society_name([&quot;Adam&quot;, &quot;Sarah&quot;, &quot;Malcolm&quot;]) ➞ &quot;AMS&quot;\n",
    "\n",
    "society_name([&quot;Harry&quot;, &quot;Newt&quot;, &quot;Luna&quot;, &quot;Cho&quot;]) ➞ &quot;CHLN&quot;\n",
    "\n",
    "society_name([&quot;Phoebe&quot;, &quot;Chandler&quot;, &quot;Rachel&quot;, &quot;Ross&quot;, &quot;Monica&quot;, &quot;Joey&quot;])"
   ]
  },
  {
   "cell_type": "code",
   "execution_count": 3,
   "id": "7e217234",
   "metadata": {},
   "outputs": [
    {
     "name": "stdout",
     "output_type": "stream",
     "text": [
      "Enter the list of names : [\"Harry\", \"Newt\", \"Luna\", \"Cho\"]\n",
      "CHLN\n"
     ]
    }
   ],
   "source": [
    "def society_name(l):\n",
    "    a = []\n",
    "    for i in l:\n",
    "        a.append(i[0])\n",
    "    a.sort()\n",
    "    return \"\".join(a)\n",
    "l = eval(input(\"Enter the list of names : \"))\n",
    "print(society_name(l))"
   ]
  },
  {
   "cell_type": "markdown",
   "id": "52248bcb",
   "metadata": {},
   "source": [
    "<b>Answer:\n",
    "<br>Enter the list of names : [\"Harry\", \"Newt\", \"Luna\", \"Cho\"]\n",
    "<br>CHLN</b>"
   ]
  },
  {
   "cell_type": "markdown",
   "id": "4749b27c",
   "metadata": {},
   "source": [
    "<b><u>Question4</u></b>\n",
    "\n",
    "An isogram is a word that has no duplicate letters. Create a function that takes a string and returns either True or False depending on whether or not it&#39;s an &quot;isogram&quot;.\n",
    "\n",
    "<b>Examples : </b>\n",
    "\n",
    "is_isogram(&quot;Algorism&quot;) ➞ True\n",
    "\n",
    "is_isogram(&quot;PasSword&quot;) ➞ False #Not case sensitive.\n",
    "\n",
    "is_isogram(&quot;Consecutive&quot;) ➞ False\n",
    "\n",
    "<b>Notes</b>\n",
    "\n",
    "<li>Ignore letter case (should not be case sensitive).</li>\n",
    "<li>All test cases contain valid one word strings.</li>"
   ]
  },
  {
   "cell_type": "code",
   "execution_count": 4,
   "id": "edf0ca45",
   "metadata": {},
   "outputs": [
    {
     "name": "stdout",
     "output_type": "stream",
     "text": [
      "Enter the string : PasSword\n",
      "False\n"
     ]
    }
   ],
   "source": [
    "def is_isogram(s):\n",
    "    s = s.lower()\n",
    "    if len(set(s))== len(s):\n",
    "        return True\n",
    "    else:\n",
    "        return False\n",
    "s = input(\"Enter the string : \")\n",
    "print(is_isogram(s))"
   ]
  },
  {
   "cell_type": "markdown",
   "id": "a10f2559",
   "metadata": {},
   "source": [
    "<b>Answer:\n",
    "<br>Enter the string : PasSword\n",
    "<br>False</b>"
   ]
  },
  {
   "cell_type": "markdown",
   "id": "951e6475",
   "metadata": {},
   "source": [
    "<b><u>Question5</u></b>\n",
    "\n",
    "Create a function that takes a string and returns True or False, depending on whether the characters are in order or not.\n",
    "\n",
    "<b>Examples : </b>\n",
    "\n",
    "is_in_order(&quot;abc&quot;) ➞ True\n",
    "\n",
    "is_in_order(&quot;edabit&quot;) ➞ False\n",
    "\n",
    "is_in_order(&quot;123&quot;) ➞ True\n",
    "\n",
    "is_in_order(&quot;xyzz&quot;) ➞ True\n",
    "\n",
    "<b>Notes : </b>\n",
    "\n",
    "You don&#39;t have to handle empty strings."
   ]
  },
  {
   "cell_type": "code",
   "execution_count": 5,
   "id": "573a2b5f",
   "metadata": {},
   "outputs": [
    {
     "name": "stdout",
     "output_type": "stream",
     "text": [
      "Enter the string : abc\n",
      "True\n"
     ]
    }
   ],
   "source": [
    "def is_in_order(s):\n",
    "    a = \"\".join(sorted(s))\n",
    "    if a == \"\":\n",
    "        pass\n",
    "    elif a == s:\n",
    "        return True\n",
    "    else:\n",
    "        return False\n",
    "s = input(\"Enter the string : \")\n",
    "print(is_in_order(s))"
   ]
  },
  {
   "cell_type": "markdown",
   "id": "313a8f13",
   "metadata": {},
   "source": [
    "<b>Answer:\n",
    "<br>Enter the string : abc\n",
    "<br>True</b>"
   ]
  }
 ],
 "metadata": {
  "kernelspec": {
   "display_name": "Python 3 (ipykernel)",
   "language": "python",
   "name": "python3"
  },
  "language_info": {
   "codemirror_mode": {
    "name": "ipython",
    "version": 3
   },
   "file_extension": ".py",
   "mimetype": "text/x-python",
   "name": "python",
   "nbconvert_exporter": "python",
   "pygments_lexer": "ipython3",
   "version": "3.8.5"
  },
  "toc": {
   "base_numbering": 1,
   "nav_menu": {},
   "number_sections": true,
   "sideBar": true,
   "skip_h1_title": false,
   "title_cell": "Table of Contents",
   "title_sidebar": "Contents",
   "toc_cell": false,
   "toc_position": {},
   "toc_section_display": true,
   "toc_window_display": false
  }
 },
 "nbformat": 4,
 "nbformat_minor": 5
}
