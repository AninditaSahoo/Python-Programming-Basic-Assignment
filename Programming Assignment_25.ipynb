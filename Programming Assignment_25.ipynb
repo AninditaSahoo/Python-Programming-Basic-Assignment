{
 "cells": [
  {
   "cell_type": "markdown",
   "id": "17c4766e",
   "metadata": {},
   "source": [
    "# Python Programming Basic Assignment\n",
    "## Programming Assignment_25"
   ]
  },
  {
   "cell_type": "markdown",
   "id": "487cf73c",
   "metadata": {},
   "source": [
    "<b><u>Question1</u></b>\n",
    "\n",
    "Create a function that takes three integer arguments (a, b, c) and returns the amount of integers which are of equal value.\n",
    "\n",
    "<b>Examples : </b>\n",
    "\n",
    "equal(3, 4, 3) ➞ 2\n",
    "\n",
    "equal(1, 1, 1) ➞ 3\n",
    "\n",
    "equal(3, 4, 1) ➞ 0\n",
    "\n",
    "<b>Notes : </b>\n",
    "\n",
    "Your function must return 0, 2 or 3."
   ]
  },
  {
   "cell_type": "code",
   "execution_count": 1,
   "id": "c980a36f",
   "metadata": {},
   "outputs": [
    {
     "name": "stdout",
     "output_type": "stream",
     "text": [
      "Enter a, b and c value : 3,4,1\n",
      "0\n"
     ]
    }
   ],
   "source": [
    "def equal(a,b,c):\n",
    "    l = [a,b,c]\n",
    "    res = []\n",
    "    for i in l:\n",
    "        res.append(l.count(i))\n",
    "    for i in range(len(res)):\n",
    "        if res[i] == 1:\n",
    "            res[i] = 0\n",
    "    return max(res)\n",
    "a,b,c = [int(i) for i in input(\"Enter a, b and c value : \").split(\",\")]\n",
    "print(equal(a,b,c))"
   ]
  },
  {
   "cell_type": "markdown",
   "id": "f88818cf",
   "metadata": {},
   "source": [
    "<b>Answer\n",
    "<br>Enter a, b and c value : 3,4,1\n",
    "<br>0</b>"
   ]
  },
  {
   "cell_type": "markdown",
   "id": "ea223616",
   "metadata": {},
   "source": [
    "<b><u>Question2</u></b>\n",
    "\n",
    "Write a function that converts a dictionary into a list of keys-values tuples.\n",
    "\n",
    "<b>Examples </b>\n",
    "\n",
    "dict_to_list({\n",
    "&quot;D&quot;: 1,\n",
    "&quot;B&quot;: 2,\n",
    "&quot;C&quot;: 3\n",
    "}) ➞ [(&quot;B&quot;, 2), (&quot;C&quot;, 3), (&quot;D&quot;, 1)]\n",
    "\n",
    "dict_to_list({\n",
    "&quot;likes&quot;: 2,\n",
    "&quot;dislikes&quot;: 3,\n",
    "&quot;followers&quot;: 10\n",
    "}) ➞ [(&quot;dislikes&quot;, 3), (&quot;followers&quot;, 10), (&quot;likes&quot;, 2)]\n",
    "\n",
    "<b>Notes : </b>\n",
    "\n",
    "Return the elements in the list in alphabetical order."
   ]
  },
  {
   "cell_type": "code",
   "execution_count": 2,
   "id": "f3e77f78",
   "metadata": {},
   "outputs": [
    {
     "name": "stdout",
     "output_type": "stream",
     "text": [
      "Enter the dictionary : { \"likes\": 2, \"dislikes\": 3, \"followers\": 10 }\n",
      "[('dislikes', 3), ('followers', 10), ('likes', 2)]\n"
     ]
    }
   ],
   "source": [
    "def dict_to_list(d):\n",
    "    a = [(k,v) for k,v in d.items()]\n",
    "    a.sort()\n",
    "    return a\n",
    "d = eval(input(\"Enter the dictionary : \"))\n",
    "print(dict_to_list(d))"
   ]
  },
  {
   "cell_type": "markdown",
   "id": "b2bff7cc",
   "metadata": {},
   "source": [
    "<b>Answer:</b>\n",
    "<br>Enter the dictionary : { \"likes\": 2, \"dislikes\": 3, \"followers\": 10 }\n",
    "<br>[('dislikes', 3), ('followers', 10), ('likes', 2)]</b>"
   ]
  },
  {
   "cell_type": "markdown",
   "id": "041be9bf",
   "metadata": {},
   "source": [
    "<b><u>Question3</u></b>\n",
    "\n",
    "Write a function that creates a dictionary with each (key, value) pair being the (lower case, upper case) versions of a letter, respectively.\n",
    "\n",
    "<b>Examples : </b>\n",
    "\n",
    "mapping([&quot;p&quot;, &quot;s&quot;]) ➞ { &quot;p&quot;: &quot;P&quot;, &quot;s&quot;: &quot;S&quot; }\n",
    "\n",
    "mapping([&quot;a&quot;, &quot;b&quot;, &quot;c&quot;]) ➞ { &quot;a&quot;: &quot;A&quot;, &quot;b&quot;: &quot;B&quot;, &quot;c&quot;: &quot;C&quot; }\n",
    "\n",
    "mapping([&quot;a&quot;, &quot;v&quot;, &quot;y&quot;, &quot;z&quot;]) ➞ { &quot;a&quot;: &quot;A&quot;, &quot;v&quot;: &quot;V&quot;, &quot;y&quot;: &quot;Y&quot;, &quot;z&quot;: &quot;Z&quot; }\n",
    "\n",
    "<b>Notes : </b>\n",
    "\n",
    "All of the letters in the input list will always be lowercase."
   ]
  },
  {
   "cell_type": "code",
   "execution_count": 3,
   "id": "a2dc6fbb",
   "metadata": {},
   "outputs": [
    {
     "name": "stdout",
     "output_type": "stream",
     "text": [
      "Enter the list : [\"a\", \"v\", \"y\", \"z\"]\n",
      "{'a': 'A', 'v': 'V', 'y': 'Y', 'z': 'Z'}\n"
     ]
    }
   ],
   "source": [
    "def mapping(l):\n",
    "    return {i:i.upper() for i in l}\n",
    "l = eval(input(\"Enter the list : \"))\n",
    "print(mapping(l))"
   ]
  },
  {
   "cell_type": "markdown",
   "id": "5ba3df2e",
   "metadata": {},
   "source": [
    "<b>Answer:\n",
    "<br>Enter the list : [\"a\", \"v\", \"y\", \"z\"]\n",
    "<br>{'a': 'A', 'v': 'V', 'y': 'Y', 'z': 'Z'}</b>"
   ]
  },
  {
   "cell_type": "markdown",
   "id": "bd0ef0e7",
   "metadata": {},
   "source": [
    "<b><u>Question4</u></b>\n",
    "\n",
    "Write a function, that replaces all vowels in a string with a specified vowel.\n",
    "\n",
    "<b>Examples : </b>\n",
    "\n",
    "vow_replace(&quot;apples and bananas&quot;, &quot;u&quot;) ➞ &quot;upplus und bununus&quot;\n",
    "\n",
    "vow_replace(&quot;cheese casserole&quot;, &quot;o&quot;) ➞ &quot;chooso cossorolo&quot;\n",
    "\n",
    "vow_replace(&quot;stuffed jalapeno poppers&quot;, &quot;e&quot;) ➞ &quot;steffed jelepene peppers&quot;\n",
    "\n",
    "<b>Notes : </b>\n",
    "\n",
    "All words will be lowercase. Y is not considered a vowel."
   ]
  },
  {
   "cell_type": "code",
   "execution_count": 4,
   "id": "050920c6",
   "metadata": {},
   "outputs": [
    {
     "name": "stdout",
     "output_type": "stream",
     "text": [
      "Enter the string and the vowel (with comma separated) : stuffed jalapeno poppers,e\n",
      "steffed jelepene peppers\n"
     ]
    }
   ],
   "source": [
    "def vow_replace(s,v):\n",
    "    res = \"\"\n",
    "    for i in s:\n",
    "        if i in \"aeiouAEIOU\":\n",
    "            res = res + v\n",
    "        else:\n",
    "            res = res + i\n",
    "    return res\n",
    "s,v = input(\"Enter the string and the vowel (with comma separated) : \").split(\",\")\n",
    "print(vow_replace(s,v))"
   ]
  },
  {
   "cell_type": "markdown",
   "id": "c342fd71",
   "metadata": {},
   "source": [
    "<b>Answer:\n",
    "<br>Enter the string and the vowel (with comma separated) : stuffed jalapeno poppers,e\n",
    "<br>steffed jelepene peppers</b>"
   ]
  },
  {
   "cell_type": "markdown",
   "id": "bf7a8c82",
   "metadata": {},
   "source": [
    "<b><u>Question5</u></b>\n",
    "\n",
    "Create a function that takes a string as input and capitalizes a letter if its ASCII code is even and returns its lower case version if its ASCII code is odd.\n",
    "\n",
    "<b>Examples : </b>\n",
    "\n",
    "ascii_capitalize(&quot;to be or not to be!&quot;) ➞ &quot;To Be oR NoT To Be!&quot;\n",
    "\n",
    "ascii_capitalize(&quot;THE LITTLE MERMAID&quot;) ➞ &quot;THe LiTTLe meRmaiD&quot;\n",
    "\n",
    "ascii_capitalize(&quot;Oh what a beautiful morning.&quot;) ➞ &quot;oH wHaT a BeauTiFuL moRNiNg.&quot;"
   ]
  },
  {
   "cell_type": "code",
   "execution_count": 5,
   "id": "1e4bbbb7",
   "metadata": {},
   "outputs": [
    {
     "name": "stdout",
     "output_type": "stream",
     "text": [
      "Enter the string : Oh what a beautiful morning.\n",
      "OH wHaT a BeauTiFuL moRNiNg.\n"
     ]
    }
   ],
   "source": [
    "def ascii_capitalize(s):\n",
    "    res = \"\"\n",
    "    for i in s:\n",
    "        if ord(i)%2 == 0:\n",
    "            res = res + i.upper()\n",
    "        else:\n",
    "            res = res + i\n",
    "    return res\n",
    "s = input(\"Enter the string : \")\n",
    "print(ascii_capitalize(s))"
   ]
  },
  {
   "cell_type": "markdown",
   "id": "c9645f3e",
   "metadata": {},
   "source": [
    "<b>Answer:\n",
    "<br>Enter the string : Oh what a beautiful morning.\n",
    "<br>OH wHaT a BeauTiFuL moRNiNg.</b>"
   ]
  }
 ],
 "metadata": {
  "kernelspec": {
   "display_name": "Python 3 (ipykernel)",
   "language": "python",
   "name": "python3"
  },
  "language_info": {
   "codemirror_mode": {
    "name": "ipython",
    "version": 3
   },
   "file_extension": ".py",
   "mimetype": "text/x-python",
   "name": "python",
   "nbconvert_exporter": "python",
   "pygments_lexer": "ipython3",
   "version": "3.8.5"
  },
  "toc": {
   "base_numbering": 1,
   "nav_menu": {},
   "number_sections": true,
   "sideBar": true,
   "skip_h1_title": false,
   "title_cell": "Table of Contents",
   "title_sidebar": "Contents",
   "toc_cell": false,
   "toc_position": {},
   "toc_section_display": true,
   "toc_window_display": false
  }
 },
 "nbformat": 4,
 "nbformat_minor": 5
}
