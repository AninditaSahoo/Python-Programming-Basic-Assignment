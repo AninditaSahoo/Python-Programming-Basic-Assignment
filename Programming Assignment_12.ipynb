{
 "cells": [
  {
   "cell_type": "markdown",
   "id": "f4dcf4ca",
   "metadata": {},
   "source": [
    "# Python Programming Basic Assignment\n",
    "## Programming Assignment_12"
   ]
  },
  {
   "cell_type": "markdown",
   "id": "7df8a689",
   "metadata": {},
   "source": [
    "<b>Q1. </b>Write a Python program to Extract Unique values dictionary values?"
   ]
  },
  {
   "cell_type": "code",
   "execution_count": 1,
   "id": "863bae9c",
   "metadata": {},
   "outputs": [
    {
     "name": "stdout",
     "output_type": "stream",
     "text": [
      "The unique values in the dictionary values are : [1, 6, 10, 11, 12, 21, 71, 79, 91, 95, 123]\n"
     ]
    }
   ],
   "source": [
    "d = {'a' : [123, 21, 79, 11],\n",
    "    'b' : [1, 12, 71, 95],\n",
    "    'c' : [6, 12, 10, 91],\n",
    "    'd' : [1, 12, 21]}\n",
    "l = list(set([v1 for k,v in d.items() for v1 in v]))\n",
    "l.sort()\n",
    "print(\"The unique values in the dictionary values are : {}\".format(l))"
   ]
  },
  {
   "cell_type": "markdown",
   "id": "67db89b2",
   "metadata": {},
   "source": [
    "<b>Q2. </b>Write a Python program to find the sum of all items in a dictionary?"
   ]
  },
  {
   "cell_type": "code",
   "execution_count": 2,
   "id": "e981af9f",
   "metadata": {},
   "outputs": [
    {
     "name": "stdout",
     "output_type": "stream",
     "text": [
      "The sum of all items in a dictionary : 1500\n"
     ]
    }
   ],
   "source": [
    "d = {\"a\":200,\"b\":300,\"c\":400,\"d\":600}\n",
    "res = sum([v for k,v in d.items()])\n",
    "print(\"The sum of all items in a dictionary : {}\".format(res))"
   ]
  },
  {
   "cell_type": "markdown",
   "id": "609c571e",
   "metadata": {},
   "source": [
    "<b>Q3. </b>Write a Python program to Merging two Dictionaries?"
   ]
  },
  {
   "cell_type": "code",
   "execution_count": 3,
   "id": "e2ab8ab4",
   "metadata": {},
   "outputs": [
    {
     "name": "stdout",
     "output_type": "stream",
     "text": [
      "The merged dictionary is : {'a': 1, 'b': 2, 'd': 3, 'c': 4}\n"
     ]
    }
   ],
   "source": [
    "import copy\n",
    "dict1 = {'a': 1, 'b': 2}\n",
    "dict2 = {'d': 3, 'c': 4}\n",
    "dict3 = copy.deepcopy(dict1)\n",
    "dict3.update(dict2)\n",
    "print(\"The merged dictionary is : {}\".format(dict3))"
   ]
  },
  {
   "cell_type": "markdown",
   "id": "6b47995c",
   "metadata": {},
   "source": [
    "<b>Q4. </b>Write a Python program to convert key-values list to flat dictionary?"
   ]
  },
  {
   "cell_type": "code",
   "execution_count": 4,
   "id": "59566f9c",
   "metadata": {},
   "outputs": [
    {
     "name": "stdout",
     "output_type": "stream",
     "text": [
      "{1: 'Monday', 2: 'Tuesday', 3: 'Wednesday'}\n"
     ]
    }
   ],
   "source": [
    "d = {'day' : [1, 2, 3],\n",
    "    'Day' : ['Monday', 'Tuesday', 'Wednesday']}\n",
    "res = dict(zip(d['day'], d['Day']))\n",
    "print(res)"
   ]
  },
  {
   "cell_type": "markdown",
   "id": "eddec452",
   "metadata": {},
   "source": [
    "<b>Q5. </b>Write a Python program to insertion at the beginning in OrderedDict?"
   ]
  },
  {
   "cell_type": "code",
   "execution_count": 5,
   "id": "0c919602",
   "metadata": {},
   "outputs": [
    {
     "name": "stdout",
     "output_type": "stream",
     "text": [
      "The resulted dictionary is : OrderedDict([('d', 4), ('a', 1), ('b', 2), ('c', 3)])\n"
     ]
    }
   ],
   "source": [
    "from collections import OrderedDict\n",
    "ord_dict = OrderedDict([('a', 1), ('b', 2),('c', 3)])\n",
    "ord_dict.update({'d':4})\n",
    "ord_dict.move_to_end('d', last = False)\n",
    "print(\"The resulted dictionary is : {}\".format(ord_dict))"
   ]
  },
  {
   "cell_type": "markdown",
   "id": "ab5140a0",
   "metadata": {},
   "source": [
    "<b>Q6. </b>Write a Python program to check order of character in string using OrderedDict()?"
   ]
  },
  {
   "cell_type": "code",
   "execution_count": 6,
   "id": "f41cc889",
   "metadata": {},
   "outputs": [
    {
     "name": "stdout",
     "output_type": "stream",
     "text": [
      "Enter the sentence : engineers\n",
      "Enter the pattern : er\n",
      "The input string is in order.\n"
     ]
    }
   ],
   "source": [
    "from collections import OrderedDict  \n",
    "def checkOrder(s1, p1): \n",
    "    d1 = OrderedDict.fromkeys(s1) \n",
    "    ptrlen = 0\n",
    "    for k,v in d1.items(): \n",
    "        if (k == p1[ptrlen]):\n",
    "            ptrlen = ptrlen + 1\n",
    "        if (ptrlen == (len(p1))): \n",
    "            return 'true'\n",
    "    return 'false'\n",
    "s1 = input(\"Enter the sentence : \")\n",
    "p1 = input(\"Enter the pattern : \")\n",
    "q = checkOrder(s1,p1)\n",
    "if q:\n",
    "    print(\"The input string is in order.\")\n",
    "else:\n",
    "    print(\"The input sting is not in order.\")"
   ]
  },
  {
   "cell_type": "markdown",
   "id": "b1f66899",
   "metadata": {},
   "source": [
    "<b>Q7. </b>Write a Python program to sort Python Dictionaries by Key or Value?"
   ]
  },
  {
   "cell_type": "code",
   "execution_count": 7,
   "id": "1ac6841a",
   "metadata": {},
   "outputs": [
    {
     "name": "stdout",
     "output_type": "stream",
     "text": [
      "The original dictionary was                          : {'a': 5, 'e': 1, 'd': 3}\n",
      "After Sorting (accoring to key) the dictionary is    : {'a': 5, 'd': 3, 'e': 1}\n",
      "After Sorting (accoring to value) the dictionary is  : {'e': 1, 'd': 3, 'a': 5}\n"
     ]
    }
   ],
   "source": [
    "import operator\n",
    "d = {\"a\":5,\"e\":1,\"d\":3}\n",
    "print(\"The original dictionary was                          : {}\".format(d))\n",
    "q = dict(sorted(d.items(),key = operator.itemgetter(1)))\n",
    "r = dict(sorted(d.items(),key = operator.itemgetter(0)))\n",
    "print(\"After Sorting (accoring to key) the dictionary is    : {}\".format(r))\n",
    "print(\"After Sorting (accoring to value) the dictionary is  : {}\".format(q))"
   ]
  }
 ],
 "metadata": {
  "kernelspec": {
   "display_name": "Python 3 (ipykernel)",
   "language": "python",
   "name": "python3"
  },
  "language_info": {
   "codemirror_mode": {
    "name": "ipython",
    "version": 3
   },
   "file_extension": ".py",
   "mimetype": "text/x-python",
   "name": "python",
   "nbconvert_exporter": "python",
   "pygments_lexer": "ipython3",
   "version": "3.8.5"
  },
  "toc": {
   "base_numbering": 1,
   "nav_menu": {},
   "number_sections": true,
   "sideBar": true,
   "skip_h1_title": false,
   "title_cell": "Table of Contents",
   "title_sidebar": "Contents",
   "toc_cell": false,
   "toc_position": {},
   "toc_section_display": true,
   "toc_window_display": false
  }
 },
 "nbformat": 4,
 "nbformat_minor": 5
}
