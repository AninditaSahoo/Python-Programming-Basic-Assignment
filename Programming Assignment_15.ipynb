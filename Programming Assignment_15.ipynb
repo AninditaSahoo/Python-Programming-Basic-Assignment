{
 "cells": [
  {
   "cell_type": "markdown",
   "id": "fb00f279",
   "metadata": {},
   "source": [
    "# Python Programming Basic Assignment\n",
    "## Programming Assignment_15"
   ]
  },
  {
   "cell_type": "markdown",
   "id": "9c572be0",
   "metadata": {},
   "source": [
    "<b><u>Question 1:</u></b>\n",
    "\n",
    "Please write a program using generator to print the numbers which can be divisible by 5 and 7 between 0 and n in comma separated form while n is input by console.\n",
    "\n",
    "<b>Example:</b>\n",
    "\n",
    "If the following n is given as input to the program:<b>100</b>\n",
    "\n",
    "Then, the output of the program should be:<b>0,35,70</b>"
   ]
  },
  {
   "cell_type": "code",
   "execution_count": 1,
   "id": "1c382252",
   "metadata": {},
   "outputs": [
    {
     "name": "stdout",
     "output_type": "stream",
     "text": [
      "Enter a number : 100\n",
      "0,35,70,"
     ]
    }
   ],
   "source": [
    "def div5_7(num):\n",
    "    for i in range(num):\n",
    "        if i % 5 == 0 and i % 7 == 0:\n",
    "            yield i\n",
    "num = int(input(\"Enter a number : \"))\n",
    "for i in div5_7(num):\n",
    "    print(i,end = \",\")"
   ]
  },
  {
   "cell_type": "markdown",
   "id": "937a5a6d",
   "metadata": {},
   "source": [
    "<b>Answer :\n",
    "<br>Enter a number : 100\n",
    "<br>0,35,70,"
   ]
  },
  {
   "cell_type": "markdown",
   "id": "c857d5e2",
   "metadata": {},
   "source": [
    "<b><u>Question 2:</u></b>\n",
    "\n",
    "Please write a program using generator to print the even numbers between 0 and n in comma separated form while n is input by console.\n",
    "\n",
    "<b>Example:</b>\n",
    "    \n",
    "If the following n is given as input to the program:<b> 10</b>\n",
    "    \n",
    "Then, the output of the program should be:<b>0,2,4,6,8,10</b>"
   ]
  },
  {
   "cell_type": "code",
   "execution_count": 2,
   "id": "28171fee",
   "metadata": {},
   "outputs": [
    {
     "name": "stdout",
     "output_type": "stream",
     "text": [
      "Enter a number : 10\n",
      "0,2,4,6,8,10,"
     ]
    }
   ],
   "source": [
    "def div2(num):\n",
    "    for i in range(num+1):\n",
    "        if i % 2 == 0:\n",
    "            yield i\n",
    "num = int(input(\"Enter a number : \"))\n",
    "for i in div2(num):\n",
    "    print(i,end = \",\")"
   ]
  },
  {
   "cell_type": "markdown",
   "id": "d895f475",
   "metadata": {},
   "source": [
    "<b>Answer: \n",
    "<br>Enter a number : 10\n",
    "<br>0,2,4,6,8,10,</b>"
   ]
  },
  {
   "cell_type": "markdown",
   "id": "cd2abedf",
   "metadata": {},
   "source": [
    "<b><u>Question 3:</u></b>\n",
    "\n",
    "The Fibonacci Sequence is computed based on the following formula:\n",
    "f(n)=0 if n=0\n",
    "f(n)=1 if n=1\n",
    "f(n)=f(n-1)+f(n-2) if n>1\n",
    "Please write a program using list comprehension to print the Fibonacci Sequence in comma separated form with a given n input by console.\n",
    "\n",
    "<b>Example:</b>\n",
    "\n",
    "If the following n is given as input to the program:<b>7</b>\n",
    "\n",
    "Then, the output of the program should be:<b>0,1,1,2,3,5,8,13</b>"
   ]
  },
  {
   "cell_type": "code",
   "execution_count": 3,
   "id": "673c2fca",
   "metadata": {},
   "outputs": [
    {
     "name": "stdout",
     "output_type": "stream",
     "text": [
      "Enter a number : 7\n",
      "0,1,1,2,3,5,8,13,"
     ]
    }
   ],
   "source": [
    "def fibonacci(num):\n",
    "    a = 0\n",
    "    b = 1\n",
    "    print(a,end = \",\")\n",
    "    for i in range(num):\n",
    "        yield b\n",
    "        a, b = b, a+b\n",
    "num = int(input(\"Enter a number : \"))\n",
    "for i in fibonacci(num):\n",
    "    print(i,end = \",\")"
   ]
  },
  {
   "cell_type": "markdown",
   "id": "0e64721f",
   "metadata": {},
   "source": [
    "<b>Answer: \n",
    "<br>Enter a number : 7\n",
    "<br>0,1,1,2,3,5,8,13,</b>"
   ]
  },
  {
   "cell_type": "markdown",
   "id": "e3768257",
   "metadata": {},
   "source": [
    "<b><u>Question 4:</u></b>\n",
    "\n",
    "Assuming that we have some email addresses in the username@companyname.com format, please write program to print the user name of a given email address. Both user names and company names are composed of letters only.\n",
    "\n",
    "<b>Example:</b>\n",
    "\n",
    "If the following email address is given as input to the program: john@google.com\n",
    "\n",
    "Then, the output of the program should be:<b>john</b>"
   ]
  },
  {
   "cell_type": "code",
   "execution_count": 4,
   "id": "5fe53936",
   "metadata": {},
   "outputs": [
    {
     "name": "stdout",
     "output_type": "stream",
     "text": [
      "Enter the mail id : john@google.com\n",
      "john\n",
      "google\n"
     ]
    }
   ],
   "source": [
    "email = input(\"Enter the mail id : \")\n",
    "username,company = email.split(\"@\")\n",
    "companyname,domain = company.split(\".\")\n",
    "print(username)\n",
    "print(companyname)"
   ]
  },
  {
   "cell_type": "markdown",
   "id": "75284c96",
   "metadata": {},
   "source": [
    "<b>Answer :\n",
    "<br>Enter the mail id : john@google.com\n",
    "<br>john\n",
    "<br>google</b>"
   ]
  },
  {
   "cell_type": "markdown",
   "id": "4dce2d10",
   "metadata": {},
   "source": [
    "<b><u>Question 5:</u></b>\n",
    "\n",
    "Define a class named Shape and its subclass Square. The Square class has an <b>init</b> function which takes a length as argument. Both classes have a area function which can print the area of the shape where Shape&#39;s area is 0 by default."
   ]
  },
  {
   "cell_type": "code",
   "execution_count": 5,
   "id": "7f9b5ce8",
   "metadata": {},
   "outputs": [
    {
     "data": {
      "text/plain": [
       "'Area of the Square with length 10 is 100'"
      ]
     },
     "execution_count": 5,
     "metadata": {},
     "output_type": "execute_result"
    }
   ],
   "source": [
    "class Shape:\n",
    "    def area(self):\n",
    "        self.Area = 0\n",
    "        return \"Shape's area is {}\".format(self.Area)\n",
    "class Square(Shape):\n",
    "    def __init__(self,length):\n",
    "        self.length = length\n",
    "    def area(self):\n",
    "        self.Area = self.length**2\n",
    "        return \"Area of the {} with length {} is {}\".format(self.__class__.__name__,self.length,self.Area)\n",
    "sq = Square(10)\n",
    "sq.area()"
   ]
  },
  {
   "cell_type": "markdown",
   "id": "cf28c17d",
   "metadata": {},
   "source": [
    "<b>Answer : \n",
    "<br>'Area of the Square with length 10 is 100'</b>"
   ]
  }
 ],
 "metadata": {
  "kernelspec": {
   "display_name": "Python 3 (ipykernel)",
   "language": "python",
   "name": "python3"
  },
  "language_info": {
   "codemirror_mode": {
    "name": "ipython",
    "version": 3
   },
   "file_extension": ".py",
   "mimetype": "text/x-python",
   "name": "python",
   "nbconvert_exporter": "python",
   "pygments_lexer": "ipython3",
   "version": "3.8.5"
  },
  "toc": {
   "base_numbering": 1,
   "nav_menu": {},
   "number_sections": true,
   "sideBar": true,
   "skip_h1_title": false,
   "title_cell": "Table of Contents",
   "title_sidebar": "Contents",
   "toc_cell": false,
   "toc_position": {},
   "toc_section_display": true,
   "toc_window_display": false
  }
 },
 "nbformat": 4,
 "nbformat_minor": 5
}
