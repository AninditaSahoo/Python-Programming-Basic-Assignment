{
 "cells": [
  {
   "cell_type": "markdown",
   "id": "006fb047",
   "metadata": {},
   "source": [
    "# Python Programming Basic Assignment\n",
    "## Programming Assignment_8"
   ]
  },
  {
   "cell_type": "markdown",
   "id": "dc4caef6",
   "metadata": {},
   "source": [
    "<b>Q1. </b>Write a Python Program to Add Two Matrices?"
   ]
  },
  {
   "cell_type": "code",
   "execution_count": 1,
   "id": "09738445",
   "metadata": {},
   "outputs": [
    {
     "name": "stdout",
     "output_type": "stream",
     "text": [
      "Matrix a = \n",
      "[[1 3]\n",
      " [6 8]]\n",
      "Matrix b = \n",
      "[[2 4]\n",
      " [2 5]]\n",
      "Addition Result = \n",
      "[[ 3  7]\n",
      " [ 8 13]]\n"
     ]
    }
   ],
   "source": [
    "import numpy as np\n",
    "a = np.array([[1,3],[6,8]])\n",
    "b = np.array([[2,4],[2,5]])\n",
    "print(\"Matrix a = \\n{}\".format(a))\n",
    "print(\"Matrix b = \\n{}\".format(b))\n",
    "print(\"Addition Result = \\n{}\".format(a+b))"
   ]
  },
  {
   "cell_type": "markdown",
   "id": "3f47ca28",
   "metadata": {},
   "source": [
    "<b>Q2. </b>Write a Python Program to Multiply Two Matrices?"
   ]
  },
  {
   "cell_type": "code",
   "execution_count": 2,
   "id": "d9065f52",
   "metadata": {},
   "outputs": [
    {
     "name": "stdout",
     "output_type": "stream",
     "text": [
      "Matrix a = \n",
      "[[1 3]\n",
      " [6 8]]\n",
      "Matrix b = \n",
      "[[2 4]\n",
      " [2 5]]\n",
      "Multiplication Result = \n",
      "[[ 8 19]\n",
      " [28 64]]\n"
     ]
    }
   ],
   "source": [
    "import numpy as np\n",
    "a = np.array([[1,3],[6,8]])\n",
    "b = np.array([[2,4],[2,5]])\n",
    "print(\"Matrix a = \\n{}\".format(a))\n",
    "print(\"Matrix b = \\n{}\".format(b))\n",
    "print(\"Multiplication Result = \\n{}\".format(a.dot(b)))"
   ]
  },
  {
   "cell_type": "markdown",
   "id": "a1d59544",
   "metadata": {},
   "source": [
    "<b>Q3. </b>Write a Python Program to Transpose a Matrix?"
   ]
  },
  {
   "cell_type": "code",
   "execution_count": 3,
   "id": "5a5b4043",
   "metadata": {},
   "outputs": [
    {
     "name": "stdout",
     "output_type": "stream",
     "text": [
      "Matrix = \n",
      "[[1 3]\n",
      " [6 8]]\n",
      "Transpose = \n",
      "[[1 6]\n",
      " [3 8]]\n"
     ]
    }
   ],
   "source": [
    "import numpy as np\n",
    "a = np.array([[1,3],[6,8]])\n",
    "print(\"Matrix = \\n{}\".format(a))\n",
    "print(\"Transpose = \\n{}\".format(a.T))"
   ]
  },
  {
   "cell_type": "markdown",
   "id": "08529d9d",
   "metadata": {},
   "source": [
    "<b>Q4. </b>Write a Python Program to Sort Words in Alphabetic Order?"
   ]
  },
  {
   "cell_type": "code",
   "execution_count": 4,
   "id": "f1d3ee78",
   "metadata": {},
   "outputs": [
    {
     "name": "stdout",
     "output_type": "stream",
     "text": [
      "Enter some words : This is to check if it sort according to alphabetic order\n",
      "Sorted words : ['according', 'alphabetic', 'check', 'if', 'is', 'it', 'order', 'sort', 'this', 'to', 'to']\n"
     ]
    }
   ],
   "source": [
    "l = [i.lower() for i in input(\"Enter some words : \").split()]\n",
    "print(\"Sorted words : {}\".format(sorted(l)))"
   ]
  },
  {
   "cell_type": "markdown",
   "id": "c568220c",
   "metadata": {},
   "source": [
    "<b>Q5. </b>Write a Python Program to Remove Punctuation From a String?"
   ]
  },
  {
   "cell_type": "code",
   "execution_count": 5,
   "id": "47ab10b2",
   "metadata": {},
   "outputs": [
    {
     "name": "stdout",
     "output_type": "stream",
     "text": [
      "Enter your statement : Hello @just !!! check (if &= all punctuation is removed...\n",
      "After removing the punctuation :  Hello just  check if  all punctuation is removed"
     ]
    }
   ],
   "source": [
    "import string\n",
    "my_str = input(\"Enter your statement : \")\n",
    "print(\"After removing the punctuation : \",end = \" \")\n",
    "for i in my_str:\n",
    "    if i in string.punctuation:\n",
    "        continue\n",
    "    else:\n",
    "        print(i,end = \"\")"
   ]
  }
 ],
 "metadata": {
  "kernelspec": {
   "display_name": "Python 3 (ipykernel)",
   "language": "python",
   "name": "python3"
  },
  "language_info": {
   "codemirror_mode": {
    "name": "ipython",
    "version": 3
   },
   "file_extension": ".py",
   "mimetype": "text/x-python",
   "name": "python",
   "nbconvert_exporter": "python",
   "pygments_lexer": "ipython3",
   "version": "3.8.5"
  },
  "toc": {
   "base_numbering": 1,
   "nav_menu": {},
   "number_sections": true,
   "sideBar": true,
   "skip_h1_title": false,
   "title_cell": "Table of Contents",
   "title_sidebar": "Contents",
   "toc_cell": false,
   "toc_position": {},
   "toc_section_display": true,
   "toc_window_display": false
  }
 },
 "nbformat": 4,
 "nbformat_minor": 5
}
