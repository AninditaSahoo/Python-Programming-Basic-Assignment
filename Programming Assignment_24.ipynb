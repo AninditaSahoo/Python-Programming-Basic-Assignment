{
 "cells": [
  {
   "cell_type": "markdown",
   "id": "6ba81511",
   "metadata": {},
   "source": [
    "# Python Programming Basic Assignment\n",
    "## Programming Assignment_24"
   ]
  },
  {
   "cell_type": "markdown",
   "id": "6ebb26aa",
   "metadata": {},
   "source": [
    "<b><u>Question1</u></b>\n",
    "\n",
    "Create a function that takes an integer and returns a list from 1 to the given number, where:\n",
    "<ol>\n",
    "<li>If the number can be divided evenly by 4, amplify it by 10 (i.e. return 10 times the number).</li>\n",
    "<li>If the number cannot be divided evenly by 4, simply return the number.</li></ol>\n",
    "\n",
    "<b>Examples : </b>\n",
    "\n",
    "amplify(4) ➞ [1, 2, 3, 40]\n",
    "\n",
    "amplify(3) ➞ [1, 2, 3]\n",
    "\n",
    "amplify(25) ➞ [1, 2, 3, 40, 5, 6, 7, 80, 9, 10, 11, 120, 13, 14, 15, 160, 17, 18, 19, 200, 21, 22, 23, 240, 25]\n",
    "\n",
    "<b>Notes : </b>\n",
    "<li>The given integer will always be equal to or greater than 1.</li>\n",
    "<li>Include the number (see example above).</li>\n",
    "<li>To perform this problem with its intended purpose, try doing it with list comprehensions. If that&#39;s too difficult, just solve the challenge any way you can.</li>"
   ]
  },
  {
   "cell_type": "code",
   "execution_count": 1,
   "id": "80f89268",
   "metadata": {},
   "outputs": [
    {
     "name": "stdout",
     "output_type": "stream",
     "text": [
      "Enter the number : 25\n",
      "[1, 2, 3, 40, 5, 6, 7, 80, 9, 10, 11, 120, 13, 14, 15, 160, 17, 18, 19, 200, 21, 22, 23, 240, 25]\n"
     ]
    }
   ],
   "source": [
    "def amplify(num):\n",
    "    l = []\n",
    "    for i in range(1,num+1):\n",
    "        if i%4 == 0:\n",
    "            l.append(i*10)\n",
    "        else:\n",
    "            l.append(i)\n",
    "    return l\n",
    "num = int(input(\"Enter the number : \"))\n",
    "print(amplify(num))"
   ]
  },
  {
   "cell_type": "markdown",
   "id": "56f741e6",
   "metadata": {},
   "source": [
    "<b>Answer:\n",
    "<br>Enter the number : 25\n",
    "<br>[1, 2, 3, 40, 5, 6, 7, 80, 9, 10, 11, 120, 13, 14, 15, 160, 17, 18, 19, 200, 21, 22, 23, 240, 25]</b>"
   ]
  },
  {
   "cell_type": "markdown",
   "id": "3a4935c0",
   "metadata": {},
   "source": [
    "<b><u>Question2</u></b>\n",
    "\n",
    "Create a function that takes a list of numbers and return the number that&#39;s unique.\n",
    "\n",
    "<b>Examples : </b>\n",
    "\n",
    "unique([3, 3, 3, 7, 3, 3]) ➞ 7\n",
    "\n",
    "unique([0, 0, 0.77, 0, 0]) ➞ 0.77\n",
    "\n",
    "unique([0, 1, 1, 1, 1, 1, 1, 1]) ➞ 0\n",
    "\n",
    "<b>Notes : </b>\n",
    "\n",
    "Test cases will always have exactly one unique number while all others are the same."
   ]
  },
  {
   "cell_type": "code",
   "execution_count": 2,
   "id": "e6cf57fe",
   "metadata": {},
   "outputs": [
    {
     "name": "stdout",
     "output_type": "stream",
     "text": [
      "Enter the list : [3, 3, 3, 7, 3, 3]\n",
      "7\n"
     ]
    }
   ],
   "source": [
    "def unique(l):\n",
    "    s = set(l)\n",
    "    for i in s:\n",
    "        if l.count(i) == 1:\n",
    "            return i\n",
    "l = eval(input(\"Enter the list : \"))\n",
    "print(unique(l))"
   ]
  },
  {
   "cell_type": "markdown",
   "id": "351b1f55",
   "metadata": {},
   "source": [
    "<b>Answer:\n",
    "<br>Enter the list : [3, 3, 3, 7, 3, 3]\n",
    "<br>7</b>"
   ]
  },
  {
   "cell_type": "markdown",
   "id": "9c2047c5",
   "metadata": {},
   "source": [
    "<b><u>Question3</u></b>\n",
    "\n",
    "Your task is to create a Circle constructor that creates a circle with a radius provided by an argument. The circles constructed must have two getters getArea() (PIr^2) and getPerimeter() (2PI*r) which give both respective areas and perimeter (circumference).\n",
    "\n",
    "For help with this class, I have provided you with a Rectangle constructor which you can use as a base example.\n",
    "\n",
    "<b>Examples : </b>\n",
    "\n",
    "circy = Circle(11)\n",
    "\n",
    "circy.getArea() # Should return 380.132711084365\n",
    "\n",
    "circy = Circle(4.44)\n",
    "\n",
    "circy.getPerimeter() # Should return 27.897342763877365\n",
    "\n",
    "<b>Notes : </b>\n",
    "\n",
    "Round results up to the nearest integer."
   ]
  },
  {
   "cell_type": "code",
   "execution_count": 3,
   "id": "4dcf4d8b",
   "metadata": {},
   "outputs": [
    {
     "name": "stdout",
     "output_type": "stream",
     "text": [
      "The area of the circle is 380.132711084365\n",
      "The perimeter of the circle is 27.897342763877365\n"
     ]
    }
   ],
   "source": [
    "import math\n",
    "class Circle:\n",
    "    def __init__(self,radius):\n",
    "        self.__radius = radius\n",
    "    def getArea(self):\n",
    "        return math.pi*(self.__radius**2)\n",
    "    def getPerimeter(self):\n",
    "        return 2*math.pi*self.__radius\n",
    "circy = Circle(11)\n",
    "print(\"The area of the circle is {}\".format(circy.getArea()))\n",
    "circy = Circle(4.44)\n",
    "print(\"The perimeter of the circle is {}\".format(circy.getPerimeter()))"
   ]
  },
  {
   "cell_type": "markdown",
   "id": "08631522",
   "metadata": {},
   "source": [
    "<b>Answer:\n",
    "<br>The area of the circle is 380.132711084365\n",
    "<br>The perimeter of the circle is 27.897342763877365</b>"
   ]
  },
  {
   "cell_type": "markdown",
   "id": "668cb17e",
   "metadata": {},
   "source": [
    "<b><u>Question4</u></b>\n",
    "\n",
    "Create a function that takes a list of strings and return a list, sorted from shortest to longest.\n",
    "\n",
    "<b>Examples : </b>\n",
    "\n",
    "sort_by_length([&quot;Google&quot;, &quot;Apple&quot;, &quot;Microsoft&quot;])\n",
    "➞ [&quot;Apple&quot;, &quot;Google&quot;, &quot;Microsoft&quot;]\n",
    "\n",
    "sort_by_length([&quot;Leonardo&quot;, &quot;Michelangelo&quot;, &quot;Raphael&quot;, &quot;Donatello&quot;])\n",
    "➞ [&quot;Raphael&quot;, &quot;Leonardo&quot;, &quot;Donatello&quot;, &quot;Michelangelo&quot;]\n",
    "\n",
    "sort_by_length([&quot;Turing&quot;, &quot;Einstein&quot;, &quot;Jung&quot;])\n",
    "➞ [&quot;Jung&quot;, &quot;Turing&quot;, &quot;Einstein&quot;]\n",
    "\n",
    "<b>Notes : </b>\n",
    "\n",
    "All test cases contain lists with strings of different lengths, so you won&#39;t have to deal with multiple strings of the same length."
   ]
  },
  {
   "cell_type": "code",
   "execution_count": 4,
   "id": "6d48a17a",
   "metadata": {},
   "outputs": [
    {
     "name": "stdout",
     "output_type": "stream",
     "text": [
      "Enter the list : [\"Turing\", \"Einstein\", \"Jung\"]\n",
      "['Jung', 'Turing', 'Einstein']\n"
     ]
    }
   ],
   "source": [
    "import operator\n",
    "def sort_by_length(l):\n",
    "    d = {i:len(i) for i in l}\n",
    "    q = sorted(d.items(), key=operator.itemgetter(1))\n",
    "    return list(dict(q).keys())\n",
    "l = eval(input(\"Enter the list : \"))\n",
    "print(sort_by_length(l))"
   ]
  },
  {
   "cell_type": "markdown",
   "id": "0c2ae124",
   "metadata": {},
   "source": [
    "<b>Answer:\n",
    "<br>Enter the list : [\"Turing\", \"Einstein\", \"Jung\"]\n",
    "<br>['Jung', 'Turing', 'Einstein']</b>"
   ]
  },
  {
   "cell_type": "markdown",
   "id": "a1283700",
   "metadata": {},
   "source": [
    "<b><u>Question5</u></b>\n",
    "\n",
    "Create a function that validates whether three given integers form a Pythagorean triplet. The sum of the squares of the two smallest integers must equal the square of the largest number to be validated.\n",
    "\n",
    "<b>Examples : </b>\n",
    "\n",
    "is_triplet(3, 4, 5) ➞ True # 3² + 4² = 25 # 5² = 25\n",
    "\n",
    "is_triplet(13, 5, 12) ➞ True # 5² + 12² = 169 # 13² = 169\n",
    "\n",
    "is_triplet(1, 2, 3) ➞ False # 1² + 2² = 5 # 3² = 9\n",
    "\n",
    "<b>Notes</b>\n",
    "\n",
    "Numbers may not be given in a sorted order."
   ]
  },
  {
   "cell_type": "code",
   "execution_count": 5,
   "id": "68f246e5",
   "metadata": {},
   "outputs": [
    {
     "name": "stdout",
     "output_type": "stream",
     "text": [
      "Enter 3 integer values (with comma separated): 13, 5, 12\n",
      "True\n"
     ]
    }
   ],
   "source": [
    "def is_triplet(a,b,c):\n",
    "    l = []\n",
    "    l.extend([a,b,c])\n",
    "    l.sort()\n",
    "    if l[0]**2+l[1]**2 == l[2]**2:\n",
    "        return True\n",
    "    else:\n",
    "        return False\n",
    "a,b,c = input(\"Enter 3 integer values (with comma separated): \").split(\",\")\n",
    "a = int(a)\n",
    "b = int(b)\n",
    "c = int(c)\n",
    "print(is_triplet(a,b,c))"
   ]
  },
  {
   "cell_type": "markdown",
   "id": "57cde601",
   "metadata": {},
   "source": [
    "<b>Answer:\n",
    "<br>Enter 3 integer values (with comma separated): 13, 5, 12\n",
    "<br>True</b>"
   ]
  }
 ],
 "metadata": {
  "kernelspec": {
   "display_name": "Python 3 (ipykernel)",
   "language": "python",
   "name": "python3"
  },
  "language_info": {
   "codemirror_mode": {
    "name": "ipython",
    "version": 3
   },
   "file_extension": ".py",
   "mimetype": "text/x-python",
   "name": "python",
   "nbconvert_exporter": "python",
   "pygments_lexer": "ipython3",
   "version": "3.8.5"
  },
  "toc": {
   "base_numbering": 1,
   "nav_menu": {},
   "number_sections": true,
   "sideBar": true,
   "skip_h1_title": false,
   "title_cell": "Table of Contents",
   "title_sidebar": "Contents",
   "toc_cell": false,
   "toc_position": {},
   "toc_section_display": true,
   "toc_window_display": false
  }
 },
 "nbformat": 4,
 "nbformat_minor": 5
}
