{
 "cells": [
  {
   "cell_type": "markdown",
   "id": "2ba8e2dd",
   "metadata": {},
   "source": [
    "# Python Programming Basic Assignment\n",
    "## Programming Assignment_11"
   ]
  },
  {
   "cell_type": "markdown",
   "id": "cfe0cfad",
   "metadata": {},
   "source": [
    "<b>Q1. </b>Write a Python program to find words which are greater than given length k?"
   ]
  },
  {
   "cell_type": "code",
   "execution_count": 1,
   "id": "5d4cf9ee",
   "metadata": {},
   "outputs": [
    {
     "name": "stdout",
     "output_type": "stream",
     "text": [
      "Enter the words (with space separated) : Checking your coding style\n",
      "Enter the length : 5\n",
      "The words whose length is greater than length 5 are : ['Checking', 'coding']\n"
     ]
    }
   ],
   "source": [
    "l = [i for i in input(\"Enter the words (with space separated) : \").split()]\n",
    "k = int(input(\"Enter the length : \"))\n",
    "q = [i for i in l if len(i)>k]\n",
    "print(\"The words whose length is greater than length {} are : {}\".format(k,q))"
   ]
  },
  {
   "cell_type": "markdown",
   "id": "1cf36a88",
   "metadata": {},
   "source": [
    "<b>Q2. </b>Write a Python program for removing i-th character from a string?"
   ]
  },
  {
   "cell_type": "code",
   "execution_count": 2,
   "id": "85e1a73b",
   "metadata": {},
   "outputs": [
    {
     "name": "stdout",
     "output_type": "stream",
     "text": [
      "Enter the word : these\n",
      "Enter the position :2\n",
      "thse\n"
     ]
    }
   ],
   "source": [
    "s = input(\"Enter the word : \")\n",
    "i = int(input(\"Enter the position :\"))\n",
    "q = \"\".join([s[k] for k in range(len(s)) if k!=i])\n",
    "print(q)"
   ]
  },
  {
   "cell_type": "markdown",
   "id": "83387756",
   "metadata": {},
   "source": [
    "<b>Q3. </b>Write a Python program to split and join a string?"
   ]
  },
  {
   "cell_type": "code",
   "execution_count": 3,
   "id": "a547da12",
   "metadata": {},
   "outputs": [
    {
     "name": "stdout",
     "output_type": "stream",
     "text": [
      "Enter a word : this is to Check the detail\n",
      "The Splited word is : ['this', 'is', 'to', 'Check', 'the', 'detail']\n",
      "The joined word is : this is to Check the detail\n"
     ]
    }
   ],
   "source": [
    "s = input(\"Enter a word : \")\n",
    "q = s.split()\n",
    "r = \" \".join(q)\n",
    "print(\"The Splited word is : {}\".format(q))\n",
    "print(\"The joined word is : {}\".format(r))"
   ]
  },
  {
   "cell_type": "markdown",
   "id": "f92ddfed",
   "metadata": {},
   "source": [
    "<b>Q4. </b>Write a Python to check if a given string is binary string or not?"
   ]
  },
  {
   "cell_type": "code",
   "execution_count": 4,
   "id": "cdd9a7f8",
   "metadata": {},
   "outputs": [
    {
     "name": "stdout",
     "output_type": "stream",
     "text": [
      "Enter the string : 101110\n",
      "The given string is binary string.\n"
     ]
    }
   ],
   "source": [
    "s = input(\"Enter the string : \")\n",
    "q = set(s)\n",
    "if q == {'0'} or q == {'1'} or q == {'0','1'}:\n",
    "    print(\"The given string is binary string.\")\n",
    "else:\n",
    "    print(\"The given string is not a binary string.\")"
   ]
  },
  {
   "cell_type": "markdown",
   "id": "a4493080",
   "metadata": {},
   "source": [
    "<b>Q5. </b>Write a Python program to find uncommon words from two Strings?"
   ]
  },
  {
   "cell_type": "code",
   "execution_count": 5,
   "id": "f3b6ebde",
   "metadata": {},
   "outputs": [
    {
     "name": "stdout",
     "output_type": "stream",
     "text": [
      "Enter the sentence 1 : this is okay\n",
      "Enter the sentence 2 : these are okay\n",
      "{'is', 'these', 'are', 'this'}\n"
     ]
    }
   ],
   "source": [
    "s1 = input(\"Enter the sentence 1 : \")\n",
    "s2 = input(\"Enter the sentence 2 : \")\n",
    "l1 = set(s1.split())\n",
    "l2 = set(s2.split())\n",
    "print(l1.symmetric_difference(l2))"
   ]
  },
  {
   "cell_type": "markdown",
   "id": "d37574a0",
   "metadata": {},
   "source": [
    "<b>Q6. </b>Write a Python to find all duplicate characters in string?"
   ]
  },
  {
   "cell_type": "code",
   "execution_count": 6,
   "id": "0dce3b75",
   "metadata": {},
   "outputs": [
    {
     "name": "stdout",
     "output_type": "stream",
     "text": [
      "Enter the sentence : this is a repeatation check\n",
      "The duplicate characters are : ['c', 'a', 't', ' ', 'h', 'i', 's', 'e']\n"
     ]
    }
   ],
   "source": [
    "s = input(\"Enter the sentence : \")\n",
    "s1 = set(s)\n",
    "l = []\n",
    "for j in s1:\n",
    "    if s.count(j) > 1:\n",
    "        l.append(j)\n",
    "print(\"The duplicate characters are : {}\".format(l))"
   ]
  },
  {
   "cell_type": "markdown",
   "id": "4cc12e9e",
   "metadata": {},
   "source": [
    "<b>Q7. </b>Write a Python Program to check if a string contains any special character?"
   ]
  },
  {
   "cell_type": "code",
   "execution_count": 7,
   "id": "d52a8216",
   "metadata": {},
   "outputs": [
    {
     "name": "stdout",
     "output_type": "stream",
     "text": [
      "Enter the string : this is to verify !!! (if @ all punctuation.\n",
      "The entered string contains Special Character.\n"
     ]
    }
   ],
   "source": [
    "import string\n",
    "s = input(\"Enter the string : \")\n",
    "for i in s:\n",
    "    if i in string.punctuation:\n",
    "        print(\"The entered string contains Special Character.\")\n",
    "        break\n",
    "else:\n",
    "    print(\"The entered string doesn't contain any special character.\")"
   ]
  }
 ],
 "metadata": {
  "kernelspec": {
   "display_name": "Python 3 (ipykernel)",
   "language": "python",
   "name": "python3"
  },
  "language_info": {
   "codemirror_mode": {
    "name": "ipython",
    "version": 3
   },
   "file_extension": ".py",
   "mimetype": "text/x-python",
   "name": "python",
   "nbconvert_exporter": "python",
   "pygments_lexer": "ipython3",
   "version": "3.8.5"
  },
  "toc": {
   "base_numbering": 1,
   "nav_menu": {},
   "number_sections": true,
   "sideBar": true,
   "skip_h1_title": false,
   "title_cell": "Table of Contents",
   "title_sidebar": "Contents",
   "toc_cell": false,
   "toc_position": {},
   "toc_section_display": true,
   "toc_window_display": false
  }
 },
 "nbformat": 4,
 "nbformat_minor": 5
}
