{
 "cells": [
  {
   "cell_type": "markdown",
   "id": "81452a28",
   "metadata": {},
   "source": [
    "# Python Programming Basic Assignment\n",
    "## Programming Assignment_18"
   ]
  },
  {
   "cell_type": "markdown",
   "id": "bb96eddb",
   "metadata": {},
   "source": [
    "<b><u>Question 1 </u></b>\n",
    "\n",
    "Create a function that takes a list of non-negative integers and strings and return a new list without the strings.\n",
    "\n",
    "<b>Examples : </b>\n",
    "\n",
    "filter_list([1, 2, &quot;a&quot;, &quot;b&quot;]) ➞ [1, 2]\n",
    "\n",
    "filter_list([1, &quot;a&quot;, &quot;b&quot;, 0, 15]) ➞ [1, 0, 15]\n",
    "\n",
    "filter_list([1, 2, &quot;aasf&quot;, &quot;1&quot;, &quot;123&quot;, 123]) ➞ [1, 2, 123]"
   ]
  },
  {
   "cell_type": "code",
   "execution_count": 1,
   "id": "9a84311e",
   "metadata": {},
   "outputs": [
    {
     "name": "stdout",
     "output_type": "stream",
     "text": [
      "Provide the list : [1, 2, \"aasf\", \"1\", \"123\", 123]\n",
      "[1, 2, 123]\n"
     ]
    }
   ],
   "source": [
    "def filter_list(l):\n",
    "    global ans\n",
    "    for i in l:\n",
    "        if type(i) == int:\n",
    "            if i >= 0 :\n",
    "                ans.append(i)\n",
    "    return ans\n",
    "l = eval(input(\"Provide the list : \"))\n",
    "global ans\n",
    "ans = []\n",
    "print(filter_list(l))"
   ]
  },
  {
   "cell_type": "markdown",
   "id": "55dea0ff",
   "metadata": {},
   "source": [
    "<b> Answer:\n",
    "<br>Provide the list : [1, 2, \"aasf\", \"1\", \"123\", 123]\n",
    "<br>[1, 2, 123]</b>"
   ]
  },
  {
   "cell_type": "markdown",
   "id": "283be9ac",
   "metadata": {},
   "source": [
    "<b><u>Question 2</u></b>\n",
    "\n",
    "The \"Reverser\" takes a string as input and returns that string in reverse order, with the opposite case.\n",
    "\n",
    "<b>Examples : </b>\n",
    "\n",
    "reverse(\"Hello World\") ➞ \"DLROw OLLEh\"\n",
    "\n",
    "reverse(\"ReVeRsE\") ➞ \"eSrEvEr\"\n",
    "\n",
    "reverse(\"Radar\") ➞ \"RADAr\""
   ]
  },
  {
   "cell_type": "code",
   "execution_count": 2,
   "id": "6372f61b",
   "metadata": {},
   "outputs": [
    {
     "name": "stdout",
     "output_type": "stream",
     "text": [
      "Enter the string : ReVeRsE\n",
      "eSrEvEr\n"
     ]
    }
   ],
   "source": [
    "def reverse(s):\n",
    "    return s[::-1].swapcase()\n",
    "s = input(\"Enter the string : \")\n",
    "print(reverse(s))"
   ]
  },
  {
   "cell_type": "markdown",
   "id": "5ed40862",
   "metadata": {},
   "source": [
    "<b>Answer: \n",
    "<br>Enter the string : ReVeRsE\n",
    "<br>eSrEvEr</b>"
   ]
  },
  {
   "cell_type": "markdown",
   "id": "6422e8cf",
   "metadata": {},
   "source": [
    "<b><u>Question 3</u></b>\n",
    "\n",
    "You can assign variables from lists like this:\n",
    "\n",
    "<b>lst = [1, 2, 3, 4, 5, 6]\n",
    "\n",
    "<b>first = lst[0]\n",
    "\n",
    "<b>middle = lst[1:-1]\n",
    "\n",
    "<b>last = lst[-1]</b>\n",
    "\n",
    "print(first) ➞ outputs 1\n",
    "\n",
    "print(middle) ➞ outputs [2, 3, 4, 5]\n",
    "\n",
    "print(last) ➞ outputs 6\n",
    "\n",
    "With Python 3, you can assign variables from lists in a much more succinct way. Create variables first, middle and last from the given list using destructuring assignment (check the Resources tab for some examples), where:\n",
    "\n",
    "first ➞ 1\n",
    "\n",
    "middle ➞ [2, 3, 4, 5]\n",
    "\n",
    "last ➞ 6\n",
    "\n",
    "Your task is to unpack the list writeyourcodehere into three variables, being first, middle, and last, with middle being everything in between the first and last element. Then print all three variables."
   ]
  },
  {
   "cell_type": "code",
   "execution_count": 3,
   "id": "b127eb35",
   "metadata": {},
   "outputs": [
    {
     "name": "stdout",
     "output_type": "stream",
     "text": [
      "Enter the list : [1, 2, 3, 4, 5, 6]\n",
      "outputs 1\n",
      "outputs [2, 3, 4, 5]\n",
      "outputs 6\n"
     ]
    }
   ],
   "source": [
    "lst = eval(input(\"Enter the list : \"))\n",
    "first = lst[0]\n",
    "middle = lst[1:-1]\n",
    "last = lst[-1]\n",
    "print(\"outputs {}\".format(first))\n",
    "print(\"outputs {}\".format(middle))\n",
    "print(\"outputs {}\".format(last))"
   ]
  },
  {
   "cell_type": "markdown",
   "id": "25380bfe",
   "metadata": {},
   "source": [
    "<b>Answer:\n",
    "<br>Enter the list : [1, 2, 3, 4, 5, 6]\n",
    "<br>outputs 1\n",
    "<br>outputs [2, 3, 4, 5]\n",
    "<br>outputs 6</b>"
   ]
  },
  {
   "cell_type": "markdown",
   "id": "f53d8cf3",
   "metadata": {},
   "source": [
    "<b><u>Question 4</u></b>\n",
    "\n",
    "Write a function that calculates the factorial of a number recursively.\n",
    "\n",
    "<b>Examples:</b>\n",
    "\n",
    "factorial(5) ➞ 120\n",
    "\n",
    "factorial(3) ➞ 6\n",
    "\n",
    "factorial(1) ➞ 1\n",
    "\n",
    "factorial(0) ➞ 1"
   ]
  },
  {
   "cell_type": "code",
   "execution_count": 4,
   "id": "3cb75239",
   "metadata": {},
   "outputs": [
    {
     "name": "stdout",
     "output_type": "stream",
     "text": [
      "Enter a number : 0\n",
      "1\n"
     ]
    }
   ],
   "source": [
    "def factorial(num):\n",
    "    if num == 1 or num == 0:\n",
    "        return 1\n",
    "    else:\n",
    "        return num*factorial(num-1)\n",
    "    return num*factorial(num-1)\n",
    "num = int(input(\"Enter a number : \"))\n",
    "print(factorial(num))"
   ]
  },
  {
   "cell_type": "markdown",
   "id": "1e938737",
   "metadata": {},
   "source": [
    "<b>Answer: \n",
    "<br>Enter a number : 0\n",
    "<br>1</b>"
   ]
  },
  {
   "cell_type": "markdown",
   "id": "cbb408a7",
   "metadata": {},
   "source": [
    "<b><u>Question 5 </u></b>\n",
    "\n",
    "Write a function that moves all elements of one type to the end of the list.\n",
    "\n",
    "<b>Examples :</b>\n",
    "\n",
    "move_to_end([1, 3, 2, 4, 4, 1], 1) ➞ [3, 2, 4, 4, 1, 1]  # Move all the 1s to the end of the array.\n",
    "\n",
    "move_to_end([7, 8, 9, 1, 2, 3, 4], 9) ➞ [7, 8, 1, 2, 3, 4, 9]\n",
    "\n",
    "move_to_end([&quot;a&quot;, &quot;a&quot;, &quot;a&quot;, &quot;b&quot;], &quot;a&quot;) ➞ [&quot;b&quot;, &quot;a&quot;, &quot;a&quot;, &quot;a&quot;]"
   ]
  },
  {
   "cell_type": "code",
   "execution_count": 5,
   "id": "22351c4f",
   "metadata": {},
   "outputs": [
    {
     "name": "stdout",
     "output_type": "stream",
     "text": [
      "Enter the list : [1, 3, 2, 4, 4, 1]\n",
      "Enter the element : 1\n"
     ]
    },
    {
     "data": {
      "text/plain": [
       "[3, 2, 4, 4, 1, 1]"
      ]
     },
     "execution_count": 5,
     "metadata": {},
     "output_type": "execute_result"
    }
   ],
   "source": [
    "def move_to_end(l,ele):\n",
    "    new_l1 = []\n",
    "    new_l2 = []\n",
    "    if ele.isnumeric():\n",
    "        ele = int(ele)\n",
    "    for i in l:\n",
    "        if i == ele:\n",
    "            new_l1.append(i)\n",
    "        else:\n",
    "            new_l2.append(i)\n",
    "    return new_l2+new_l1\n",
    "l = eval(input(\"Enter the list : \"))\n",
    "ele = input(\"Enter the element : \")\n",
    "move_to_end(l,ele)"
   ]
  },
  {
   "cell_type": "markdown",
   "id": "2046e60b",
   "metadata": {},
   "source": [
    "<b>Answer:\n",
    "<br>Enter the list : [1, 3, 2, 4, 4, 1]\n",
    "<br>Enter the element : 1\n",
    "<br>[3, 2, 4, 4, 1, 1]</b>"
   ]
  }
 ],
 "metadata": {
  "kernelspec": {
   "display_name": "Python 3 (ipykernel)",
   "language": "python",
   "name": "python3"
  },
  "language_info": {
   "codemirror_mode": {
    "name": "ipython",
    "version": 3
   },
   "file_extension": ".py",
   "mimetype": "text/x-python",
   "name": "python",
   "nbconvert_exporter": "python",
   "pygments_lexer": "ipython3",
   "version": "3.8.5"
  },
  "toc": {
   "base_numbering": 1,
   "nav_menu": {},
   "number_sections": true,
   "sideBar": true,
   "skip_h1_title": false,
   "title_cell": "Table of Contents",
   "title_sidebar": "Contents",
   "toc_cell": false,
   "toc_position": {},
   "toc_section_display": true,
   "toc_window_display": false
  }
 },
 "nbformat": 4,
 "nbformat_minor": 5
}
